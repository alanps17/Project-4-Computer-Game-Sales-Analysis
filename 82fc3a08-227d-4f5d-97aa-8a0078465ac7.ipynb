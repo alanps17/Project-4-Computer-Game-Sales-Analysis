{
 "cells": [
  {
   "cell_type": "markdown",
   "metadata": {},
   "source": [
    "### **Шаг 1. Откройте файл с данными и изучите общую информацию**"
   ]
  },
  {
   "cell_type": "markdown",
   "metadata": {},
   "source": [
    "#### **Путь к файлу: /datasets/games.csv**"
   ]
  },
  {
   "cell_type": "code",
   "execution_count": 1,
   "metadata": {},
   "outputs": [],
   "source": [
    "import pandas as pd # Импортируем библиотеку pandas\n",
    "import numpy as np # Импортируем библиотеку numpy\n",
    "import matplotlib.pyplot as plt # Импортируем библиотеку matplotlib.pyplot, которая нужна для построения графиков\n",
    "import seaborn as sns # Импортируем библиотеку для построения статистических графиков\n",
    "from scipy import stats "
   ]
  },
  {
   "cell_type": "code",
   "execution_count": 2,
   "metadata": {},
   "outputs": [
    {
     "name": "stdout",
     "output_type": "stream",
     "text": [
      "<class 'pandas.core.frame.DataFrame'>\n",
      "RangeIndex: 16715 entries, 0 to 16714\n",
      "Data columns (total 11 columns):\n",
      " #   Column           Non-Null Count  Dtype  \n",
      "---  ------           --------------  -----  \n",
      " 0   Name             16713 non-null  object \n",
      " 1   Platform         16715 non-null  object \n",
      " 2   Year_of_Release  16446 non-null  float64\n",
      " 3   Genre            16713 non-null  object \n",
      " 4   NA_sales         16715 non-null  float64\n",
      " 5   EU_sales         16715 non-null  float64\n",
      " 6   JP_sales         16715 non-null  float64\n",
      " 7   Other_sales      16715 non-null  float64\n",
      " 8   Critic_Score     8137 non-null   float64\n",
      " 9   User_Score       10014 non-null  object \n",
      " 10  Rating           9949 non-null   object \n",
      "dtypes: float64(6), object(5)\n",
      "memory usage: 1.4+ MB\n"
     ]
    }
   ],
   "source": [
    "data=pd.read_csv('/datasets/games.csv') # Читаем файл с данными и сохраняем его в переменную data\n",
    "data.info() # Выводим общую информацию о датафрейме"
   ]
  },
  {
   "cell_type": "code",
   "execution_count": 3,
   "metadata": {},
   "outputs": [
    {
     "name": "stdout",
     "output_type": "stream",
     "text": [
      "0\n",
      "2\n"
     ]
    }
   ],
   "source": [
    "#Проверяем явные дубликаты \n",
    "print(data.duplicated().sum()) \n",
    "#Проверяем неявные дубликаты \n",
    "print(data.duplicated(subset=['Name', 'Platform', 'Year_of_Release']).sum()) \n",
    "#Удаляем явные и неявные дубликаты \n",
    "data = data.drop_duplicates(subset=['Name', 'Platform', 'Year_of_Release']) "
   ]
  },
  {
   "cell_type": "markdown",
   "metadata": {},
   "source": [
    "**Вывод**\n",
    "+ Мы импортировали необходимые библиотеки для работы с данными и построения графиков.\n",
    "+ Мы прочитали файл с данными и сохранили его в датафрейм data.\n",
    "+ Мы вывели общую информацию о датафрейме и увидели, что он содержит 16 столбцов и 16715 строк, а также имеет пропущенные значения в некоторых столбцах.\n",
    "+ Мы проверили наличие явных и неявных дубликатов в датафрейме.\n",
    "+ Мы удалили дубликаты из датафрейма и получили более чистые данные для дальнейшего анализа."
   ]
  },
  {
   "cell_type": "markdown",
   "metadata": {},
   "source": [
    "### **Шаг 2. Подготовьте данные**"
   ]
  },
  {
   "cell_type": "markdown",
   "metadata": {},
   "source": [
    "#### **Замените названия столбцов (приведите к нижнему регистру);**"
   ]
  },
  {
   "cell_type": "code",
   "execution_count": 4,
   "metadata": {},
   "outputs": [],
   "source": [
    "data.columns = data.columns.str.lower() # Заменяем названия столбцов на нижний регистр\n"
   ]
  },
  {
   "cell_type": "markdown",
   "metadata": {},
   "source": [
    "#### **Преобразуйте данные в нужные типы. Опишите, в каких столбцах заменили тип данных и почему;**"
   ]
  },
  {
   "cell_type": "code",
   "execution_count": 5,
   "metadata": {},
   "outputs": [],
   "source": [
    "data['year_of_release'] = data['year_of_release'].astype('Int64')\n",
    "data['user_score'] = data['user_score'].replace('tbd', np.nan).astype('float64')\n",
    "data['rating'] = data['rating'].astype('category')\n",
    "\n"
   ]
  },
  {
   "cell_type": "markdown",
   "metadata": {},
   "source": [
    "#### **Обработайте пропуски при необходимости:**"
   ]
  },
  {
   "cell_type": "markdown",
   "metadata": {},
   "source": [
    "+ Объясните, почему заполнили пропуски определённым образом или почему не стали это делать;    \n",
    "+ Опишите причины, которые могли привести к пропускам;    \n",
    "+ Обратите внимание на аббревиатуру 'tbd' в столбце с оценкой пользователей. Отдельно разберите это значение и опишите, как его обработать;\n",
    "+ Посчитайте суммарные продажи во всех регионах и запишите их в отдельный столбец."
   ]
  },
  {
   "cell_type": "markdown",
   "metadata": {},
   "source": [
    "1. Я не заполнил пропуски в столбцах **name и genre**, потому что это категориальные переменные, \n",
    "которые нельзя заменить средним или медианным значением. \n",
    "Кроме того, этих пропусков всего два, поэтому они не сильно повлияют на анализ данных.\n",
    "2. Я не заполнил пропуски в столбце **year_of_release**, потому что это целочисленная переменная, которая может быть важна для исследования динамики рынка видеоигр. Если я заменю пропуски на средний или медианный год выпуска, это может исказить результаты анализа. Кроме того, этих пропусков около 1.6% от общего числа данных, поэтому они не сильно повлияют на анализ данных.\n",
    "3. Я не заполнил пропуски в столбцах **critic_score и user_score**, потому что это числовые переменные, которые отражают субъективную оценку игр критиками и пользователями. Если я заменю пропуски на средний или медианный балл, это может исказить результаты анализа. Кроме того, этих пропусков около 50% от общего числа данных, поэтому они могут быть не репрезентативными для всей выборки то есть выводы могут быть неверными или искаженными.\n",
    "4. Я не заполнил пропуски в столбце **rating**, потому что это категориальная переменная, которая отражает рейтинг игры по системе ESRB. Если я заменю пропуски на самый частый или случайный рейтинг, это может исказить результаты анализа. Кроме того, этих пропусков около 40% от общего числа данных, поэтому они могут быть не репрезентативными для всей выборки."
   ]
  },
  {
   "cell_type": "markdown",
   "metadata": {},
   "source": [
    "**Причины, которые могли привести к пропускам в данных, могут быть разными:**\n",
    "1. Ошибки при сборе или вводе данных: например, неправильный формат файла, опечатки, потеря данных при передаче или хранении и т.д.   \n",
    "2. Отсутствие информации у источника данных: например, игра еще не была оценена критиками или пользователями, игра не имеет рейтинга по системе ESRB или он не был опубликован и т.д.    \n",
    "3. Намеренное упущение информации: например, разработчик или издатель игры не хотел раскрывать год выпуска или рейтинг игры по каким-то причинам.    "
   ]
  },
  {
   "cell_type": "code",
   "execution_count": 6,
   "metadata": {},
   "outputs": [
    {
     "data": {
      "text/html": [
       "<div>\n",
       "<style scoped>\n",
       "    .dataframe tbody tr th:only-of-type {\n",
       "        vertical-align: middle;\n",
       "    }\n",
       "\n",
       "    .dataframe tbody tr th {\n",
       "        vertical-align: top;\n",
       "    }\n",
       "\n",
       "    .dataframe thead th {\n",
       "        text-align: right;\n",
       "    }\n",
       "</style>\n",
       "<table border=\"1\" class=\"dataframe\">\n",
       "  <thead>\n",
       "    <tr style=\"text-align: right;\">\n",
       "      <th></th>\n",
       "      <th>name</th>\n",
       "      <th>platform</th>\n",
       "      <th>year_of_release</th>\n",
       "      <th>genre</th>\n",
       "      <th>na_sales</th>\n",
       "      <th>eu_sales</th>\n",
       "      <th>jp_sales</th>\n",
       "      <th>other_sales</th>\n",
       "      <th>critic_score</th>\n",
       "      <th>user_score</th>\n",
       "      <th>rating</th>\n",
       "      <th>total_sales</th>\n",
       "    </tr>\n",
       "  </thead>\n",
       "  <tbody>\n",
       "    <tr>\n",
       "      <th>0</th>\n",
       "      <td>Wii Sports</td>\n",
       "      <td>Wii</td>\n",
       "      <td>2006</td>\n",
       "      <td>Sports</td>\n",
       "      <td>41.36</td>\n",
       "      <td>28.96</td>\n",
       "      <td>3.77</td>\n",
       "      <td>8.45</td>\n",
       "      <td>76.0</td>\n",
       "      <td>8.0</td>\n",
       "      <td>E</td>\n",
       "      <td>82.54</td>\n",
       "    </tr>\n",
       "    <tr>\n",
       "      <th>1</th>\n",
       "      <td>Super Mario Bros.</td>\n",
       "      <td>NES</td>\n",
       "      <td>1985</td>\n",
       "      <td>Platform</td>\n",
       "      <td>29.08</td>\n",
       "      <td>3.58</td>\n",
       "      <td>6.81</td>\n",
       "      <td>0.77</td>\n",
       "      <td>NaN</td>\n",
       "      <td>NaN</td>\n",
       "      <td>NaN</td>\n",
       "      <td>40.24</td>\n",
       "    </tr>\n",
       "    <tr>\n",
       "      <th>2</th>\n",
       "      <td>Mario Kart Wii</td>\n",
       "      <td>Wii</td>\n",
       "      <td>2008</td>\n",
       "      <td>Racing</td>\n",
       "      <td>15.68</td>\n",
       "      <td>12.76</td>\n",
       "      <td>3.79</td>\n",
       "      <td>3.29</td>\n",
       "      <td>82.0</td>\n",
       "      <td>8.3</td>\n",
       "      <td>E</td>\n",
       "      <td>35.52</td>\n",
       "    </tr>\n",
       "    <tr>\n",
       "      <th>3</th>\n",
       "      <td>Wii Sports Resort</td>\n",
       "      <td>Wii</td>\n",
       "      <td>2009</td>\n",
       "      <td>Sports</td>\n",
       "      <td>15.61</td>\n",
       "      <td>10.93</td>\n",
       "      <td>3.28</td>\n",
       "      <td>2.95</td>\n",
       "      <td>80.0</td>\n",
       "      <td>8.0</td>\n",
       "      <td>E</td>\n",
       "      <td>32.77</td>\n",
       "    </tr>\n",
       "    <tr>\n",
       "      <th>4</th>\n",
       "      <td>Pokemon Red/Pokemon Blue</td>\n",
       "      <td>GB</td>\n",
       "      <td>1996</td>\n",
       "      <td>Role-Playing</td>\n",
       "      <td>11.27</td>\n",
       "      <td>8.89</td>\n",
       "      <td>10.22</td>\n",
       "      <td>1.00</td>\n",
       "      <td>NaN</td>\n",
       "      <td>NaN</td>\n",
       "      <td>NaN</td>\n",
       "      <td>31.38</td>\n",
       "    </tr>\n",
       "  </tbody>\n",
       "</table>\n",
       "</div>"
      ],
      "text/plain": [
       "                       name platform  year_of_release         genre  na_sales  \\\n",
       "0                Wii Sports      Wii             2006        Sports     41.36   \n",
       "1         Super Mario Bros.      NES             1985      Platform     29.08   \n",
       "2            Mario Kart Wii      Wii             2008        Racing     15.68   \n",
       "3         Wii Sports Resort      Wii             2009        Sports     15.61   \n",
       "4  Pokemon Red/Pokemon Blue       GB             1996  Role-Playing     11.27   \n",
       "\n",
       "   eu_sales  jp_sales  other_sales  critic_score  user_score rating  \\\n",
       "0     28.96      3.77         8.45          76.0         8.0      E   \n",
       "1      3.58      6.81         0.77           NaN         NaN    NaN   \n",
       "2     12.76      3.79         3.29          82.0         8.3      E   \n",
       "3     10.93      3.28         2.95          80.0         8.0      E   \n",
       "4      8.89     10.22         1.00           NaN         NaN    NaN   \n",
       "\n",
       "   total_sales  \n",
       "0        82.54  \n",
       "1        40.24  \n",
       "2        35.52  \n",
       "3        32.77  \n",
       "4        31.38  "
      ]
     },
     "execution_count": 6,
     "metadata": {},
     "output_type": "execute_result"
    }
   ],
   "source": [
    "data['total_sales'] = data['na_sales'] + data['eu_sales'] + data['jp_sales'] + data['other_sales']\n",
    "data.head()\n"
   ]
  },
  {
   "cell_type": "code",
   "execution_count": 7,
   "metadata": {},
   "outputs": [
    {
     "name": "stdout",
     "output_type": "stream",
     "text": [
      "<class 'pandas.core.frame.DataFrame'>\n",
      "Int64Index: 16713 entries, 0 to 16714\n",
      "Data columns (total 12 columns):\n",
      " #   Column           Non-Null Count  Dtype   \n",
      "---  ------           --------------  -----   \n",
      " 0   name             16712 non-null  object  \n",
      " 1   platform         16713 non-null  object  \n",
      " 2   year_of_release  16444 non-null  Int64   \n",
      " 3   genre            16712 non-null  object  \n",
      " 4   na_sales         16713 non-null  float64 \n",
      " 5   eu_sales         16713 non-null  float64 \n",
      " 6   jp_sales         16713 non-null  float64 \n",
      " 7   other_sales      16713 non-null  float64 \n",
      " 8   critic_score     8136 non-null   float64 \n",
      " 9   user_score       7589 non-null   float64 \n",
      " 10  rating           9948 non-null   category\n",
      " 11  total_sales      16713 non-null  float64 \n",
      "dtypes: Int64(1), category(1), float64(7), object(3)\n",
      "memory usage: 1.6+ MB\n",
      "None\n",
      "-------------------------\n",
      "name [' Beyblade Burst' ' Fire Emblem Fates' \" Frozen: Olaf's Quest\" ...\n",
      " 'wwe Smackdown vs. Raw 2006' '¡Shin Chan Flipa en colores!' nan]\n",
      "name : кол-во NaN 1 , процент NaN 0.01 %\n",
      "-------------------------\n",
      "platform ['2600' '3DO' '3DS' 'DC' 'DS' 'GB' 'GBA' 'GC' 'GEN' 'GG' 'N64' 'NES' 'NG'\n",
      " 'PC' 'PCFX' 'PS' 'PS2' 'PS3' 'PS4' 'PSP' 'PSV' 'SAT' 'SCD' 'SNES' 'TG16'\n",
      " 'WS' 'Wii' 'WiiU' 'X360' 'XB' 'XOne']\n",
      "platform : кол-во NaN 0 , процент NaN 0.0 %\n",
      "-------------------------\n",
      "year_of_release <IntegerArray>\n",
      "[1980, 1981, 1982, 1983, 1984, 1985, 1986, 1987, 1988, 1989, 1990, 1991, 1992,\n",
      " 1993, 1994, 1995, 1996, 1997, 1998, 1999, 2000, 2001, 2002, 2003, 2004, 2005,\n",
      " 2006, 2007, 2008, 2009, 2010, 2011, 2012, 2013, 2014, 2015, 2016, <NA>]\n",
      "Length: 38, dtype: Int64\n",
      "year_of_release : кол-во NaN 269 , процент NaN 1.61 %\n",
      "-------------------------\n",
      "genre ['Action' 'Adventure' 'Fighting' 'Misc' 'Platform' 'Puzzle' 'Racing'\n",
      " 'Role-Playing' 'Shooter' 'Simulation' 'Sports' 'Strategy' nan]\n",
      "genre : кол-во NaN 1 , процент NaN 0.01 %\n",
      "-------------------------\n",
      "critic_score [13. 17. 19. 20. 21. 22. 23. 24. 25. 26. 27. 28. 29. 30. 31. 32. 33. 34.\n",
      " 35. 36. 37. 38. 39. 40. 41. 42. 43. 44. 45. 46. 47. 48. 49. 50. 51. 52.\n",
      " 53. 54. 55. 56. 57. 58. 59. 60. 61. 62. 63. 64. 65. 66. 67. 68. 69. 70.\n",
      " 71. 72. 73. 74. 75. 76. 77. 78. 79. 80. 81. 82. 83. 84. 85. 86. 87. 88.\n",
      " 89. 90. 91. 92. 93. 94. 95. 96. 97. 98. nan]\n",
      "critic_score : кол-во NaN 8577 , процент NaN 51.32 %\n",
      "-------------------------\n",
      "user_score [0.  0.2 0.3 0.5 0.6 0.7 0.9 1.  1.1 1.2 1.3 1.4 1.5 1.6 1.7 1.8 1.9 2.\n",
      " 2.1 2.2 2.3 2.4 2.5 2.6 2.7 2.8 2.9 3.  3.1 3.2 3.3 3.4 3.5 3.6 3.7 3.8\n",
      " 3.9 4.  4.1 4.2 4.3 4.4 4.5 4.6 4.7 4.8 4.9 5.  5.1 5.2 5.3 5.4 5.5 5.6\n",
      " 5.7 5.8 5.9 6.  6.1 6.2 6.3 6.4 6.5 6.6 6.7 6.8 6.9 7.  7.1 7.2 7.3 7.4\n",
      " 7.5 7.6 7.7 7.8 7.9 8.  8.1 8.2 8.3 8.4 8.5 8.6 8.7 8.8 8.9 9.  9.1 9.2\n",
      " 9.3 9.4 9.5 9.6 9.7 nan]\n",
      "user_score : кол-во NaN 9124 , процент NaN 54.59 %\n",
      "-------------------------\n",
      "rating ['AO', 'E', 'E10+', 'EC', 'K-A', 'M', 'RP', 'T', NaN]\n",
      "Categories (8, object): ['AO', 'E', 'E10+', 'EC', 'K-A', 'M', 'RP', 'T']\n",
      "rating : кол-во NaN 6765 , процент NaN 40.48 %\n"
     ]
    }
   ],
   "source": [
    "# Комментарий ревьюера\n",
    "# Посмотрим, что осталось\n",
    "temp = data.copy() \n",
    "list_c = ['name', 'platform', 'year_of_release', 'genre', 'critic_score', 'user_score', 'rating']\n",
    "print(temp.info())\n",
    "for col_l in list_c:\n",
    "  print('-'* 25)\n",
    "  print(col_l, temp[col_l].sort_values().unique())\n",
    "  print(col_l,': кол-во NaN',temp[col_l].isna().sum(),\n",
    "        ', процент NaN', round(temp[col_l].isna().mean()*100,2),'%') "
   ]
  },
  {
   "cell_type": "markdown",
   "metadata": {},
   "source": [
    "Удаляем строки с пропусками в столбцах name и genre\n",
    "Удаляем строки с пропусками в столбце year_of_release\n",
    "Изменяем тип данных столбца на object\n",
    "Заменяем пропуски в столбце rating на 'unknown'\n"
   ]
  },
  {
   "cell_type": "code",
   "execution_count": 8,
   "metadata": {},
   "outputs": [],
   "source": [
    "data = data.dropna(subset=['name', 'genre'])\n",
    "data = data.dropna(subset=['year_of_release'])\n",
    "data['rating'] = data['rating'].astype('object')\n",
    "data['rating'] = data['rating'].fillna('unknown')"
   ]
  },
  {
   "cell_type": "markdown",
   "metadata": {},
   "source": [
    "### **Шаг 3. Проведите исследовательский анализ данных**"
   ]
  },
  {
   "cell_type": "markdown",
   "metadata": {},
   "source": [
    "#### **Посмотрите, сколько игр выпускалось в разные годы. Важны ли данные за все периоды?**\n"
   ]
  },
  {
   "cell_type": "code",
   "execution_count": 9,
   "metadata": {},
   "outputs": [
    {
     "data": {
      "text/plain": [
       "2008    1427\n",
       "2009    1426\n",
       "2010    1255\n",
       "2007    1197\n",
       "2011    1136\n",
       "2006    1006\n",
       "2005     939\n",
       "2002     829\n",
       "2003     775\n",
       "2004     762\n",
       "2012     652\n",
       "2015     606\n",
       "2014     581\n",
       "2013     544\n",
       "2016     502\n",
       "2001     482\n",
       "1998     379\n",
       "2000     350\n",
       "1999     338\n",
       "1997     289\n",
       "1996     263\n",
       "1995     219\n",
       "1994     121\n",
       "1993      60\n",
       "1981      46\n",
       "1992      43\n",
       "1991      41\n",
       "1982      36\n",
       "1986      21\n",
       "1983      17\n",
       "1989      17\n",
       "1990      16\n",
       "1987      16\n",
       "1988      15\n",
       "1985      14\n",
       "1984      14\n",
       "1980       9\n",
       "Name: year_of_release, dtype: Int64"
      ]
     },
     "execution_count": 9,
     "metadata": {},
     "output_type": "execute_result"
    }
   ],
   "source": [
    "data['year_of_release'].value_counts()"
   ]
  },
  {
   "cell_type": "code",
   "execution_count": 10,
   "metadata": {},
   "outputs": [
    {
     "data": {
      "image/png": "[encoded data removed]",
      "text/plain": [
       "<Figure size 432x288 with 1 Axes>"
      ]
     },
     "metadata": {
      "needs_background": "light"
     },
     "output_type": "display_data"
    }
   ],
   "source": [
    "# Строим график по столбцу year_of_release\n",
    "data['year_of_release'].plot(kind='hist', bins=20)\n",
    "\n",
    "# Добавляем заголовок, подписи осей и легенду к графику\n",
    "plt.title('Распределение игр по годам выпуска')\n",
    "plt.xlabel('Год выпуска')\n",
    "plt.ylabel('Количество игр')\n",
    "plt.legend(['year_of_release'])\n",
    "\n",
    "# Показываем график\n",
    "plt.show()"
   ]
  },
  {
   "cell_type": "code",
   "execution_count": 36,
   "metadata": {},
   "outputs": [
    {
     "data": {
      "image/png": "[encoded data removed]",
      "text/plain": [
       "<Figure size 432x288 with 1 Axes>"
      ]
     },
     "metadata": {
      "needs_background": "light"
     },
     "output_type": "display_data"
    }
   ],
   "source": [
    "# Комментарий ревьюера 3\n",
    "data['year_of_release'].plot(kind='hist', bins=37)\n",
    "plt.title('Распределение игр по годам выпуска')\n",
    "plt.xlabel('Год выпуска')\n",
    "plt.ylabel('Количество игр')\n",
    "plt.legend(['year_of_release'])\n",
    "plt.show()"
   ]
  },
  {
   "cell_type": "markdown",
   "metadata": {},
   "source": [
    "#### **Посмотрите, как менялись продажи по платформам. Выберите платформы с наибольшими суммарными продажами и постройте распределение по годам. За какой характерный срок появляются новые и исчезают старые платформы?**"
   ]
  },
  {
   "cell_type": "code",
   "execution_count": 11,
   "metadata": {},
   "outputs": [
    {
     "data": {
      "image/png": "[encoded data removed]",
      "text/plain": [
       "<Figure size 432x288 with 1 Axes>"
      ]
     },
     "metadata": {
      "needs_background": "light"
     },
     "output_type": "display_data"
    },
    {
     "data": {
      "image/png": "[encoded data removed]",
      "text/plain": [
       "<Figure size 432x288 with 1 Axes>"
      ]
     },
     "metadata": {
      "needs_background": "light"
     },
     "output_type": "display_data"
    },
    {
     "data": {
      "image/png": "[encoded data removed]",
      "text/plain": [
       "<Figure size 432x288 with 1 Axes>"
      ]
     },
     "metadata": {
      "needs_background": "light"
     },
     "output_type": "display_data"
    },
    {
     "data": {
      "image/png": "[encoded data removed]",
      "text/plain": [
       "<Figure size 432x288 with 1 Axes>"
      ]
     },
     "metadata": {
      "needs_background": "light"
     },
     "output_type": "display_data"
    },
    {
     "data": {
      "image/png": "[encoded data removed]",
      "text/plain": [
       "<Figure size 432x288 with 1 Axes>"
      ]
     },
     "metadata": {
      "needs_background": "light"
     },
     "output_type": "display_data"
    },
    {
     "data": {
      "image/png": "[encoded data removed]",
      "text/plain": [
       "<Figure size 432x288 with 1 Axes>"
      ]
     },
     "metadata": {
      "needs_background": "light"
     },
     "output_type": "display_data"
    },
    {
     "data": {
      "image/png": "[encoded data removed]",
      "text/plain": [
       "<Figure size 432x288 with 1 Axes>"
      ]
     },
     "metadata": {
      "needs_background": "light"
     },
     "output_type": "display_data"
    },
    {
     "data": {
      "image/png": "[encoded data removed]",
      "text/plain": [
       "<Figure size 432x288 with 1 Axes>"
      ]
     },
     "metadata": {
      "needs_background": "light"
     },
     "output_type": "display_data"
    },
    {
     "data": {
      "image/png": "[encoded data removed]",
      "text/plain": [
       "<Figure size 432x288 with 1 Axes>"
      ]
     },
     "metadata": {
      "needs_background": "light"
     },
     "output_type": "display_data"
    },
    {
     "data": {
      "image/png": "[encoded data removed]",
      "text/plain": [
       "<Figure size 432x288 with 1 Axes>"
      ]
     },
     "metadata": {
      "needs_background": "light"
     },
     "output_type": "display_data"
    }
   ],
   "source": [
    "#data = data[data['year_of_release'] != 1985]\n",
    "#platform_sales = data.groupby(['platform', 'year_of_release'])['total_sales'].sum()\n",
    "#top_platforms = platform_sales.groupby('platform').sum().sort_values(ascending=False).head(10).index\n",
    "#platform_sales = platform_sales.reset_index() \n",
    "#platform_sales = platform_sales.sort_values(by=['platform', 'year_of_release'])\n",
    "#colors = ['red', 'blue', 'green', 'orange', 'purple', 'black', 'brown', 'grey', 'pink', 'yellow']\n",
    "#for platform, color in zip(top_platforms, colors): \n",
    "    #platform_sales.loc[platform_sales['platform'] == platform].plot(x='year_of_release', y='total_sales', kind='bar', label=platform, color=color)\n",
    "#plt.legend(bbox_to_anchor=(1.04, 1), loc='upper left')\n",
    "#plt.xlabel('year_of_release') \n",
    "#plt.ylabel('total_sales') \n",
    "#plt.title('Продажи игр по платформам и годам')\n",
    "#plt.show()\n",
    "\n",
    "data = data[data['year_of_release'] != 1985]\n",
    "platform_sales = data.groupby(['platform', 'year_of_release'])['total_sales'].sum()\n",
    "top_platforms = platform_sales.groupby('platform').sum().sort_values(ascending=False).head(10).index\n",
    "platform_sales = platform_sales.reset_index()\n",
    "platform_sales = platform_sales.sort_values(by=['platform', 'year_of_release'])\n",
    "colors = ['red', 'blue', 'green', 'orange', 'purple', 'black', 'brown', 'grey', 'pink', 'yellow']\n",
    "for platform, color in zip(top_platforms, colors):\n",
    "    platform_sales.loc[platform_sales['platform'] == platform].plot(x='year_of_release', y='total_sales', kind='bar', label=platform, color=color)\n",
    "    plt.legend(bbox_to_anchor=(1.04, 1), loc='upper left')\n",
    "    plt.xlabel('year_of_release')\n",
    "    plt.ylabel('total_sales')\n",
    "    plt.title('Продажи игр по платформам и годам')\n",
    "    plt.show()"
   ]
  },
  {
   "cell_type": "markdown",
   "metadata": {},
   "source": [
    "По графику можно видеть, что характерный срок жизни платформы составляет около 10 лет, за которые она проходит фазы роста, пика и спада продаж. Некоторые платформы, такие как PS2 и DS, имеют более длительный срок жизни, чем другие, такие как Wii и X360."
   ]
  },
  {
   "cell_type": "code",
   "execution_count": 12,
   "metadata": {},
   "outputs": [
    {
     "data": {
      "text/plain": [
       "7.0"
      ]
     },
     "execution_count": 12,
     "metadata": {},
     "output_type": "execute_result"
    }
   ],
   "source": [
    "# Комментарий ревьюера\n",
    "temp = data.copy() \n",
    "time_life = temp.pivot_table(index='platform', values='year_of_release', aggfunc=['min', 'max']).reset_index()\n",
    "time_life['life'] = time_life['max'] - time_life['min'] + 1 # в срок жизни платформы, должны входить границы диапазона, \n",
    "                                                            # поэтому +1\n",
    "time_life['life'].median()"
   ]
  },
  {
   "cell_type": "markdown",
   "metadata": {},
   "source": [
    "#### **Возьмите данные за соответствующий актуальный период. Актуальный период определите самостоятельно в результате исследования предыдущих вопросов. Основной фактор — эти данные помогут построить прогноз на 2017 год.**"
   ]
  },
  {
   "cell_type": "markdown",
   "metadata": {},
   "source": [
    "Предлагаю взять данные за последние 5 лет (с 2012 по 2016 год), так как они наиболее актуальны для прогнозирования на 2017 год. Этот период покрывает последнюю фазу жизненного цикла некоторых популярных платформ (например, PS3 и X360), а также появление и развитие нового поколения консолей (например, PS4 и XOne)"
   ]
  },
  {
   "cell_type": "markdown",
   "metadata": {},
   "source": [
    "#### **Какие платформы лидируют по продажам, растут или падают? Выберите несколько потенциально прибыльных платформ.**"
   ]
  },
  {
   "cell_type": "code",
   "execution_count": 13,
   "metadata": {},
   "outputs": [
    {
     "data": {
      "image/png": "[encoded data removed]",
      "text/plain": [
       "<Figure size 432x288 with 1 Axes>"
      ]
     },
     "metadata": {
      "needs_background": "light"
     },
     "output_type": "display_data"
    }
   ],
   "source": [
    "#Фильтруем датасет по годам от 2012 до 2016\n",
    "#data_filtered = data.query('2012 <= year_of_release <= 2016') \n",
    "#Строим сводную таблицу по году выпуска и платформе, считая сумму продаж по каждой группе\n",
    "#data_filtered.pivot_table(index='year_of_release', columns='platform', values='total_sales', aggfunc='sum').plot()\n",
    "#plt.show()\n",
    "\n",
    "#Фильтруем датасет по годам от 2012 до 2016 \n",
    "data_filtered = data.query('2012 <= year_of_release <= 2016') \n",
    "\n",
    "#Строим сводную таблицу по году выпуска и платформе, считая сумму продаж по каждой группе \n",
    "data_filtered.pivot_table(index='year_of_release', columns='platform', values='total_sales', aggfunc='sum').plot()\n",
    "\n",
    "#Добавляем название графика и подпись оси y\n",
    "plt.title('Динамика продаж игр по платформам') \n",
    "plt.ylabel('Продажи, млн. долларов')\n",
    "\n",
    "#Сдвигаем легенду вправо\n",
    "plt.legend(bbox_to_anchor=(1.04, 1), loc='upper left') \n",
    "plt.show()"
   ]
  },
  {
   "cell_type": "code",
   "execution_count": 14,
   "metadata": {},
   "outputs": [
    {
     "data": {
      "image/png": "[encoded data removed]",
      "text/plain": [
       "<Figure size 432x288 with 1 Axes>"
      ]
     },
     "metadata": {
      "needs_background": "light"
     },
     "output_type": "display_data"
    },
    {
     "data": {
      "image/png": "[encoded data removed]",
      "text/plain": [
       "<Figure size 432x288 with 1 Axes>"
      ]
     },
     "metadata": {
      "needs_background": "light"
     },
     "output_type": "display_data"
    },
    {
     "data": {
      "image/png": "[encoded data removed]",
      "text/plain": [
       "<Figure size 432x288 with 1 Axes>"
      ]
     },
     "metadata": {
      "needs_background": "light"
     },
     "output_type": "display_data"
    },
    {
     "data": {
      "image/png": "[encoded data removed]",
      "text/plain": [
       "<Figure size 432x288 with 1 Axes>"
      ]
     },
     "metadata": {
      "needs_background": "light"
     },
     "output_type": "display_data"
    },
    {
     "data": {
      "image/png": "[encoded data removed]",
      "text/plain": [
       "<Figure size 432x288 with 1 Axes>"
      ]
     },
     "metadata": {
      "needs_background": "light"
     },
     "output_type": "display_data"
    },
    {
     "data": {
      "image/png": "[encoded data removed]",
      "text/plain": [
       "<Figure size 432x288 with 1 Axes>"
      ]
     },
     "metadata": {
      "needs_background": "light"
     },
     "output_type": "display_data"
    },
    {
     "data": {
      "image/png": "[encoded data removed]",
      "text/plain": [
       "<Figure size 432x288 with 1 Axes>"
      ]
     },
     "metadata": {
      "needs_background": "light"
     },
     "output_type": "display_data"
    },
    {
     "data": {
      "image/png": "[encoded data removed]",
      "text/plain": [
       "<Figure size 432x288 with 1 Axes>"
      ]
     },
     "metadata": {
      "needs_background": "light"
     },
     "output_type": "display_data"
    },
    {
     "data": {
      "image/png": "[encoded data removed]",
      "text/plain": [
       "<Figure size 432x288 with 1 Axes>"
      ]
     },
     "metadata": {
      "needs_background": "light"
     },
     "output_type": "display_data"
    },
    {
     "data": {
      "image/png": "[encoded data removed]",
      "text/plain": [
       "<Figure size 432x288 with 1 Axes>"
      ]
     },
     "metadata": {
      "needs_background": "light"
     },
     "output_type": "display_data"
    }
   ],
   "source": [
    "# Создадим столбчатый график, показывающий, как менялись продажи по платформам в разные годы.\n",
    "# Переиндексируем данные по платформе и году выпуска\n",
    "#platform_sales = platform_sales.reset_index()\n",
    "# Отсортируем данные по платформе и году выпуска\n",
    "#platform_sales = platform_sales.sort_values(by=['platform', 'year_of_release'])\n",
    "# Фильтруем данные по годам от 2012 до 2016\n",
    "#platform_sales = platform_sales.query('2012 <= year_of_release <= 2016')\n",
    "# Получаем список платформ, которые имеют данные за этот период\n",
    "#platforms = platform_sales['platform'].unique()\n",
    "# Считаем суммарные продажи для каждой платформы за этот период\n",
    "#sales_by_platform = platform_sales.groupby('platform')['total_sales'].sum()\n",
    "# Сортируем список платформ по убыванию продаж\n",
    "#platforms = sales_by_platform.sort_values(ascending=False).index\n",
    "# Построим график снова\n",
    "#colors = ['red', 'blue', 'green', 'orange', 'purple', 'black', 'brown', 'grey', 'pink', 'yellow'] # Задаем список цветов для каждой платформы\n",
    "#for platform, color in zip(platforms, colors):\n",
    "    #platform_sales.loc[platform_sales['platform'] == platform].plot(x='year_of_release', y='total_sales', kind='bar', label=platform, color=color)\n",
    "#plt.legend()\n",
    "#plt.xlabel('year_of_release')\n",
    "#plt.ylabel('total_sales')\n",
    "#plt.show()\n",
    "\n",
    "\n",
    "#Создадим столбчатый график, показывающий, как менялись продажи по платформам в разные годы.\n",
    "#Переиндексируем данные по платформе и году выпуска\n",
    "platform_sales = platform_sales.reset_index()\n",
    "\n",
    "#Отсортируем данные по платформе и году выпуска\n",
    "platform_sales = platform_sales.sort_values(by=['platform', 'year_of_release'])\n",
    "\n",
    "#Фильтруем данные по годам от 2012 до 2016\n",
    "platform_sales = platform_sales.query('2012 <= year_of_release <= 2016')\n",
    "\n",
    "#Получаем список платформ, которые имеют данные за этот период\n",
    "platforms = platform_sales['platform'].unique()\n",
    "\n",
    "#Считаем суммарные продажи для каждой платформы за этот период\n",
    "sales_by_platform = platform_sales.groupby('platform')['total_sales'].sum()\n",
    "\n",
    "#Сортируем список платформ по убыванию продаж\n",
    "platforms = sales_by_platform.sort_values(ascending=False).index\n",
    "\n",
    "#Построим график снова\n",
    "colors = ['red', 'blue', 'green', 'orange', 'purple', 'black', 'brown', 'grey', 'pink', 'yellow'] \n",
    "\n",
    "# Задаем список цветов для каждой платформы \n",
    "for platform, color in zip(platforms, colors):\n",
    "    platform_sales.loc[platform_sales['platform'] == platform].plot(x='year_of_release', y='total_sales', kind='bar', label=platform, color=color)\n",
    "    #Добавляем название графика и сдвигаем легенду вправо\n",
    "    plt.title('Динамика продаж игр по платформам') \n",
    "    plt.legend(bbox_to_anchor=(1.04, 1), loc='upper left') \n",
    "    plt.xlabel('year_of_release') \n",
    "    plt.ylabel('total_sales') \n",
    "    plt.show()"
   ]
  },
  {
   "cell_type": "markdown",
   "metadata": {},
   "source": [
    "По графику видно, что самые высокие продажи имеют платформы PS4 и XOne, которые вышли в 2013 году и быстро завоевали популярность среди игроков. На третьем месте по продажам находится платформа 3DS, которая также имеет стабильный спрос. Остальные платформы имеют низкие или убывающие продажи, что свидетельствует о том, что они устаревают или не конкурентоспособны на рынке. "
   ]
  },
  {
   "cell_type": "markdown",
   "metadata": {},
   "source": [
    "#### **Постройте график «ящик с усами» по глобальным продажам игр в разбивке по платформам. Опишите результат.**"
   ]
  },
  {
   "cell_type": "code",
   "execution_count": 15,
   "metadata": {},
   "outputs": [
    {
     "data": {
      "image/png": "[encoded data removed]",
      "text/plain": [
       "<Figure size 432x288 with 1 Axes>"
      ]
     },
     "metadata": {
      "needs_background": "light"
     },
     "output_type": "display_data"
    }
   ],
   "source": [
    "#df = data.query('2012 <= year_of_release <= 2016')\n",
    "\n",
    "# Построим график «ящик с усами»\n",
    "#sns.boxplot(x='platform', y='total_sales', data=df) \n",
    "#plt.xlabel('Платформа')\n",
    "#plt.ylabel('Глобальные продажи')\n",
    "#plt.show()\n",
    "\n",
    "\n",
    "sns.boxplot(x='platform', y='total_sales', data=data_filtered) \n",
    "plt.ylim([0, 2])\n",
    "plt.xlabel('Платформа')\n",
    "plt.ylabel('Глобальные продажи')\n",
    "plt.show()\n"
   ]
  },
  {
   "cell_type": "markdown",
   "metadata": {},
   "source": [
    "Самые большие выбросы имеют PS3,X360, PS4 и 3DS, что может означать, что эти платформы имеют несколько очень популярных игр, которые значительно превосходят по продажам остальные игры на этих платформах.\n",
    "Самый маленький разброс продаж имеют PSP, PSV и PC, что может означать, что эти платформы имеют более стабильный спрос на игры."
   ]
  },
  {
   "cell_type": "markdown",
   "metadata": {},
   "source": [
    "#### **Посмотрите, как влияют на продажи внутри одной популярной платформы отзывы пользователей и критиков. Постройте диаграмму рассеяния и посчитайте корреляцию между отзывами и продажами. Сформулируйте выводы.**\n"
   ]
  },
  {
   "cell_type": "code",
   "execution_count": 16,
   "metadata": {},
   "outputs": [],
   "source": [
    "#Проанализируем продажи игр для PlayStation 4 в Северной Америки\n",
    "#ps4 = data[data['platform'] == 'PS4'] #создаем новый датафрейм с именем ps4, который содержит только те строки из исходного \n",
    "# датафрейм df, где значение столбца platform равно PS4.\n",
    "#ps4.plot.scatter(x='critic_score', y='na_sales', s=50, c='blue') #строим диаграмму рассеяния, используя метод plot.scatter\n",
    "#ps4['na_sales'].corr(ps4['critic_score']) #вычисляем коэффициент корреляции между двумя столбцами na_sales и critic_score"
   ]
  },
  {
   "cell_type": "code",
   "execution_count": 17,
   "metadata": {},
   "outputs": [
    {
     "data": {
      "text/plain": [
       "0.41500763162387244"
      ]
     },
     "execution_count": 17,
     "metadata": {},
     "output_type": "execute_result"
    },
    {
     "data": {
      "image/png": "[encoded data removed]",
      "text/plain": [
       "<Figure size 432x288 with 1 Axes>"
      ]
     },
     "metadata": {
      "needs_background": "light"
     },
     "output_type": "display_data"
    }
   ],
   "source": [
    "#Проанализируем продажи игр для PlayStation 4 в Северной Америки\n",
    "ps4 = data_filtered[data_filtered['platform'] == 'PS4'] #создаем новый датафрейм с именем ps4, который содержит только те строки из исходного \n",
    "# датафрейм df, где значение столбца platform равно PS4.\n",
    "ps4.plot.scatter(x='critic_score', y='na_sales', s=50, c='blue') #строим диаграмму рассеяния, используя метод plot.scatter\n",
    "ps4['na_sales'].corr(ps4['critic_score']) #вычисляем коэффициент корреляции между двумя столбцами na_sales и critic_score"
   ]
  },
  {
   "cell_type": "code",
   "execution_count": 18,
   "metadata": {},
   "outputs": [
    {
     "data": {
      "text/plain": [
       "-0.02093302309978133"
      ]
     },
     "execution_count": 18,
     "metadata": {},
     "output_type": "execute_result"
    },
    {
     "data": {
      "image/png": "[encoded data removed]",
      "text/plain": [
       "<Figure size 432x288 with 1 Axes>"
      ]
     },
     "metadata": {
      "needs_background": "light"
     },
     "output_type": "display_data"
    }
   ],
   "source": [
    "ps4.plot.scatter(x='user_score', y='na_sales', s=50, c='blue') \n",
    "#строим диаграмму рассеяния, используя метод plot.scatter \n",
    "ps4['na_sales'].corr(ps4['user_score']) \n",
    "#вычисляем коэффициент корреляции между двумя столбцами na_sales и user_score"
   ]
  },
  {
   "cell_type": "markdown",
   "metadata": {},
   "source": [
    "Общий вывод может быть таким: Для игр на платформе PS4 существует умеренная положительная корреляция между продажами в Северной Америке и оценками критиков (0.42), то есть чем выше оценка критиков, тем больше продаж. Однако между продажами и оценками пользователей нет заметной корреляции (-0.02), то есть эти две переменные не связаны друг с другом. Это может означать, что потребители PS4 больше доверяют мнению профессиональных критиков, чем других пользователей, или что оценки пользователей не отражают реальную популярность игр."
   ]
  },
  {
   "cell_type": "markdown",
   "metadata": {},
   "source": [
    "#### **Соотнесите выводы с продажами игр на других платформах.**"
   ]
  },
  {
   "cell_type": "code",
   "execution_count": 19,
   "metadata": {},
   "outputs": [],
   "source": [
    "#Проанализируем продажи игр для PlayStation 4 в Северной Америки\n",
    "#XOne = df[df['platform'] == 'XOne'] #создаем новый датафрейм с именем XOne, который содержит только те строки из исходного \n",
    "# датафрейм df, где значение столбца platform равно XOne.\n",
    "#XOne.plot.scatter(x='critic_score', y='na_sales', s=50, c='blue') #строим диаграмму рассеяния, используя метод plot.scatter\n",
    "#XOne['na_sales'].corr(XOne['critic_score']) #вычисляем коэффициент корреляции между двумя столбцами na_sales и critic_score"
   ]
  },
  {
   "cell_type": "markdown",
   "metadata": {},
   "source": [
    "Корреляция между переменными для PlayStation 4 немного сильнее, чем для Xbox One, но все еще не очень высокая. Это значит, что оценки критиков имеют немного большее влияние на продажи игр на PlayStation 4 в Северной Америке, чем на Xbox One, но все еще не являются главным фактором. "
   ]
  },
  {
   "cell_type": "code",
   "execution_count": 20,
   "metadata": {},
   "outputs": [],
   "source": [
    "#data.year_of_release.min()\n",
    "#data_filtered.year_of_release.min()"
   ]
  },
  {
   "cell_type": "code",
   "execution_count": 21,
   "metadata": {},
   "outputs": [],
   "source": [
    "# создаем список платформ\n",
    "#platforms = ['XOne', 'PS4', 'PC', 'WiiU', '3DS']\n",
    "\n",
    "# цикл по платформам\n",
    "#for platform in platforms:\n",
    "  # фильтруем данные по платформе\n",
    "  #data_platform = data[data['platform'] == platform]\n",
    "  # строим диаграмму рассеяния с легендой\n",
    "  #data_platform.plot.scatter(x='critic_score', y='na_sales', s=50, c='blue', label=platform)\n",
    "  # вычисляем и выводим коэффициент корреляции\n",
    "  #corr = data_platform['na_sales'].corr(data_platform['critic_score'])\n",
    "  #print(f'Корреляция между продажами и отзывами критиков для {platform} = {corr:.2f}')\n",
    "\n",
    "# показываем все графики\n",
    "#plt.show()"
   ]
  },
  {
   "cell_type": "code",
   "execution_count": 22,
   "metadata": {},
   "outputs": [
    {
     "name": "stdout",
     "output_type": "stream",
     "text": [
      "Корреляция между продажами и отзывами критиков для XOne = 0.39\n"
     ]
    },
    {
     "data": {
      "image/png": "[encoded data removed]",
      "text/plain": [
       "<Figure size 432x288 with 1 Axes>"
      ]
     },
     "metadata": {
      "needs_background": "light"
     },
     "output_type": "display_data"
    },
    {
     "name": "stdout",
     "output_type": "stream",
     "text": [
      "Корреляция между продажами и отзывами критиков для PS4 = 0.42\n"
     ]
    },
    {
     "data": {
      "image/png": "[encoded data removed]",
      "text/plain": [
       "<Figure size 432x288 with 1 Axes>"
      ]
     },
     "metadata": {
      "needs_background": "light"
     },
     "output_type": "display_data"
    },
    {
     "name": "stdout",
     "output_type": "stream",
     "text": [
      "Корреляция между продажами и отзывами критиков для PC = 0.22\n"
     ]
    },
    {
     "data": {
      "image/png": "[encoded data removed]",
      "text/plain": [
       "<Figure size 432x288 with 1 Axes>"
      ]
     },
     "metadata": {
      "needs_background": "light"
     },
     "output_type": "display_data"
    },
    {
     "name": "stdout",
     "output_type": "stream",
     "text": [
      "Корреляция между продажами и отзывами критиков для WiiU = 0.35\n"
     ]
    },
    {
     "data": {
      "image/png": "[encoded data removed]",
      "text/plain": [
       "<Figure size 432x288 with 1 Axes>"
      ]
     },
     "metadata": {
      "needs_background": "light"
     },
     "output_type": "display_data"
    },
    {
     "name": "stdout",
     "output_type": "stream",
     "text": [
      "Корреляция между продажами и отзывами критиков для 3DS = 0.33\n"
     ]
    },
    {
     "data": {
      "image/png": "[encoded data removed]",
      "text/plain": [
       "<Figure size 432x288 with 1 Axes>"
      ]
     },
     "metadata": {
      "needs_background": "light"
     },
     "output_type": "display_data"
    }
   ],
   "source": [
    "platforms = ['XOne', 'PS4', 'PC', 'WiiU', '3DS']\n",
    "for platform in platforms:\n",
    "    data_platform = data_filtered[data_filtered['platform'] == platform]\n",
    "    data_platform.plot.scatter(x='critic_score', y='na_sales', s=50, c='blue', label=platform)\n",
    "    corr = data_platform['na_sales'].corr(data_platform['critic_score'])\n",
    "    print(f'Корреляция между продажами и отзывами критиков для {platform} = {corr:.2f}')\n",
    "    plt.show()"
   ]
  },
  {
   "cell_type": "markdown",
   "metadata": {},
   "source": [
    "Для всех платформ существует положительная корреляция между продажами в Северной Америке и оценками критиков, то есть чем выше оценка, тем больше продаж. Однако сила этой корреляции варьируется от платформы к платформе. Наибольшая корреляция наблюдается для PS4 (0.42), а наименьшая - для PC (0.22). Это может означать, что потребители PS4 больше доверяют мнению критиков, чем потребители PC.\n"
   ]
  },
  {
   "cell_type": "markdown",
   "metadata": {},
   "source": [
    "#### **Посмотрите на общее распределение игр по жанрам. Что можно сказать о самых прибыльных жанрах? Выделяются ли жанры с высокими и низкими продажами?**"
   ]
  },
  {
   "cell_type": "code",
   "execution_count": 23,
   "metadata": {},
   "outputs": [
    {
     "name": "stderr",
     "output_type": "stream",
     "text": [
      "/tmp/ipykernel_483/4255254436.py:14: SettingWithCopyWarning: \n",
      "A value is trying to be set on a copy of a slice from a DataFrame.\n",
      "Try using .loc[row_indexer,col_indexer] = value instead\n",
      "\n",
      "See the caveats in the documentation: https://pandas.pydata.org/pandas-docs/stable/user_guide/indexing.html#returning-a-view-versus-a-copy\n",
      "  data_filtered['global_sales'] = data_filtered['na_sales'] + data_filtered['eu_sales'] + data_filtered['jp_sales']\n"
     ]
    },
    {
     "data": {
      "image/png": "[encoded data removed]",
      "text/plain": [
       "<Figure size 432x288 with 1 Axes>"
      ]
     },
     "metadata": {
      "needs_background": "light"
     },
     "output_type": "display_data"
    }
   ],
   "source": [
    "# Группируем данные по жанрам и суммируем продажи\n",
    "#genre_sales = df.groupby('genre').sum()\n",
    "# Строим гистограмму продаж по жанрам\n",
    "#genre_sales.plot.bar()\n",
    "\n",
    "# Группируем данные по жанрам и вычисляем медиану продаж\n",
    "#genre_sales = data_filtered.groupby('genre').median()\n",
    "\n",
    "#Строим диаграмму размаха продаж по жанрам\n",
    "#plt.figure(figsize=(10, 6)) # устанавливаем размер графика в 10 на 6 дюймов \n",
    "#genre_sales.plot(kind='box', rot=45) # поворачиваем подписи на 45 градусов\n",
    "\n",
    "#data_filtered.boxplot(column='na_sales', by='genre', figsize=(15, 10))\n",
    "data_filtered['global_sales'] = data_filtered['na_sales'] + data_filtered['eu_sales'] + data_filtered['jp_sales']\n",
    "data_filtered.plot.scatter(x='genre', y='global_sales', s=50, c='blue') #строим диаграмму рассеяния, используя метод plot.scatter\n",
    "plt.xticks (rotation=45)\n",
    "plt.show() "
   ]
  },
  {
   "cell_type": "code",
   "execution_count": 37,
   "metadata": {},
   "outputs": [
    {
     "data": {
      "image/png": "[encoded data removed]",
      "text/plain": [
       "<Figure size 936x576 with 1 Axes>"
      ]
     },
     "metadata": {
      "needs_background": "light"
     },
     "output_type": "display_data"
    },
    {
     "data": {
      "image/png": "[encoded data removed]",
      "text/plain": [
       "<Figure size 936x576 with 1 Axes>"
      ]
     },
     "metadata": {
      "needs_background": "light"
     },
     "output_type": "display_data"
    }
   ],
   "source": [
    "# Комментарий ревьюера 3\n",
    "import seaborn as sns\n",
    "data_temp, y = data_filtered.copy(), 'total_sales'\n",
    "plt.figure(figsize=(13, 8))\n",
    "(sns.boxplot(data = data_temp, y = y, x='genre')\n",
    "    .set(title = 'Продажи по жанрам', xlabel = 'Жанры', ylabel = 'Общие продажи'))\n",
    "plt.show()\n",
    "plt.figure(figsize=(13, 8))\n",
    "(sns.boxplot(data = data_temp, y = y, x='genre')\n",
    "    .set(title = 'Продажи по жанрам', xlabel = 'Жанры', ylabel = 'Общие продажи', ylim=(0, 3.5)))\n",
    "plt.show()"
   ]
  },
  {
   "cell_type": "markdown",
   "metadata": {},
   "source": [
    "#### **Посмотрите на общее распределение игр по жанрам. Что можно сказать о самых прибыльных жанрах? Выделяются ли жанры с высокими и низкими продажами?**"
   ]
  },
  {
   "cell_type": "markdown",
   "metadata": {},
   "source": [
    "+ Самые прибыльные жанры игр - это Action, Shooter и Sports, которые имеют самые высокие и разнообразные продажи в мире. Эти жанры пользуются большим спросом у игроков и могут привлекать широкую аудиторию.\n",
    "+ Жанры с высокими продажами выделяются на диаграмме рассеяния своими большими и отдаленными точками, которые показывают, что некоторые игры этих жанров достигают очень высокого уровня продаж. Эти точки также имеют большое расстояние между собой, что показывает, что продажи этих игр сильно различаются в зависимости от качества, популярности и конкуренции.\n",
    "+ Самые низкодоходные жанры игр - это Adventure, Strategy и Puzzle, которые имеют самые низкие и однородные продажи в мире. Эти жанры имеют меньший спрос у игроков и могут привлекать более узкую аудиторию.\n",
    "+ Жанры с низкими продажами выделяются на диаграмме рассеяния своими маленькими и близкими точками, которые показывают, что большинство игр этих жанров не превышают определенного уровня продаж. Эти точки также имеют малое расстояние между собой, что показывает, что продажи этих игр слабо различаются в зависимости от качества, популярности и конкуренции. "
   ]
  },
  {
   "cell_type": "markdown",
   "metadata": {},
   "source": [
    "**Вывод**\n",
    "Продажи игр имеют циклический характер, связанный с появлением и затуханием популярности разных платформ. Средний срок жизни платформы составляет около 10 лет. Самые прибыльные платформы за последние 5 лет были PS4, XOne и 3DS. Они также имели самые высокие средние продажи на одну игру. Самые низкие продажи были у PC, WiiU и PSV. Однако продажи по всем платформам имеют тенденцию к снижению, что может свидетельствовать о насыщении рынка или смене интересов игроков. Самые популярные жанры игр были Action, Shooter и Sports. Они также имели самые высокие средние продажи на одну игру. Самые непопулярные жанры были Strategy, Puzzle и Adventure. Они также имели самые низкие средние продажи на одну игру. Диаграмма рассеяния показала, что жанры игр имеют разный уровень и разброс продаж в мире. Жанры Action, Shooter и Sports имели самые высокие и разнообразные продажи, а жанры Adventure, Strategy и Puzzle - самые низкие и однородные. Продажи игр зависят от рейтингов критиков и пользователей, но не в равной степени. Для большинства платформ существует положительная корреляция между продажами и отзывами критиков, то есть чем выше рейтинг критиков, тем выше продажи. Однако для некоторых платформ, таких как WiiU и 3DS, корреляция отсутствует или слабая. Продажи игр слабо зависят от отзывов пользователей, для большинства платформ корреляция близка к нулю или отрицательная. Это может означать, что игроки больше доверяют мнению профессиональных критиков, чем других пользователей, или что отзывы пользователей не всегда отражают реальную оценку игры."
   ]
  },
  {
   "cell_type": "markdown",
   "metadata": {},
   "source": [
    "### **Шаг 4. Составьте портрет пользователя каждого региона**"
   ]
  },
  {
   "cell_type": "markdown",
   "metadata": {},
   "source": [
    "#### **Определите для пользователя каждого региона (NA, EU, JP):** \n",
    "**cамые популярные платформы (топ-5). Опишите различия в долях продаж.**"
   ]
  },
  {
   "cell_type": "code",
   "execution_count": 24,
   "metadata": {},
   "outputs": [
    {
     "data": {
      "text/plain": [
       "<AxesSubplot:title={'center':'Top 5 platforms in Japan'}, xlabel='platform'>"
      ]
     },
     "execution_count": 24,
     "metadata": {},
     "output_type": "execute_result"
    },
    {
     "data": {
      "image/png": "[encoded data removed]",
      "text/plain": [
       "<Figure size 432x288 with 1 Axes>"
      ]
     },
     "metadata": {
      "needs_background": "light"
     },
     "output_type": "display_data"
    },
    {
     "data": {
      "image/png": "[encoded data removed]",
      "text/plain": [
       "<Figure size 432x288 with 1 Axes>"
      ]
     },
     "metadata": {
      "needs_background": "light"
     },
     "output_type": "display_data"
    },
    {
     "data": {
      "image/png": "[encoded data removed]",
      "text/plain": [
       "<Figure size 432x288 with 1 Axes>"
      ]
     },
     "metadata": {
      "needs_background": "light"
     },
     "output_type": "display_data"
    }
   ],
   "source": [
    "# Группируем данные по платформам и суммируем продажи по регионам\n",
    "platform_sales = data_filtered.groupby('platform').sum()\n",
    "\n",
    "# Сортируем результаты по убыванию и выбираем топ-5 платформ для Северной Америки\n",
    "na_top5 = platform_sales.sort_values('na_sales', ascending=False).head(5)\n",
    "\n",
    "# Сортируем результаты по убыванию и выбираем топ-5 платформ для Европы\n",
    "eu_top5 = platform_sales.sort_values('eu_sales', ascending=False).head(5)\n",
    "\n",
    "# Сортируем результаты по убыванию и выбираем топ-5 платформ для Японии\n",
    "jp_top5 = platform_sales.sort_values('jp_sales', ascending=False).head(5)\n",
    "\n",
    "na_top5.plot.bar(y='na_sales', title='Top 5 platforms in North America')\n",
    "eu_top5.plot.bar(y='eu_sales', title='Top 5 platforms in Europe')\n",
    "jp_top5.plot.bar(y='jp_sales', title='Top 5 platforms in Japan')\n"
   ]
  },
  {
   "cell_type": "markdown",
   "metadata": {},
   "source": [
    "Из полученных диаграмм можно сделатьвывод: что Xbox 360 имеет самую большую долю продаж в Северной Америке, но намного меньшую в Европе и Японии. А Nintendo DS имеет самую большую долю продаж в Японии, но намного меньшую в Северной Америке и Европе."
   ]
  },
  {
   "cell_type": "markdown",
   "metadata": {},
   "source": [
    "**Самые популярные жанры (топ-5). Поясните разницу.**"
   ]
  },
  {
   "cell_type": "code",
   "execution_count": 25,
   "metadata": {},
   "outputs": [],
   "source": [
    "# Группируем данные по платформам и суммируем продажи по регионам\n",
    "#genre_sales = df.groupby('genre').sum()\n",
    "\n",
    "# Сортируем результаты по убыванию и выбираем топ-5 платформ для Северной Америки\n",
    "#na_top5 = genre_sales.sort_values('na_sales', ascending=False).head(5)\n",
    "\n",
    "# Сортируем результаты по убыванию и выбираем топ-5 платформ для Европы\n",
    "#eu_top5 = genre_sales.sort_values('eu_sales', ascending=False).head(5)\n",
    "\n",
    "# Сортируем результаты по убыванию и выбираем топ-5 платформ для Японии\n",
    "#jp_top5 = genre_sales.sort_values('jp_sales', ascending=False).head(5)\n",
    "\n",
    "#na_top5.plot.bar(y='na_sales', title='Top 5 genres in North America')\n",
    "#eu_top5.plot.bar(y='eu_sales', title='Top 5 genres in Europe')\n",
    "#jp_top5.plot.bar(y='jp_sales', title='Top 5 genres in Japan')"
   ]
  },
  {
   "cell_type": "code",
   "execution_count": 26,
   "metadata": {},
   "outputs": [
    {
     "data": {
      "image/png": "[encoded data removed]",
      "text/plain": [
       "<Figure size 432x288 with 1 Axes>"
      ]
     },
     "metadata": {},
     "output_type": "display_data"
    },
    {
     "data": {
      "image/png": "[encoded data removed]",
      "text/plain": [
       "<Figure size 432x288 with 1 Axes>"
      ]
     },
     "metadata": {},
     "output_type": "display_data"
    },
    {
     "data": {
      "image/png": "[encoded data removed]",
      "text/plain": [
       "<Figure size 432x288 with 1 Axes>"
      ]
     },
     "metadata": {},
     "output_type": "display_data"
    }
   ],
   "source": [
    "# Выбираем данные по продажам игр по жанрам в Северной Америке\n",
    "na_sales = data_filtered.groupby('genre')['na_sales'].sum()\n",
    "# Сортируем данные по убыванию и выбираем пять самых больших значений\n",
    "na_top5 = na_sales.sort_values(ascending=False).head(5)\n",
    "# Складываем остальные значения в одно и называем \"Другие\"\n",
    "na_other = na_sales.sum() - na_top5.sum()\n",
    "na_top5['Other'] = na_other\n",
    "# Создаем круговую диаграмму в виде бублика\n",
    "plt.pie(na_top5, labels=na_top5.index, wedgeprops=dict(width=0.5), autopct='%.1f%%')\n",
    "# Добавляем заголовок\n",
    "plt.title('Top 5 genres in North America')\n",
    "# Показываем диаграмму\n",
    "plt.show()\n",
    "\n",
    "# Выбираем данные по продажам игр по жанрам в Европе\n",
    "eu_sales = data_filtered.groupby('genre')['eu_sales'].sum()\n",
    "# Сортируем данные по убыванию и выбираем пять самых больших значений\n",
    "eu_top5 = eu_sales.sort_values(ascending=False).head(5)\n",
    "# Складываем остальные значения в одно и называем \"Другие\"\n",
    "eu_other = eu_sales.sum() - eu_top5.sum()\n",
    "eu_top5['Other'] = eu_other\n",
    "# Создаем круговую диаграмму в виде бублика\n",
    "plt.pie(eu_top5, labels=eu_top5.index, wedgeprops=dict(width=0.5), autopct='%.1f%%')\n",
    "# Добавляем заголовок\n",
    "plt.title('Top 5 genres in Europe')\n",
    "# Показываем диаграмму\n",
    "plt.show()\n",
    "\n",
    "# Выбираем данные по продажам игр по жанрам в Европе\n",
    "jp_sales = data_filtered.groupby('genre')['jp_sales'].sum()\n",
    "# Сортируем данные по убыванию и выбираем пять самых больших значений\n",
    "jp_top5 = jp_sales.sort_values(ascending=False).head(5)\n",
    "# Складываем остальные значения в одно и называем \"Другие\"\n",
    "jp_other = jp_sales.sum() - jp_top5.sum()\n",
    "jp_top5['Other'] = jp_other\n",
    "# Создаем круговую диаграмму в виде бублика\n",
    "plt.pie(jp_top5, labels=jp_top5.index, wedgeprops=dict(width=0.5), autopct='%.1f%%')\n",
    "# Добавляем заголовок\n",
    "plt.title('Top 5 genres in Japan')\n",
    "# Показываем диаграмму\n",
    "plt.show()"
   ]
  },
  {
   "cell_type": "markdown",
   "metadata": {},
   "source": [
    "Из полученных результатов вы можете сказать о самых популярных жанрах в каждом регионе следующее:\n",
    "+ В Северной Америке самыми популярными жанрами являются Action, Shooter и Sports, которые имеют наибольшую долю продаж в этом регионе.\n",
    "+ В Европе самыми популярными жанрами являются Action, Shooter и Sports, которые имеют наибольшую долю продаж в этом регионе.\n",
    "+ В Японии самыми популярными жанрами являются Role-Playing и Action, которые имеют наибольшую долю продаж в этом регионе. "
   ]
  },
  {
   "cell_type": "markdown",
   "metadata": {},
   "source": [
    "**Влияет ли рейтинг ESRB на продажи в отдельном регионе?**"
   ]
  },
  {
   "cell_type": "code",
   "execution_count": 27,
   "metadata": {},
   "outputs": [
    {
     "data": {
      "text/plain": [
       "<AxesSubplot:title={'center':'Top ratings in Japan'}, xlabel='rating'>"
      ]
     },
     "execution_count": 27,
     "metadata": {},
     "output_type": "execute_result"
    },
    {
     "data": {
      "image/png": "[encoded data removed]",
      "text/plain": [
       "<Figure size 432x288 with 1 Axes>"
      ]
     },
     "metadata": {
      "needs_background": "light"
     },
     "output_type": "display_data"
    },
    {
     "data": {
      "image/png": "[encoded data removed]",
      "text/plain": [
       "<Figure size 432x288 with 1 Axes>"
      ]
     },
     "metadata": {
      "needs_background": "light"
     },
     "output_type": "display_data"
    },
    {
     "data": {
      "image/png": "[encoded data removed]",
      "text/plain": [
       "<Figure size 432x288 with 1 Axes>"
      ]
     },
     "metadata": {
      "needs_background": "light"
     },
     "output_type": "display_data"
    }
   ],
   "source": [
    "# Группируем данные по рейтингам и суммируем продажи по регионам\n",
    "rating_sales = data_filtered.groupby('rating').sum()\n",
    "# Сортируем результаты по убыванию для Северной Америки\n",
    "na_sorted = rating_sales.sort_values('na_sales', ascending=False)\n",
    "\n",
    "# Сортируем результаты по убыванию для Европы\n",
    "eu_sorted = rating_sales.sort_values('eu_sales', ascending=False)\n",
    "\n",
    "# Сортируем результаты по убыванию для Японии\n",
    "jp_sorted = rating_sales.sort_values('jp_sales', ascending=False)\n",
    "\n",
    "na_sorted.plot.bar(y='na_sales', title='Top ratings in North America')\n",
    "eu_sorted.plot.bar(y='eu_sales', title='Top ratings in Europe')\n",
    "jp_sorted.plot.bar(y='jp_sales', title='Top ratings in Japan')"
   ]
  },
  {
   "cell_type": "markdown",
   "metadata": {},
   "source": [
    "+ В Северной Америке самыми продаваемыми играми являются те, которые имеют рейтинг M (Mature), то есть предназначены для взрослой аудитории. Затем идут игры с рейтингом E (Everyone), то есть подходящие для всех возрастов. Игры с другими рейтингами имеют меньшую долю продаж в этом регионе.\n",
    "+ В Европе самыми продаваемыми играми являются также, имеющие рейтинг M (Mature). Эти игры имеют наибольшую долю продаж среди игр с рейтингом в этом регионе. Затем идут игры с рейтингом E (Everyone). Игры с другими рейтингами имеют меньшую долю продаж в этом регионе.\n",
    "+ В Японии самыми продаваемыми играми являются те, которые не имеют рейтинга ESRB, следом идут игры, с рейтингом E (Everyone), T (Teen) и M (Mature). Игры без рейтинга esrb имеют большой спрос в Японии, что может свидетельствовать о том, что игроки в этом регионе предпочитают более локальные, оригинальные и эксклюзивные игры, которые могут не соответствовать стандартам ESRB или не быть доступными на других рынках. Игры с другими рейтингами имеют меньшую долю продаж в этом регионе.\n",
    "В целом, можно сказать, что рынок игр в Северной Америке и Европе более схож по предпочтениям рейтингов, чем рынок игр в Японии, который имеет свои особенности и культурные различия.\n"
   ]
  },
  {
   "cell_type": "code",
   "execution_count": 28,
   "metadata": {},
   "outputs": [],
   "source": [
    "# Комментарий ревьюера\n",
    "#temp = df.copy()\n",
    "#print(temp.rating.isna().sum(), temp.rating.isna().sum()/len(temp))\n",
    "#temp.rating.value_counts()"
   ]
  },
  {
   "cell_type": "markdown",
   "metadata": {},
   "source": [
    "**Вывод**\n",
    "+ Продажи игр зависят от многих факторов, таких как платформа, жанр, рейтинг и регион.\n",
    "+ В разных регионах есть разные предпочтения по платформам, жанрам и рейтингам игр. Например, в Северной Америке и Европе популярны консоли от Microsoft и Sony, а в Японии — от Nintendo. Также в Северной Америке и Европе популярны жанры Action, Sports и Shooter, а в Японии — Role-Playing. Кроме того, в Северной Америке и Европе популярны игры с рейтингом E (для всех) и M (для взрослых), а в Японии — с рейтингом E (для всех) и T (для подростков).\n",
    "+ Для успешной продажи игры в разных регионах необходимо учитывать специфику каждого рынка и адаптировать игру под нужды и интересы местных игроков. Также необходимо следить за актуальными тенденциями и прогнозами в игровой индустрии, чтобы быть в курсе новых технологий, платформ и жанров."
   ]
  },
  {
   "cell_type": "markdown",
   "metadata": {},
   "source": [
    "### **Шаг 5. Проверьте гипотезы**"
   ]
  },
  {
   "cell_type": "markdown",
   "metadata": {},
   "source": [
    "#### **Средние пользовательские рейтинги платформ Xbox One и PC одинаковые;**"
   ]
  },
  {
   "cell_type": "code",
   "execution_count": 29,
   "metadata": {},
   "outputs": [],
   "source": [
    "# создаем выборку рейтингов по платформе Xbox One\n",
    "#xbox_one_ratings = data.loc[data['platform'] == 'XOne', 'user_score']\n",
    "# выводим первые десять значений выборки\n",
    "#print(xbox_one_ratings.head(10))\n",
    "\n",
    "# создаем выборку рейтингов по платформе PC\n",
    "#pc_ratings = data.loc[data['platform'] == 'PC', 'user_score']\n",
    "# выводим первые десять значений выборки\n",
    "#print(pc_ratings.head(10))"
   ]
  },
  {
   "cell_type": "code",
   "execution_count": 30,
   "metadata": {},
   "outputs": [],
   "source": [
    "#заменим пропущенные значения\n",
    "# создаем выборку рейтингов по платформе PC\n",
    "#pc_ratings = data.loc[data['platform'] == 'PC', 'user_score']\n",
    "# заменяем пропущенные значения на среднее значение по выборке\n",
    "#pc_ratings = xbox_one_ratings.fillna(xbox_one_ratings.mean())\n",
    "# выводим первые десять значений выборки\n",
    "#print(pc_ratings.head(10))\n",
    "\n",
    "#заменим пропущенные значения\n",
    "# создаем выборку рейтингов по платформе PC\n",
    "#pc_ratings = data.loc[data['platform'] == 'PC', 'user_score']\n",
    "# заменяем пропущенные значения на среднее значение по выборке\n",
    "#pc_ratings = pc_ratings.fillna(pc_ratings.mean())\n",
    "# выводим первые десять значений выборки\n",
    "#print(pc_ratings.head(10))"
   ]
  },
  {
   "cell_type": "code",
   "execution_count": 31,
   "metadata": {},
   "outputs": [],
   "source": [
    "# задаем уровень значимости\n",
    "#alpha = 0.05\n",
    "\n",
    "# создаем выборки рейтингов по платформам (вы можете использовать свои данные)\n",
    "#xbox_one_ratings = [6.5, 7.9, 5.4, 6.4, 6.2, 6.5, 4.1, 5.5, 7.5, 4.4]\n",
    "#pc_ratings = [6.5, 7.9, 5.4, 6.4, 6.2, 6.5, 4.1, 5.5, 7.5, 4.4]\n",
    "\n",
    "# применяем t-критерий Стьюдента\n",
    "#t_statistic, p_value = stats.ttest_ind(xbox_one_ratings, pc_ratings, equal_var=True)\n",
    "\n",
    "# выводим результаты\n",
    "#print(\"t-статистика:\", t_statistic)\n",
    "#print(\"p-значение:\", p_value)\n",
    "\n",
    "# принимаем решение\n",
    "#if p_value <= alpha:\n",
    "    #print(\"Отвергаем нулевую гипотезу: средние пользовательские рейтинги платформ Xbox One и PC различаются\")\n",
    "#else:\n",
    "    #print(\"Не отвергаем нулевую гипотезу: средние пользовательские рейтинги платформ Xbox One и PC одинаковые\")"
   ]
  },
  {
   "cell_type": "code",
   "execution_count": 32,
   "metadata": {
    "scrolled": true
   },
   "outputs": [
    {
     "name": "stdout",
     "output_type": "stream",
     "text": [
      "t-статистика: -0.5930304646661255\n",
      "p-значение: 0.5535080500643661\n",
      "Не отвергаем нулевую гипотезу: средние пользовательские рейтинги жанров PC и Xbox One одинаковые\n"
     ]
    }
   ],
   "source": [
    "# задаем уровень значимости\n",
    "alpha = 0.05\n",
    "\n",
    "# создаем выборки рейтингов по платформам\n",
    "pc_ratings = data_filtered.loc[data_filtered['platform'] == 'PC', 'user_score']\n",
    "xbox_one_ratings = data_filtered.loc[data_filtered['platform'] == 'XOne', 'user_score']\n",
    "\n",
    "# удаляем пропущенные значения из выборки\n",
    "pc_ratings = pc_ratings.dropna()\n",
    "xbox_one_ratings = xbox_one_ratings.dropna()\n",
    "\n",
    "# применяем t-критерий Стьюдента\n",
    "t_statistic, p_value = stats.ttest_ind(pc_ratings, xbox_one_ratings, equal_var=True)\n",
    "\n",
    "# выводим результаты\n",
    "print(\"t-статистика:\", t_statistic)\n",
    "print(\"p-значение:\", p_value)\n",
    "\n",
    "# принимаем решение\n",
    "if p_value <= alpha:\n",
    "    print(\"Отвергаем нулевую гипотезу: средние пользовательские рейтинги платформ PC и Xbox One различаются\")\n",
    "else:\n",
    "    print(\"Не отвергаем нулевую гипотезу: средние пользовательские рейтинги жанров PC и Xbox One одинаковые\")"
   ]
  },
  {
   "cell_type": "markdown",
   "metadata": {},
   "source": [
    "По результатам t-теста можно сделать следующий краткий итог: \n",
    "+ Мы получили отрицательную t-статистику, что означает, что средний пользовательский рейтинг платформы PC ниже, чем средний пользовательский рейтинг платформы Xbox One. \n",
    "+ Мы получили достаточно большое p-значение, которое больше заданного уровня значимости 0.05. Это означает, что вероятность получить такую или большую разницу в средних рейтингах при условии, что нулевая гипотеза верна, достаточно высокая. \n",
    "+ Мы не отвергли нулевую гипотезу о том, что средние пользовательские рейтинги платформ PC и Xbox One одинаковые. \n",
    "+ Это означает, что мы не приняли альтернативную гипотезу о том, что средние пользовательские рейтинги платформ PC и Xbox One различаются."
   ]
  },
  {
   "cell_type": "markdown",
   "metadata": {},
   "source": [
    "#### **Средние пользовательские рейтинги жанров Action (англ. «действие», экшен-игры) и Sports (англ. «спортивные соревнования») разные.**"
   ]
  },
  {
   "cell_type": "markdown",
   "metadata": {},
   "source": [
    "Нулевая гипотеза H0: средние пользовательские рейтинги жанров Action и Sports одинаковые.Альтернативная гипотеза H1: средние пользовательские рейтинги жанров Action и Sports различаются"
   ]
  },
  {
   "cell_type": "code",
   "execution_count": 33,
   "metadata": {},
   "outputs": [
    {
     "name": "stdout",
     "output_type": "stream",
     "text": [
      "t-статистика: 10.984175532598625\n",
      "p-значение: 4.8045233804629176e-26\n",
      "Отвергаем нулевую гипотезу: средние пользовательские рейтинги жанров Action и Sports разные\n"
     ]
    }
   ],
   "source": [
    "# создаем выборки рейтингов по жанрам\n",
    "action_ratings = data_filtered.loc[data_filtered['genre'] == 'Action', 'user_score']\n",
    "sports_ratings = data_filtered.loc[data_filtered['genre'] == 'Sports', 'user_score']\n",
    "\n",
    "# удаляем пропущенные значения из выборки\n",
    "action_ratings = action_ratings.dropna()\n",
    "sports_ratings = sports_ratings.dropna()\n",
    "\n",
    "# задаем уровень значимости\n",
    "alpha = 0.05\n",
    "\n",
    "# применяем t-тест для двух независимых выборок с альтернативной гипотезой\n",
    "t_statistic, p_value = stats.ttest_ind(action_ratings, sports_ratings, equal_var=True, alternative='two-sided')\n",
    "\n",
    "# выводим результаты\n",
    "print(\"t-статистика:\", t_statistic)\n",
    "print(\"p-значение:\", p_value)\n",
    "\n",
    "# принимаем решение\n",
    "if p_value <= alpha:\n",
    "    print(\"Отвергаем нулевую гипотезу: средние пользовательские рейтинги жанров Action и Sports разные\")\n",
    "else:\n",
    "    print(\"Не отвергаем нулевую гипотезу: средние пользовательские рейтинги жанров Action и Sports одинаковые\")"
   ]
  },
  {
   "cell_type": "markdown",
   "metadata": {},
   "source": [
    "По результатам t-теста можно сделать следующий краткий итог: \n",
    "+ Мы получили положительную t-статистику, что означает, что средний пользовательский рейтинг жанра Action выше, чем средний пользовательский рейтинг жанра Sports. \n",
    "+ Мы получили очень маленькое p-значение, которое меньше заданного уровня значимости 0.05. Это означает, что вероятность получить такую или большую разницу в средних рейтингах при условии, что нулевая гипотеза верна, очень низкая. \n",
    "+ Мы отвергли нулевую гипотезу о том, что средние пользовательские рейтинги жанров Action и Sports одинаковые. Это означает, что мы приняли альтернативную гипотезу о том, что средние пользовательские рейтинги жанров Action и Sports разные."
   ]
  },
  {
   "cell_type": "markdown",
   "metadata": {},
   "source": [
    "Я сформулировал нулевую гипотезу H0: средние пользовательские рейтинги жанров Action и Sports одинаковые. Это означает, что нет статистически значимой разницы между рейтингами по этим жанрам. Я сформулировал альтернативную гипотезу H1: средние пользовательские рейтинги жанров Action и Sports различаются. Это означает, что есть статистически значимая разница между рейтингами по этим жанрам.\n",
    "Я применил t-критерий Стьюдента для независимых выборок для проверки гипотезы, потому что я предположил, что дисперсии рейтингов по жанрам равны. Также я предположил, что рейтинги имеют нормальное распределение и что выборки независимы друг от друга."
   ]
  },
  {
   "cell_type": "markdown",
   "metadata": {},
   "source": [
    "</font><font color='Blue'><b>Комментарий студента </b></font><br>\n",
    "ВЫПОЛНЕНО"
   ]
  },
  {
   "cell_type": "code",
   "execution_count": 34,
   "metadata": {},
   "outputs": [
    {
     "name": "stdout",
     "output_type": "stream",
     "text": [
      "Средний пользовательский рейтинг платформы PC: 6.4286407766990274\n",
      "Средний пользовательский рейтинг платформы Xbox One: 6.521428571428572\n"
     ]
    },
    {
     "data": {
      "image/png": "[encoded data removed]",
      "text/plain": [
       "<Figure size 432x288 with 1 Axes>"
      ]
     },
     "metadata": {
      "needs_background": "light"
     },
     "output_type": "display_data"
    }
   ],
   "source": [
    "# создаем выборки рейтингов по платформам\n",
    "pc_ratings = data_filtered.loc[data_filtered['platform'] == 'PC', 'user_score']\n",
    "xbox_one_ratings = data_filtered.loc[data_filtered['platform'] == 'XOne', 'user_score']\n",
    "\n",
    "# удаляем пропущенные значения из выборки\n",
    "pc_ratings = pc_ratings.dropna()\n",
    "xbox_one_ratings = xbox_one_ratings.dropna()\n",
    "\n",
    "# считаем средние рейтинги по платформам\n",
    "pc_mean = pc_ratings.mean()\n",
    "xbox_one_mean = xbox_one_ratings.mean()\n",
    "\n",
    "# выводим средние рейтинги\n",
    "print(\"Средний пользовательский рейтинг платформы PC:\", pc_mean)\n",
    "print(\"Средний пользовательский рейтинг платформы Xbox One:\", xbox_one_mean)\n",
    "\n",
    "# строим график сравнения средних рейтингов по платформам\n",
    "plt.bar(['PC', 'Xbox One'], [pc_mean, xbox_one_mean], color=['blue', 'green'])\n",
    "plt.xlabel('Платформа')\n",
    "plt.ylabel('Средний пользовательский рейтинг')\n",
    "plt.title('Сравнение средних пользовательских рейтингов платформ PC и Xbox One')\n",
    "plt.show()"
   ]
  },
  {
   "cell_type": "code",
   "execution_count": 35,
   "metadata": {},
   "outputs": [
    {
     "name": "stdout",
     "output_type": "stream",
     "text": [
      "Средний пользовательский рейтинг жанра Action: 6.825047801147227\n",
      "Средний пользовательский рейтинг жанра Sports: 5.455670103092784\n"
     ]
    },
    {
     "data": {
      "image/png": "[encoded data removed]",
      "text/plain": [
       "<Figure size 432x288 with 1 Axes>"
      ]
     },
     "metadata": {
      "needs_background": "light"
     },
     "output_type": "display_data"
    }
   ],
   "source": [
    "# создаем выборки рейтингов по жанрам\n",
    "action_ratings = data_filtered.loc[data_filtered['genre'] == 'Action', 'user_score']\n",
    "sports_ratings = data_filtered.loc[data_filtered['genre'] == 'Sports', 'user_score']\n",
    "\n",
    "# удаляем пропущенные значения из выборки\n",
    "action_ratings = action_ratings.dropna()\n",
    "sports_ratings = sports_ratings.dropna()\n",
    "\n",
    "# считаем средние рейтинги по жанрам\n",
    "action_mean = action_ratings.mean()\n",
    "sports_mean = sports_ratings.mean()\n",
    "\n",
    "# выводим средние рейтинги\n",
    "print(\"Средний пользовательский рейтинг жанра Action:\", action_mean)\n",
    "print(\"Средний пользовательский рейтинг жанра Sports:\", sports_mean)\n",
    "\n",
    "# строим график сравнения средних рейтингов по жанрам\n",
    "plt.bar(['Action', 'Sports'], [action_mean, sports_mean], color=['red', 'orange'])\n",
    "plt.xlabel('Жанр')\n",
    "plt.ylabel('Средний пользовательский рейтинг')\n",
    "plt.title('Сравнение средних пользовательских рейтингов жанров Action и Sports')\n",
    "plt.show()"
   ]
  },
  {
   "cell_type": "markdown",
   "metadata": {},
   "source": [
    "По графикам сравнения средних пользовательских рейтингов по платформам и жанрам можно сделать следующий краткий вывод:\n",
    "\n",
    "По платформам видно, что средний пользовательский рейтинг платформы PC ниже, чем средний пользовательский рейтинг платформы Xbox One. Это подтверждает результат t-теста, который не отверг нулевую гипотезу о равенстве средних рейтингов по платформам. По жанрам видно, что средний пользовательский рейтинг жанра Action выше, чем средний пользовательский рейтинг жанра Sports. Разница между ними достаточно значительна. Это соответствует результату t-теста, который отверг нулевую гипотезу о равенстве средних рейтингов по жанрам."
   ]
  },
  {
   "cell_type": "markdown",
   "metadata": {},
   "source": [
    "**Были рассмотрены две нулевые гипотезы о равенстве средних пользовательских рейтингов по платформам и жанрам. С помощью t-теста было установлено, что средний пользовательский рейтинг платформы PC статистически не отличается от среднего пользовательского рейтинга платформы Xbox One при уровне значимости 0.05. В то же время, средний пользовательский рейтинг жанра Action статистически значимо выше, чем средний пользовательский рейтинг жанра Sports при том же уровне значимости. Эти результаты подтверждаются графическим анализом данных. Таким образом, можно сделать вывод, что пользователи не предпочитают игры на платформе PC больше, чем игры на платформе Xbox One и предпочитают игры по жанру Action больше, чем игры по жанру Sports.**"
   ]
  },
  {
   "cell_type": "markdown",
   "metadata": {},
   "source": [
    "### **Шаг 6. Напишите общий вывод**"
   ]
  },
  {
   "cell_type": "markdown",
   "metadata": {},
   "source": [
    "**Проделанная работа позволяет сделать следующие выводы:**\n",
    "\n",
    "Продажи игр зависят от многих факторов, таких как платформа, жанр, рейтинг и регион. В разных регионах есть разные предпочтения по платформам, жанрам и рейтингам игр. Например, в Северной Америке и Европе популярны консоли от Microsoft и Sony, а в Японии — от Nintendo. Также в Северной Америке и Европе популярны жанры Action, Sports и Shooter, а в Японии — Role-Playing. Кроме того, в Северной Америке и Европе популярны игры с рейтингом E (для всех) и M (для взрослых), а в Японии — с рейтингом E (для всех) и T (для подростков). Для успешной продажи игры в разных регионах необходимо учитывать специфику каждого рынка и адаптировать игру под нужды и интересы местных игроков. Также необходимо следить за актуальными тенденциями и прогнозами в игровой индустрии, чтобы быть в курсе новых технологий, платформ и жанров. Были рассмотрены две нулевые гипотезы о равенстве средних пользовательских рейтингов по платформам и жанрам. С помощью t-теста было установлено, что средний пользовательский рейтинг платформы PC статистически не отличается от среднего пользовательского рейтинга платформы Xbox One при уровне значимости 0.05. В то же время, средний пользовательский рейтинг жанра Action статистически значимо выше, чем средний пользовательский рейтинг жанра Sports при том же уровне значимости. Эти результаты подтверждаются графическим анализом данных. Таким образом, можно сделать вывод, что пользователи не предпочитают игры на платформе PC больше, чем игры на платформе Xbox One и предпочитают игры по жанру Action больше, чем игры по жанру Sports.\n",
    "В заключение следует отметить, что анализ данных о продажах игр позволил получить ценную информацию о характеристиках и особенностях игрового рынка в разных регионах. Эта информация может быть использована для разработки стратегии продвижения игр и повышения их конкурентоспособности."
   ]
  }
 ],
 "metadata": {
  "ExecuteTimeLog": [
   {
    "duration": 54,
    "start_time": "2023-04-13T20:55:47.550Z"
   },
   {
    "duration": 448,
    "start_time": "2023-04-13T20:55:58.286Z"
   },
   {
    "duration": 113,
    "start_time": "2023-04-13T20:55:58.736Z"
   },
   {
    "duration": 63,
    "start_time": "2023-04-13T20:57:25.387Z"
   },
   {
    "duration": 19,
    "start_time": "2023-04-13T21:02:43.594Z"
   },
   {
    "duration": 72,
    "start_time": "2023-04-13T21:05:07.508Z"
   },
   {
    "duration": 5,
    "start_time": "2023-04-13T21:05:19.969Z"
   },
   {
    "duration": 5,
    "start_time": "2023-04-13T21:21:41.492Z"
   },
   {
    "duration": 8,
    "start_time": "2023-04-13T21:47:22.582Z"
   },
   {
    "duration": 9,
    "start_time": "2023-04-13T21:53:22.266Z"
   },
   {
    "duration": 9,
    "start_time": "2023-04-13T21:56:31.192Z"
   },
   {
    "duration": 411,
    "start_time": "2023-04-13T21:59:45.169Z"
   },
   {
    "duration": 73,
    "start_time": "2023-04-13T21:59:45.582Z"
   },
   {
    "duration": 4,
    "start_time": "2023-04-13T21:59:45.656Z"
   },
   {
    "duration": 13,
    "start_time": "2023-04-13T21:59:45.661Z"
   },
   {
    "duration": 105,
    "start_time": "2023-04-13T21:59:45.676Z"
   },
   {
    "duration": 5,
    "start_time": "2023-04-13T22:03:21.684Z"
   },
   {
    "duration": 378,
    "start_time": "2023-04-13T22:04:50.852Z"
   },
   {
    "duration": 60,
    "start_time": "2023-04-13T22:04:51.232Z"
   },
   {
    "duration": 3,
    "start_time": "2023-04-13T22:04:51.293Z"
   },
   {
    "duration": 28,
    "start_time": "2023-04-13T22:04:51.298Z"
   },
   {
    "duration": 108,
    "start_time": "2023-04-13T22:04:51.327Z"
   },
   {
    "duration": 54,
    "start_time": "2023-04-15T10:06:14.886Z"
   },
   {
    "duration": 478,
    "start_time": "2023-04-15T10:06:31.506Z"
   },
   {
    "duration": 493,
    "start_time": "2023-04-15T10:06:31.986Z"
   },
   {
    "duration": 5,
    "start_time": "2023-04-15T10:06:32.481Z"
   },
   {
    "duration": 17,
    "start_time": "2023-04-15T10:06:32.490Z"
   },
   {
    "duration": 18,
    "start_time": "2023-04-15T10:06:32.509Z"
   },
   {
    "duration": 28,
    "start_time": "2023-04-15T10:50:09.460Z"
   },
   {
    "duration": 7,
    "start_time": "2023-04-15T11:00:43.528Z"
   },
   {
    "duration": 8,
    "start_time": "2023-04-15T11:03:23.156Z"
   },
   {
    "duration": 463,
    "start_time": "2023-04-15T11:06:20.738Z"
   },
   {
    "duration": 80,
    "start_time": "2023-04-15T11:06:21.203Z"
   },
   {
    "duration": 4,
    "start_time": "2023-04-15T11:06:21.285Z"
   },
   {
    "duration": 18,
    "start_time": "2023-04-15T11:06:21.293Z"
   },
   {
    "duration": 88,
    "start_time": "2023-04-15T11:06:21.314Z"
   },
   {
    "duration": 8,
    "start_time": "2023-04-15T11:06:21.404Z"
   },
   {
    "duration": 72,
    "start_time": "2023-04-15T18:38:53.469Z"
   },
   {
    "duration": 6,
    "start_time": "2023-04-15T19:11:57.894Z"
   },
   {
    "duration": 8,
    "start_time": "2023-04-15T19:12:01.530Z"
   },
   {
    "duration": 12,
    "start_time": "2023-04-15T19:12:50.918Z"
   },
   {
    "duration": 780,
    "start_time": "2023-04-15T19:14:13.675Z"
   },
   {
    "duration": 24,
    "start_time": "2023-04-15T19:15:19.030Z"
   },
   {
    "duration": 278,
    "start_time": "2023-04-15T19:15:22.049Z"
   },
   {
    "duration": 685,
    "start_time": "2023-04-15T19:15:29.268Z"
   },
   {
    "duration": 72,
    "start_time": "2023-04-15T19:15:29.956Z"
   },
   {
    "duration": 4,
    "start_time": "2023-04-15T19:15:30.030Z"
   },
   {
    "duration": 44,
    "start_time": "2023-04-15T19:15:30.037Z"
   },
   {
    "duration": 47,
    "start_time": "2023-04-15T19:15:30.083Z"
   },
   {
    "duration": 16,
    "start_time": "2023-04-15T19:15:30.133Z"
   },
   {
    "duration": 27,
    "start_time": "2023-04-15T19:15:30.155Z"
   },
   {
    "duration": 374,
    "start_time": "2023-04-15T19:15:30.184Z"
   },
   {
    "duration": 328,
    "start_time": "2023-04-15T19:17:05.350Z"
   },
   {
    "duration": 81,
    "start_time": "2023-04-15T19:20:38.710Z"
   },
   {
    "duration": 440,
    "start_time": "2023-04-15T19:21:42.861Z"
   },
   {
    "duration": 345,
    "start_time": "2023-04-15T19:31:07.927Z"
   },
   {
    "duration": 367,
    "start_time": "2023-04-15T19:31:54.807Z"
   },
   {
    "duration": 13,
    "start_time": "2023-04-15T19:32:55.969Z"
   },
   {
    "duration": 1029,
    "start_time": "2023-04-15T19:38:44.993Z"
   },
   {
    "duration": 63,
    "start_time": "2023-04-16T13:29:30.953Z"
   },
   {
    "duration": 849,
    "start_time": "2023-04-16T13:29:40.289Z"
   },
   {
    "duration": 115,
    "start_time": "2023-04-16T13:29:41.141Z"
   },
   {
    "duration": 4,
    "start_time": "2023-04-16T13:29:41.258Z"
   },
   {
    "duration": 12,
    "start_time": "2023-04-16T13:29:41.263Z"
   },
   {
    "duration": 13,
    "start_time": "2023-04-16T13:29:41.278Z"
   },
   {
    "duration": 18,
    "start_time": "2023-04-16T13:29:41.292Z"
   },
   {
    "duration": 9,
    "start_time": "2023-04-16T13:29:41.311Z"
   },
   {
    "duration": 930,
    "start_time": "2023-04-16T13:29:41.322Z"
   },
   {
    "duration": 1325,
    "start_time": "2023-04-16T13:53:26.917Z"
   },
   {
    "duration": 597,
    "start_time": "2023-04-16T13:54:15.674Z"
   },
   {
    "duration": 59,
    "start_time": "2023-04-16T13:54:16.272Z"
   },
   {
    "duration": 3,
    "start_time": "2023-04-16T13:54:16.333Z"
   },
   {
    "duration": 21,
    "start_time": "2023-04-16T13:54:16.337Z"
   },
   {
    "duration": 19,
    "start_time": "2023-04-16T13:54:16.360Z"
   },
   {
    "duration": 19,
    "start_time": "2023-04-16T13:54:16.380Z"
   },
   {
    "duration": 9,
    "start_time": "2023-04-16T13:54:16.407Z"
   },
   {
    "duration": 823,
    "start_time": "2023-04-16T13:54:16.418Z"
   },
   {
    "duration": 1368,
    "start_time": "2023-04-16T13:54:17.243Z"
   },
   {
    "duration": 569,
    "start_time": "2023-04-16T14:03:53.075Z"
   },
   {
    "duration": 266,
    "start_time": "2023-04-16T14:05:37.368Z"
   },
   {
    "duration": 781,
    "start_time": "2023-04-16T14:14:50.764Z"
   },
   {
    "duration": 763,
    "start_time": "2023-04-16T14:18:58.104Z"
   },
   {
    "duration": 594,
    "start_time": "2023-04-16T14:19:07.961Z"
   },
   {
    "duration": 58,
    "start_time": "2023-04-16T14:19:08.557Z"
   },
   {
    "duration": 3,
    "start_time": "2023-04-16T14:19:08.617Z"
   },
   {
    "duration": 10,
    "start_time": "2023-04-16T14:19:08.621Z"
   },
   {
    "duration": 19,
    "start_time": "2023-04-16T14:19:08.632Z"
   },
   {
    "duration": 6,
    "start_time": "2023-04-16T14:19:08.652Z"
   },
   {
    "duration": 9,
    "start_time": "2023-04-16T14:19:08.659Z"
   },
   {
    "duration": 1631,
    "start_time": "2023-04-16T14:19:08.669Z"
   },
   {
    "duration": 0,
    "start_time": "2023-04-16T14:19:10.302Z"
   },
   {
    "duration": 1438,
    "start_time": "2023-04-16T14:20:15.846Z"
   },
   {
    "duration": 264,
    "start_time": "2023-04-16T14:23:08.174Z"
   },
   {
    "duration": 122,
    "start_time": "2023-04-16T14:23:17.851Z"
   },
   {
    "duration": 13,
    "start_time": "2023-04-16T14:24:53.755Z"
   },
   {
    "duration": 594,
    "start_time": "2023-04-16T14:25:02.228Z"
   },
   {
    "duration": 58,
    "start_time": "2023-04-16T14:25:02.823Z"
   },
   {
    "duration": 3,
    "start_time": "2023-04-16T14:25:02.882Z"
   },
   {
    "duration": 27,
    "start_time": "2023-04-16T14:25:02.887Z"
   },
   {
    "duration": 28,
    "start_time": "2023-04-16T14:25:02.916Z"
   },
   {
    "duration": 6,
    "start_time": "2023-04-16T14:25:02.945Z"
   },
   {
    "duration": 25,
    "start_time": "2023-04-16T14:25:02.952Z"
   },
   {
    "duration": 1753,
    "start_time": "2023-04-16T14:25:02.979Z"
   },
   {
    "duration": 265,
    "start_time": "2023-04-16T14:25:04.734Z"
   },
   {
    "duration": 1160,
    "start_time": "2023-04-16T14:25:05.001Z"
   },
   {
    "duration": 1178,
    "start_time": "2023-04-16T14:27:20.528Z"
   },
   {
    "duration": 316,
    "start_time": "2023-04-16T15:35:23.911Z"
   },
   {
    "duration": 591,
    "start_time": "2023-04-16T15:35:36.636Z"
   },
   {
    "duration": 57,
    "start_time": "2023-04-16T15:35:37.229Z"
   },
   {
    "duration": 3,
    "start_time": "2023-04-16T15:35:37.288Z"
   },
   {
    "duration": 21,
    "start_time": "2023-04-16T15:35:37.292Z"
   },
   {
    "duration": 20,
    "start_time": "2023-04-16T15:35:37.315Z"
   },
   {
    "duration": 8,
    "start_time": "2023-04-16T15:35:37.336Z"
   },
   {
    "duration": 11,
    "start_time": "2023-04-16T15:35:37.345Z"
   },
   {
    "duration": 1759,
    "start_time": "2023-04-16T15:35:37.358Z"
   },
   {
    "duration": 296,
    "start_time": "2023-04-16T15:35:39.119Z"
   },
   {
    "duration": 1295,
    "start_time": "2023-04-16T15:35:39.417Z"
   },
   {
    "duration": 18,
    "start_time": "2023-04-16T15:39:19.603Z"
   },
   {
    "duration": 252,
    "start_time": "2023-04-16T15:39:53.904Z"
   },
   {
    "duration": 241,
    "start_time": "2023-04-16T15:42:37.196Z"
   },
   {
    "duration": 2,
    "start_time": "2023-04-16T15:43:46.971Z"
   },
   {
    "duration": 99,
    "start_time": "2023-04-16T15:44:51.722Z"
   },
   {
    "duration": 176,
    "start_time": "2023-04-16T15:46:23.467Z"
   },
   {
    "duration": 3,
    "start_time": "2023-04-16T15:48:32.309Z"
   },
   {
    "duration": 93,
    "start_time": "2023-04-16T15:48:58.941Z"
   },
   {
    "duration": 89,
    "start_time": "2023-04-16T15:49:12.944Z"
   },
   {
    "duration": 93,
    "start_time": "2023-04-16T15:49:46.119Z"
   },
   {
    "duration": 107,
    "start_time": "2023-04-16T15:53:09.841Z"
   },
   {
    "duration": 210,
    "start_time": "2023-04-16T16:01:29.533Z"
   },
   {
    "duration": 90,
    "start_time": "2023-04-16T16:05:40.189Z"
   },
   {
    "duration": 611,
    "start_time": "2023-04-16T16:05:46.359Z"
   },
   {
    "duration": 61,
    "start_time": "2023-04-16T16:05:46.972Z"
   },
   {
    "duration": 3,
    "start_time": "2023-04-16T16:05:47.034Z"
   },
   {
    "duration": 10,
    "start_time": "2023-04-16T16:05:47.039Z"
   },
   {
    "duration": 21,
    "start_time": "2023-04-16T16:05:47.051Z"
   },
   {
    "duration": 28,
    "start_time": "2023-04-16T16:05:47.074Z"
   },
   {
    "duration": 11,
    "start_time": "2023-04-16T16:05:47.104Z"
   },
   {
    "duration": 1530,
    "start_time": "2023-04-16T16:05:47.116Z"
   },
   {
    "duration": 255,
    "start_time": "2023-04-16T16:05:48.648Z"
   },
   {
    "duration": 1118,
    "start_time": "2023-04-16T16:05:48.904Z"
   },
   {
    "duration": 102,
    "start_time": "2023-04-16T16:05:50.024Z"
   },
   {
    "duration": 99,
    "start_time": "2023-04-16T16:21:19.510Z"
   },
   {
    "duration": 738,
    "start_time": "2023-04-16T16:21:32.135Z"
   },
   {
    "duration": 82,
    "start_time": "2023-04-16T16:21:32.875Z"
   },
   {
    "duration": 4,
    "start_time": "2023-04-16T16:21:32.959Z"
   },
   {
    "duration": 20,
    "start_time": "2023-04-16T16:21:32.966Z"
   },
   {
    "duration": 29,
    "start_time": "2023-04-16T16:21:32.988Z"
   },
   {
    "duration": 6,
    "start_time": "2023-04-16T16:21:33.019Z"
   },
   {
    "duration": 13,
    "start_time": "2023-04-16T16:21:33.027Z"
   },
   {
    "duration": 1806,
    "start_time": "2023-04-16T16:21:33.041Z"
   },
   {
    "duration": 270,
    "start_time": "2023-04-16T16:21:34.849Z"
   },
   {
    "duration": 1340,
    "start_time": "2023-04-16T16:21:35.121Z"
   },
   {
    "duration": 87,
    "start_time": "2023-04-16T16:21:36.462Z"
   },
   {
    "duration": 11,
    "start_time": "2023-04-16T16:22:01.525Z"
   },
   {
    "duration": 110,
    "start_time": "2023-04-16T16:25:39.105Z"
   },
   {
    "duration": 9,
    "start_time": "2023-04-16T16:26:49.508Z"
   },
   {
    "duration": 15,
    "start_time": "2023-04-16T16:29:29.785Z"
   },
   {
    "duration": 1094,
    "start_time": "2023-04-16T16:30:08.403Z"
   },
   {
    "duration": 57,
    "start_time": "2023-04-16T16:30:09.499Z"
   },
   {
    "duration": 3,
    "start_time": "2023-04-16T16:30:09.558Z"
   },
   {
    "duration": 11,
    "start_time": "2023-04-16T16:30:09.562Z"
   },
   {
    "duration": 26,
    "start_time": "2023-04-16T16:30:09.575Z"
   },
   {
    "duration": 7,
    "start_time": "2023-04-16T16:30:09.602Z"
   },
   {
    "duration": 15,
    "start_time": "2023-04-16T16:30:09.610Z"
   },
   {
    "duration": 1619,
    "start_time": "2023-04-16T16:30:09.627Z"
   },
   {
    "duration": 286,
    "start_time": "2023-04-16T16:30:11.248Z"
   },
   {
    "duration": 1178,
    "start_time": "2023-04-16T16:30:11.536Z"
   },
   {
    "duration": 112,
    "start_time": "2023-04-16T16:30:12.715Z"
   },
   {
    "duration": 195,
    "start_time": "2023-04-16T16:31:27.384Z"
   },
   {
    "duration": 1117,
    "start_time": "2023-04-16T16:48:48.278Z"
   },
   {
    "duration": 156,
    "start_time": "2023-04-16T16:48:59.007Z"
   },
   {
    "duration": 150,
    "start_time": "2023-04-16T16:58:19.456Z"
   },
   {
    "duration": 138,
    "start_time": "2023-04-16T16:58:38.230Z"
   },
   {
    "duration": 3,
    "start_time": "2023-04-16T17:02:20.336Z"
   },
   {
    "duration": 338,
    "start_time": "2023-04-16T17:08:19.114Z"
   },
   {
    "duration": 3,
    "start_time": "2023-04-16T17:18:07.932Z"
   },
   {
    "duration": 10,
    "start_time": "2023-04-16T17:22:58.130Z"
   },
   {
    "duration": 9,
    "start_time": "2023-04-16T17:23:22.909Z"
   },
   {
    "duration": 30,
    "start_time": "2023-04-16T17:24:14.137Z"
   },
   {
    "duration": 9,
    "start_time": "2023-04-16T17:24:42.613Z"
   },
   {
    "duration": 22,
    "start_time": "2023-04-16T17:24:54.520Z"
   },
   {
    "duration": 1151,
    "start_time": "2023-04-16T17:25:03.725Z"
   },
   {
    "duration": 57,
    "start_time": "2023-04-16T17:25:04.878Z"
   },
   {
    "duration": 4,
    "start_time": "2023-04-16T17:25:04.937Z"
   },
   {
    "duration": 10,
    "start_time": "2023-04-16T17:25:04.943Z"
   },
   {
    "duration": 20,
    "start_time": "2023-04-16T17:25:04.955Z"
   },
   {
    "duration": 18,
    "start_time": "2023-04-16T17:25:04.977Z"
   },
   {
    "duration": 24,
    "start_time": "2023-04-16T17:25:04.997Z"
   },
   {
    "duration": 1472,
    "start_time": "2023-04-16T17:25:05.023Z"
   },
   {
    "duration": 303,
    "start_time": "2023-04-16T17:25:06.497Z"
   },
   {
    "duration": 1214,
    "start_time": "2023-04-16T17:25:06.801Z"
   },
   {
    "duration": 198,
    "start_time": "2023-04-16T17:25:08.017Z"
   },
   {
    "duration": 151,
    "start_time": "2023-04-16T17:25:08.217Z"
   },
   {
    "duration": 139,
    "start_time": "2023-04-16T17:25:08.369Z"
   },
   {
    "duration": 335,
    "start_time": "2023-04-16T17:25:08.511Z"
   },
   {
    "duration": 21,
    "start_time": "2023-04-16T17:25:08.848Z"
   },
   {
    "duration": 1050,
    "start_time": "2023-04-16T17:25:19.725Z"
   },
   {
    "duration": 56,
    "start_time": "2023-04-16T17:25:20.777Z"
   },
   {
    "duration": 3,
    "start_time": "2023-04-16T17:25:20.834Z"
   },
   {
    "duration": 10,
    "start_time": "2023-04-16T17:25:20.839Z"
   },
   {
    "duration": 22,
    "start_time": "2023-04-16T17:25:20.851Z"
   },
   {
    "duration": 21,
    "start_time": "2023-04-16T17:25:20.874Z"
   },
   {
    "duration": 7,
    "start_time": "2023-04-16T17:25:20.897Z"
   },
   {
    "duration": 1463,
    "start_time": "2023-04-16T17:25:20.906Z"
   },
   {
    "duration": 252,
    "start_time": "2023-04-16T17:25:22.371Z"
   },
   {
    "duration": 1151,
    "start_time": "2023-04-16T17:25:22.625Z"
   },
   {
    "duration": 214,
    "start_time": "2023-04-16T17:25:23.778Z"
   },
   {
    "duration": 187,
    "start_time": "2023-04-16T17:25:23.993Z"
   },
   {
    "duration": 159,
    "start_time": "2023-04-16T17:25:24.182Z"
   },
   {
    "duration": 336,
    "start_time": "2023-04-16T17:25:24.343Z"
   },
   {
    "duration": 13,
    "start_time": "2023-04-16T17:25:24.681Z"
   },
   {
    "duration": 21,
    "start_time": "2023-04-16T17:25:42.833Z"
   },
   {
    "duration": 21,
    "start_time": "2023-04-16T17:26:22.462Z"
   },
   {
    "duration": 22,
    "start_time": "2023-04-16T17:26:41.013Z"
   },
   {
    "duration": 22,
    "start_time": "2023-04-16T17:26:51.833Z"
   },
   {
    "duration": 71,
    "start_time": "2023-04-16T17:27:19.816Z"
   },
   {
    "duration": 29,
    "start_time": "2023-04-16T17:27:57.323Z"
   },
   {
    "duration": 20,
    "start_time": "2023-04-16T17:28:16.731Z"
   },
   {
    "duration": 463,
    "start_time": "2023-04-16T17:32:27.723Z"
   },
   {
    "duration": 74,
    "start_time": "2023-04-16T17:34:59.152Z"
   },
   {
    "duration": 393,
    "start_time": "2023-04-16T17:36:49.121Z"
   },
   {
    "duration": 382,
    "start_time": "2023-04-16T17:41:56.733Z"
   },
   {
    "duration": 443,
    "start_time": "2023-04-16T17:43:41.525Z"
   },
   {
    "duration": 68,
    "start_time": "2023-04-16T17:45:12.425Z"
   },
   {
    "duration": 3,
    "start_time": "2023-04-16T17:50:31.876Z"
   },
   {
    "duration": 17,
    "start_time": "2023-04-16T18:45:32.488Z"
   },
   {
    "duration": 10,
    "start_time": "2023-04-16T18:45:59.634Z"
   },
   {
    "duration": 5,
    "start_time": "2023-04-16T18:48:03.010Z"
   },
   {
    "duration": 7,
    "start_time": "2023-04-16T18:50:36.510Z"
   },
   {
    "duration": 2,
    "start_time": "2023-04-16T18:51:35.654Z"
   },
   {
    "duration": 123,
    "start_time": "2023-04-16T18:52:03.550Z"
   },
   {
    "duration": 5,
    "start_time": "2023-04-16T18:52:33.380Z"
   },
   {
    "duration": 8,
    "start_time": "2023-04-16T18:54:39.045Z"
   },
   {
    "duration": 9,
    "start_time": "2023-04-16T18:56:08.122Z"
   },
   {
    "duration": 11,
    "start_time": "2023-04-16T18:59:17.146Z"
   },
   {
    "duration": 1107,
    "start_time": "2023-04-16T18:59:29.563Z"
   },
   {
    "duration": 63,
    "start_time": "2023-04-16T18:59:30.672Z"
   },
   {
    "duration": 4,
    "start_time": "2023-04-16T18:59:30.737Z"
   },
   {
    "duration": 37,
    "start_time": "2023-04-16T18:59:30.743Z"
   },
   {
    "duration": 51,
    "start_time": "2023-04-16T18:59:30.783Z"
   },
   {
    "duration": 23,
    "start_time": "2023-04-16T18:59:30.836Z"
   },
   {
    "duration": 54,
    "start_time": "2023-04-16T18:59:30.861Z"
   },
   {
    "duration": 1562,
    "start_time": "2023-04-16T18:59:30.917Z"
   },
   {
    "duration": 274,
    "start_time": "2023-04-16T18:59:32.481Z"
   },
   {
    "duration": 1209,
    "start_time": "2023-04-16T18:59:32.757Z"
   },
   {
    "duration": 275,
    "start_time": "2023-04-16T18:59:33.968Z"
   },
   {
    "duration": 189,
    "start_time": "2023-04-16T18:59:34.245Z"
   },
   {
    "duration": 148,
    "start_time": "2023-04-16T18:59:34.436Z"
   },
   {
    "duration": 355,
    "start_time": "2023-04-16T18:59:34.593Z"
   },
   {
    "duration": 479,
    "start_time": "2023-04-16T18:59:34.949Z"
   },
   {
    "duration": 407,
    "start_time": "2023-04-16T18:59:35.429Z"
   },
   {
    "duration": 420,
    "start_time": "2023-04-16T18:59:35.837Z"
   },
   {
    "duration": 8,
    "start_time": "2023-04-16T18:59:36.259Z"
   },
   {
    "duration": 38,
    "start_time": "2023-04-16T18:59:36.268Z"
   },
   {
    "duration": 6,
    "start_time": "2023-04-16T18:59:36.308Z"
   },
   {
    "duration": 7,
    "start_time": "2023-04-16T19:02:01.726Z"
   },
   {
    "duration": 5,
    "start_time": "2023-04-16T19:07:41.613Z"
   },
   {
    "duration": 1138,
    "start_time": "2023-04-16T19:08:09.626Z"
   },
   {
    "duration": 60,
    "start_time": "2023-04-16T19:08:10.766Z"
   },
   {
    "duration": 3,
    "start_time": "2023-04-16T19:08:10.827Z"
   },
   {
    "duration": 12,
    "start_time": "2023-04-16T19:08:10.833Z"
   },
   {
    "duration": 27,
    "start_time": "2023-04-16T19:08:10.846Z"
   },
   {
    "duration": 38,
    "start_time": "2023-04-16T19:08:10.875Z"
   },
   {
    "duration": 8,
    "start_time": "2023-04-16T19:08:10.915Z"
   },
   {
    "duration": 1535,
    "start_time": "2023-04-16T19:08:10.924Z"
   },
   {
    "duration": 256,
    "start_time": "2023-04-16T19:08:12.461Z"
   },
   {
    "duration": 1259,
    "start_time": "2023-04-16T19:08:12.720Z"
   },
   {
    "duration": 344,
    "start_time": "2023-04-16T19:08:13.981Z"
   },
   {
    "duration": 191,
    "start_time": "2023-04-16T19:08:14.329Z"
   },
   {
    "duration": 145,
    "start_time": "2023-04-16T19:08:14.522Z"
   },
   {
    "duration": 375,
    "start_time": "2023-04-16T19:08:14.668Z"
   },
   {
    "duration": 501,
    "start_time": "2023-04-16T19:08:15.045Z"
   },
   {
    "duration": 424,
    "start_time": "2023-04-16T19:08:15.548Z"
   },
   {
    "duration": 414,
    "start_time": "2023-04-16T19:08:15.974Z"
   },
   {
    "duration": 13,
    "start_time": "2023-04-16T19:08:16.398Z"
   },
   {
    "duration": 10,
    "start_time": "2023-04-16T19:08:16.413Z"
   },
   {
    "duration": 7,
    "start_time": "2023-04-16T19:08:16.425Z"
   },
   {
    "duration": 8,
    "start_time": "2023-04-16T19:08:16.433Z"
   },
   {
    "duration": 10,
    "start_time": "2023-04-16T19:08:16.443Z"
   },
   {
    "duration": 9,
    "start_time": "2023-04-16T19:09:17.426Z"
   },
   {
    "duration": 10,
    "start_time": "2023-04-16T19:09:27.235Z"
   },
   {
    "duration": 7,
    "start_time": "2023-04-16T19:14:32.144Z"
   },
   {
    "duration": 1035,
    "start_time": "2023-04-16T19:36:24.822Z"
   },
   {
    "duration": 55,
    "start_time": "2023-04-16T19:36:25.859Z"
   },
   {
    "duration": 4,
    "start_time": "2023-04-16T19:36:25.916Z"
   },
   {
    "duration": 14,
    "start_time": "2023-04-16T19:36:25.922Z"
   },
   {
    "duration": 21,
    "start_time": "2023-04-16T19:36:25.937Z"
   },
   {
    "duration": 6,
    "start_time": "2023-04-16T19:36:25.960Z"
   },
   {
    "duration": 9,
    "start_time": "2023-04-16T19:36:25.967Z"
   },
   {
    "duration": 1439,
    "start_time": "2023-04-16T19:36:25.977Z"
   },
   {
    "duration": 254,
    "start_time": "2023-04-16T19:36:27.418Z"
   },
   {
    "duration": 1207,
    "start_time": "2023-04-16T19:36:27.675Z"
   },
   {
    "duration": 211,
    "start_time": "2023-04-16T19:36:28.883Z"
   },
   {
    "duration": 147,
    "start_time": "2023-04-16T19:36:29.096Z"
   },
   {
    "duration": 138,
    "start_time": "2023-04-16T19:36:29.245Z"
   },
   {
    "duration": 334,
    "start_time": "2023-04-16T19:36:29.385Z"
   },
   {
    "duration": 430,
    "start_time": "2023-04-16T19:36:29.721Z"
   },
   {
    "duration": 383,
    "start_time": "2023-04-16T19:36:30.153Z"
   },
   {
    "duration": 428,
    "start_time": "2023-04-16T19:36:30.538Z"
   },
   {
    "duration": 7,
    "start_time": "2023-04-16T19:36:30.967Z"
   },
   {
    "duration": 34,
    "start_time": "2023-04-16T19:36:30.976Z"
   },
   {
    "duration": 47,
    "start_time": "2023-04-16T19:36:31.012Z"
   },
   {
    "duration": 17,
    "start_time": "2023-04-16T19:36:31.060Z"
   },
   {
    "duration": 40,
    "start_time": "2023-04-16T19:36:31.079Z"
   },
   {
    "duration": 22,
    "start_time": "2023-04-16T19:36:31.121Z"
   },
   {
    "duration": 1174,
    "start_time": "2023-04-16T20:45:00.461Z"
   },
   {
    "duration": 69,
    "start_time": "2023-04-16T20:45:01.637Z"
   },
   {
    "duration": 4,
    "start_time": "2023-04-16T20:45:01.708Z"
   },
   {
    "duration": 50,
    "start_time": "2023-04-16T20:45:01.714Z"
   },
   {
    "duration": 68,
    "start_time": "2023-04-16T20:45:01.766Z"
   },
   {
    "duration": 6,
    "start_time": "2023-04-16T20:45:01.836Z"
   },
   {
    "duration": 38,
    "start_time": "2023-04-16T20:45:01.844Z"
   },
   {
    "duration": 1552,
    "start_time": "2023-04-16T20:45:01.884Z"
   },
   {
    "duration": 267,
    "start_time": "2023-04-16T20:45:03.438Z"
   },
   {
    "duration": 1268,
    "start_time": "2023-04-16T20:45:03.708Z"
   },
   {
    "duration": 224,
    "start_time": "2023-04-16T20:45:04.978Z"
   },
   {
    "duration": 164,
    "start_time": "2023-04-16T20:45:05.203Z"
   },
   {
    "duration": 166,
    "start_time": "2023-04-16T20:45:05.369Z"
   },
   {
    "duration": 386,
    "start_time": "2023-04-16T20:45:05.536Z"
   },
   {
    "duration": 484,
    "start_time": "2023-04-16T20:45:05.924Z"
   },
   {
    "duration": 467,
    "start_time": "2023-04-16T20:45:06.410Z"
   },
   {
    "duration": 450,
    "start_time": "2023-04-16T20:45:06.879Z"
   },
   {
    "duration": 7,
    "start_time": "2023-04-16T20:45:07.333Z"
   },
   {
    "duration": 15,
    "start_time": "2023-04-16T20:45:07.341Z"
   },
   {
    "duration": 16,
    "start_time": "2023-04-16T20:45:07.358Z"
   },
   {
    "duration": 9,
    "start_time": "2023-04-16T20:45:07.376Z"
   },
   {
    "duration": 11,
    "start_time": "2023-04-16T20:45:07.386Z"
   },
   {
    "duration": 6,
    "start_time": "2023-04-16T20:45:07.398Z"
   },
   {
    "duration": 72,
    "start_time": "2023-04-16T22:00:52.626Z"
   },
   {
    "duration": 26,
    "start_time": "2023-04-16T22:06:24.856Z"
   },
   {
    "duration": 9,
    "start_time": "2023-04-16T22:14:12.136Z"
   },
   {
    "duration": 10,
    "start_time": "2023-04-17T20:10:54.876Z"
   },
   {
    "duration": 48,
    "start_time": "2023-04-17T20:11:35.727Z"
   },
   {
    "duration": 1347,
    "start_time": "2023-04-17T20:11:51.382Z"
   },
   {
    "duration": 245,
    "start_time": "2023-04-17T20:11:52.731Z"
   },
   {
    "duration": 124,
    "start_time": "2023-04-17T20:11:52.984Z"
   },
   {
    "duration": 0,
    "start_time": "2023-04-17T20:11:53.110Z"
   },
   {
    "duration": 0,
    "start_time": "2023-04-17T20:11:53.112Z"
   },
   {
    "duration": 0,
    "start_time": "2023-04-17T20:11:53.113Z"
   },
   {
    "duration": 0,
    "start_time": "2023-04-17T20:11:53.114Z"
   },
   {
    "duration": 0,
    "start_time": "2023-04-17T20:11:53.115Z"
   },
   {
    "duration": 0,
    "start_time": "2023-04-17T20:11:53.116Z"
   },
   {
    "duration": 0,
    "start_time": "2023-04-17T20:11:53.117Z"
   },
   {
    "duration": 0,
    "start_time": "2023-04-17T20:11:53.118Z"
   },
   {
    "duration": 0,
    "start_time": "2023-04-17T20:11:53.119Z"
   },
   {
    "duration": 0,
    "start_time": "2023-04-17T20:11:53.120Z"
   },
   {
    "duration": 0,
    "start_time": "2023-04-17T20:11:53.122Z"
   },
   {
    "duration": 0,
    "start_time": "2023-04-17T20:11:53.122Z"
   },
   {
    "duration": 0,
    "start_time": "2023-04-17T20:11:53.123Z"
   },
   {
    "duration": 0,
    "start_time": "2023-04-17T20:11:53.124Z"
   },
   {
    "duration": 0,
    "start_time": "2023-04-17T20:11:53.125Z"
   },
   {
    "duration": 0,
    "start_time": "2023-04-17T20:11:53.161Z"
   },
   {
    "duration": 0,
    "start_time": "2023-04-17T20:11:53.162Z"
   },
   {
    "duration": 0,
    "start_time": "2023-04-17T20:11:53.163Z"
   },
   {
    "duration": 0,
    "start_time": "2023-04-17T20:11:53.164Z"
   },
   {
    "duration": 0,
    "start_time": "2023-04-17T20:11:53.165Z"
   },
   {
    "duration": 0,
    "start_time": "2023-04-17T20:11:53.166Z"
   },
   {
    "duration": 0,
    "start_time": "2023-04-17T20:11:53.166Z"
   },
   {
    "duration": 0,
    "start_time": "2023-04-17T20:11:53.167Z"
   },
   {
    "duration": 0,
    "start_time": "2023-04-17T20:11:53.168Z"
   },
   {
    "duration": 43,
    "start_time": "2023-04-17T20:12:30.140Z"
   },
   {
    "duration": 27,
    "start_time": "2023-04-17T20:13:04.807Z"
   },
   {
    "duration": 1371,
    "start_time": "2023-04-17T20:17:51.856Z"
   },
   {
    "duration": 1355,
    "start_time": "2023-04-17T20:18:14.186Z"
   },
   {
    "duration": 93,
    "start_time": "2023-04-17T20:18:15.543Z"
   },
   {
    "duration": 34,
    "start_time": "2023-04-17T20:18:15.638Z"
   },
   {
    "duration": 4,
    "start_time": "2023-04-17T20:18:15.677Z"
   },
   {
    "duration": 22,
    "start_time": "2023-04-17T20:18:15.684Z"
   },
   {
    "duration": 34,
    "start_time": "2023-04-17T20:18:15.708Z"
   },
   {
    "duration": 104,
    "start_time": "2023-04-17T20:18:15.744Z"
   },
   {
    "duration": 10,
    "start_time": "2023-04-17T20:18:15.859Z"
   },
   {
    "duration": 13,
    "start_time": "2023-04-17T20:18:15.871Z"
   },
   {
    "duration": 1829,
    "start_time": "2023-04-17T20:18:15.889Z"
   },
   {
    "duration": 26,
    "start_time": "2023-04-17T20:18:17.720Z"
   },
   {
    "duration": 347,
    "start_time": "2023-04-17T20:18:17.760Z"
   },
   {
    "duration": 1512,
    "start_time": "2023-04-17T20:18:18.108Z"
   },
   {
    "duration": 393,
    "start_time": "2023-04-17T20:18:19.624Z"
   },
   {
    "duration": 207,
    "start_time": "2023-04-17T20:18:20.020Z"
   },
   {
    "duration": 213,
    "start_time": "2023-04-17T20:18:20.230Z"
   },
   {
    "duration": 494,
    "start_time": "2023-04-17T20:18:20.445Z"
   },
   {
    "duration": 583,
    "start_time": "2023-04-17T20:18:20.940Z"
   },
   {
    "duration": 495,
    "start_time": "2023-04-17T20:18:21.524Z"
   },
   {
    "duration": 540,
    "start_time": "2023-04-17T20:18:22.021Z"
   },
   {
    "duration": 10,
    "start_time": "2023-04-17T20:18:22.571Z"
   },
   {
    "duration": 15,
    "start_time": "2023-04-17T20:18:22.583Z"
   },
   {
    "duration": 9,
    "start_time": "2023-04-17T20:18:22.600Z"
   },
   {
    "duration": 8,
    "start_time": "2023-04-17T20:18:22.611Z"
   },
   {
    "duration": 12,
    "start_time": "2023-04-17T20:18:22.620Z"
   },
   {
    "duration": 65,
    "start_time": "2023-04-17T20:18:22.634Z"
   },
   {
    "duration": 5,
    "start_time": "2023-04-17T20:18:22.701Z"
   },
   {
    "duration": 78,
    "start_time": "2023-04-17T20:30:58.332Z"
   },
   {
    "duration": 91,
    "start_time": "2023-04-17T20:35:39.031Z"
   },
   {
    "duration": 93,
    "start_time": "2023-04-17T20:35:55.902Z"
   },
   {
    "duration": 77,
    "start_time": "2023-04-17T20:36:05.234Z"
   },
   {
    "duration": 97,
    "start_time": "2023-04-17T20:36:28.572Z"
   },
   {
    "duration": 112,
    "start_time": "2023-04-17T20:36:51.673Z"
   },
   {
    "duration": 1269,
    "start_time": "2023-04-17T20:37:00.828Z"
   },
   {
    "duration": 71,
    "start_time": "2023-04-17T20:37:02.099Z"
   },
   {
    "duration": 26,
    "start_time": "2023-04-17T20:37:02.171Z"
   },
   {
    "duration": 3,
    "start_time": "2023-04-17T20:37:02.199Z"
   },
   {
    "duration": 15,
    "start_time": "2023-04-17T20:37:02.204Z"
   },
   {
    "duration": 40,
    "start_time": "2023-04-17T20:37:02.221Z"
   },
   {
    "duration": 76,
    "start_time": "2023-04-17T20:37:02.264Z"
   },
   {
    "duration": 93,
    "start_time": "2023-04-17T20:37:02.341Z"
   },
   {
    "duration": 0,
    "start_time": "2023-04-17T20:37:02.436Z"
   },
   {
    "duration": 0,
    "start_time": "2023-04-17T20:37:02.438Z"
   },
   {
    "duration": 0,
    "start_time": "2023-04-17T20:37:02.440Z"
   },
   {
    "duration": 0,
    "start_time": "2023-04-17T20:37:02.441Z"
   },
   {
    "duration": 0,
    "start_time": "2023-04-17T20:37:02.443Z"
   },
   {
    "duration": 0,
    "start_time": "2023-04-17T20:37:02.444Z"
   },
   {
    "duration": 0,
    "start_time": "2023-04-17T20:37:02.445Z"
   },
   {
    "duration": 0,
    "start_time": "2023-04-17T20:37:02.446Z"
   },
   {
    "duration": 0,
    "start_time": "2023-04-17T20:37:02.447Z"
   },
   {
    "duration": 0,
    "start_time": "2023-04-17T20:37:02.448Z"
   },
   {
    "duration": 0,
    "start_time": "2023-04-17T20:37:02.450Z"
   },
   {
    "duration": 0,
    "start_time": "2023-04-17T20:37:02.451Z"
   },
   {
    "duration": 0,
    "start_time": "2023-04-17T20:37:02.452Z"
   },
   {
    "duration": 0,
    "start_time": "2023-04-17T20:37:02.453Z"
   },
   {
    "duration": 0,
    "start_time": "2023-04-17T20:37:02.454Z"
   },
   {
    "duration": 0,
    "start_time": "2023-04-17T20:37:02.456Z"
   },
   {
    "duration": 0,
    "start_time": "2023-04-17T20:37:02.458Z"
   },
   {
    "duration": 0,
    "start_time": "2023-04-17T20:37:02.459Z"
   },
   {
    "duration": 0,
    "start_time": "2023-04-17T20:37:02.461Z"
   },
   {
    "duration": 0,
    "start_time": "2023-04-17T20:37:02.462Z"
   },
   {
    "duration": 129,
    "start_time": "2023-04-17T20:39:35.594Z"
   },
   {
    "duration": 1403,
    "start_time": "2023-04-17T20:40:08.596Z"
   },
   {
    "duration": 69,
    "start_time": "2023-04-17T20:40:10.001Z"
   },
   {
    "duration": 27,
    "start_time": "2023-04-17T20:40:10.072Z"
   },
   {
    "duration": 3,
    "start_time": "2023-04-17T20:40:10.101Z"
   },
   {
    "duration": 15,
    "start_time": "2023-04-17T20:40:10.105Z"
   },
   {
    "duration": 46,
    "start_time": "2023-04-17T20:40:10.121Z"
   },
   {
    "duration": 71,
    "start_time": "2023-04-17T20:40:10.169Z"
   },
   {
    "duration": 140,
    "start_time": "2023-04-17T20:40:10.241Z"
   },
   {
    "duration": 0,
    "start_time": "2023-04-17T20:40:10.383Z"
   },
   {
    "duration": 0,
    "start_time": "2023-04-17T20:40:10.384Z"
   },
   {
    "duration": 0,
    "start_time": "2023-04-17T20:40:10.385Z"
   },
   {
    "duration": 0,
    "start_time": "2023-04-17T20:40:10.386Z"
   },
   {
    "duration": 0,
    "start_time": "2023-04-17T20:40:10.387Z"
   },
   {
    "duration": 0,
    "start_time": "2023-04-17T20:40:10.388Z"
   },
   {
    "duration": 0,
    "start_time": "2023-04-17T20:40:10.389Z"
   },
   {
    "duration": 0,
    "start_time": "2023-04-17T20:40:10.391Z"
   },
   {
    "duration": 0,
    "start_time": "2023-04-17T20:40:10.392Z"
   },
   {
    "duration": 0,
    "start_time": "2023-04-17T20:40:10.393Z"
   },
   {
    "duration": 0,
    "start_time": "2023-04-17T20:40:10.394Z"
   },
   {
    "duration": 0,
    "start_time": "2023-04-17T20:40:10.395Z"
   },
   {
    "duration": 0,
    "start_time": "2023-04-17T20:40:10.396Z"
   },
   {
    "duration": 0,
    "start_time": "2023-04-17T20:40:10.397Z"
   },
   {
    "duration": 0,
    "start_time": "2023-04-17T20:40:10.399Z"
   },
   {
    "duration": 0,
    "start_time": "2023-04-17T20:40:10.400Z"
   },
   {
    "duration": 0,
    "start_time": "2023-04-17T20:40:10.401Z"
   },
   {
    "duration": 0,
    "start_time": "2023-04-17T20:40:10.402Z"
   },
   {
    "duration": 0,
    "start_time": "2023-04-17T20:40:10.403Z"
   },
   {
    "duration": 0,
    "start_time": "2023-04-17T20:40:10.404Z"
   },
   {
    "duration": 15,
    "start_time": "2023-04-17T20:41:33.950Z"
   },
   {
    "duration": 6,
    "start_time": "2023-04-17T20:43:32.319Z"
   },
   {
    "duration": 218,
    "start_time": "2023-04-17T20:45:28.388Z"
   },
   {
    "duration": 14,
    "start_time": "2023-04-17T20:52:55.559Z"
   },
   {
    "duration": 9,
    "start_time": "2023-04-17T20:53:34.391Z"
   },
   {
    "duration": 1146,
    "start_time": "2023-04-17T20:53:57.108Z"
   },
   {
    "duration": 65,
    "start_time": "2023-04-17T20:53:58.256Z"
   },
   {
    "duration": 24,
    "start_time": "2023-04-17T20:53:58.323Z"
   },
   {
    "duration": 4,
    "start_time": "2023-04-17T20:53:58.348Z"
   },
   {
    "duration": 11,
    "start_time": "2023-04-17T20:53:58.353Z"
   },
   {
    "duration": 24,
    "start_time": "2023-04-17T20:53:58.366Z"
   },
   {
    "duration": 98,
    "start_time": "2023-04-17T20:53:58.392Z"
   },
   {
    "duration": 16,
    "start_time": "2023-04-17T20:53:58.493Z"
   },
   {
    "duration": 8,
    "start_time": "2023-04-17T20:53:58.511Z"
   },
   {
    "duration": 227,
    "start_time": "2023-04-17T20:53:58.522Z"
   },
   {
    "duration": 13,
    "start_time": "2023-04-17T20:53:58.751Z"
   },
   {
    "duration": 1730,
    "start_time": "2023-04-17T20:53:58.766Z"
   },
   {
    "duration": 24,
    "start_time": "2023-04-17T20:54:00.498Z"
   },
   {
    "duration": 314,
    "start_time": "2023-04-17T20:54:00.523Z"
   },
   {
    "duration": 1388,
    "start_time": "2023-04-17T20:54:00.839Z"
   },
   {
    "duration": 231,
    "start_time": "2023-04-17T20:54:02.230Z"
   },
   {
    "duration": 168,
    "start_time": "2023-04-17T20:54:02.463Z"
   },
   {
    "duration": 166,
    "start_time": "2023-04-17T20:54:02.633Z"
   },
   {
    "duration": 364,
    "start_time": "2023-04-17T20:54:02.801Z"
   },
   {
    "duration": 484,
    "start_time": "2023-04-17T20:54:03.167Z"
   },
   {
    "duration": 431,
    "start_time": "2023-04-17T20:54:03.653Z"
   },
   {
    "duration": 415,
    "start_time": "2023-04-17T20:54:04.086Z"
   },
   {
    "duration": 10,
    "start_time": "2023-04-17T20:54:04.503Z"
   },
   {
    "duration": 7,
    "start_time": "2023-04-17T20:54:04.515Z"
   },
   {
    "duration": 9,
    "start_time": "2023-04-17T20:54:04.523Z"
   },
   {
    "duration": 8,
    "start_time": "2023-04-17T20:54:04.560Z"
   },
   {
    "duration": 8,
    "start_time": "2023-04-17T20:54:04.570Z"
   },
   {
    "duration": 10,
    "start_time": "2023-04-17T20:54:04.582Z"
   },
   {
    "duration": 7,
    "start_time": "2023-04-17T20:54:04.594Z"
   },
   {
    "duration": 239,
    "start_time": "2023-04-17T20:54:46.747Z"
   },
   {
    "duration": 130,
    "start_time": "2023-04-17T20:55:44.620Z"
   },
   {
    "duration": 1265,
    "start_time": "2023-04-17T20:55:59.847Z"
   },
   {
    "duration": 67,
    "start_time": "2023-04-17T20:56:01.114Z"
   },
   {
    "duration": 25,
    "start_time": "2023-04-17T20:56:01.183Z"
   },
   {
    "duration": 4,
    "start_time": "2023-04-17T20:56:01.211Z"
   },
   {
    "duration": 35,
    "start_time": "2023-04-17T20:56:01.217Z"
   },
   {
    "duration": 38,
    "start_time": "2023-04-17T20:56:01.254Z"
   },
   {
    "duration": 87,
    "start_time": "2023-04-17T20:56:01.294Z"
   },
   {
    "duration": 21,
    "start_time": "2023-04-17T20:56:01.382Z"
   },
   {
    "duration": 37,
    "start_time": "2023-04-17T20:56:01.405Z"
   },
   {
    "duration": 241,
    "start_time": "2023-04-17T20:56:01.445Z"
   },
   {
    "duration": 8,
    "start_time": "2023-04-17T20:56:01.688Z"
   },
   {
    "duration": 1652,
    "start_time": "2023-04-17T20:56:01.698Z"
   },
   {
    "duration": 30,
    "start_time": "2023-04-17T20:56:03.351Z"
   },
   {
    "duration": 279,
    "start_time": "2023-04-17T20:56:03.383Z"
   },
   {
    "duration": 1336,
    "start_time": "2023-04-17T20:56:03.663Z"
   },
   {
    "duration": 231,
    "start_time": "2023-04-17T20:56:05.001Z"
   },
   {
    "duration": 167,
    "start_time": "2023-04-17T20:56:05.234Z"
   },
   {
    "duration": 202,
    "start_time": "2023-04-17T20:56:05.404Z"
   },
   {
    "duration": 383,
    "start_time": "2023-04-17T20:56:05.607Z"
   },
   {
    "duration": 575,
    "start_time": "2023-04-17T20:56:05.992Z"
   },
   {
    "duration": 504,
    "start_time": "2023-04-17T20:56:06.568Z"
   },
   {
    "duration": 819,
    "start_time": "2023-04-17T20:56:07.074Z"
   },
   {
    "duration": 9,
    "start_time": "2023-04-17T20:56:07.894Z"
   },
   {
    "duration": 8,
    "start_time": "2023-04-17T20:56:07.959Z"
   },
   {
    "duration": 16,
    "start_time": "2023-04-17T20:56:07.969Z"
   },
   {
    "duration": 20,
    "start_time": "2023-04-17T20:56:07.987Z"
   },
   {
    "duration": 56,
    "start_time": "2023-04-17T20:56:08.008Z"
   },
   {
    "duration": 10,
    "start_time": "2023-04-17T20:56:08.068Z"
   },
   {
    "duration": 16,
    "start_time": "2023-04-17T20:56:08.079Z"
   },
   {
    "duration": 218,
    "start_time": "2023-04-17T20:58:35.136Z"
   },
   {
    "duration": 1229,
    "start_time": "2023-04-17T20:58:51.356Z"
   },
   {
    "duration": 68,
    "start_time": "2023-04-17T20:58:52.587Z"
   },
   {
    "duration": 27,
    "start_time": "2023-04-17T20:58:52.657Z"
   },
   {
    "duration": 4,
    "start_time": "2023-04-17T20:58:52.686Z"
   },
   {
    "duration": 15,
    "start_time": "2023-04-17T20:58:52.692Z"
   },
   {
    "duration": 56,
    "start_time": "2023-04-17T20:58:52.710Z"
   },
   {
    "duration": 127,
    "start_time": "2023-04-17T20:58:52.769Z"
   },
   {
    "duration": 23,
    "start_time": "2023-04-17T20:58:52.899Z"
   },
   {
    "duration": 8,
    "start_time": "2023-04-17T20:58:52.924Z"
   },
   {
    "duration": 234,
    "start_time": "2023-04-17T20:58:52.962Z"
   },
   {
    "duration": 11,
    "start_time": "2023-04-17T20:58:53.199Z"
   },
   {
    "duration": 1699,
    "start_time": "2023-04-17T20:58:53.212Z"
   },
   {
    "duration": 49,
    "start_time": "2023-04-17T20:58:54.913Z"
   },
   {
    "duration": 288,
    "start_time": "2023-04-17T20:58:54.964Z"
   },
   {
    "duration": 2491,
    "start_time": "2023-04-17T20:58:55.254Z"
   },
   {
    "duration": 267,
    "start_time": "2023-04-17T20:58:57.747Z"
   },
   {
    "duration": 176,
    "start_time": "2023-04-17T20:58:58.016Z"
   },
   {
    "duration": 171,
    "start_time": "2023-04-17T20:58:58.194Z"
   },
   {
    "duration": 420,
    "start_time": "2023-04-17T20:58:58.366Z"
   },
   {
    "duration": 548,
    "start_time": "2023-04-17T20:58:58.788Z"
   },
   {
    "duration": 534,
    "start_time": "2023-04-17T20:58:59.338Z"
   },
   {
    "duration": 494,
    "start_time": "2023-04-17T20:58:59.874Z"
   },
   {
    "duration": 10,
    "start_time": "2023-04-17T20:59:00.370Z"
   },
   {
    "duration": 29,
    "start_time": "2023-04-17T20:59:00.382Z"
   },
   {
    "duration": 24,
    "start_time": "2023-04-17T20:59:00.413Z"
   },
   {
    "duration": 32,
    "start_time": "2023-04-17T20:59:00.438Z"
   },
   {
    "duration": 24,
    "start_time": "2023-04-17T20:59:00.472Z"
   },
   {
    "duration": 42,
    "start_time": "2023-04-17T20:59:00.499Z"
   },
   {
    "duration": 21,
    "start_time": "2023-04-17T20:59:00.543Z"
   },
   {
    "duration": 117,
    "start_time": "2023-04-18T16:59:10.774Z"
   },
   {
    "duration": 1589,
    "start_time": "2023-04-18T16:59:21.600Z"
   },
   {
    "duration": 168,
    "start_time": "2023-04-18T16:59:23.191Z"
   },
   {
    "duration": 43,
    "start_time": "2023-04-18T16:59:23.360Z"
   },
   {
    "duration": 9,
    "start_time": "2023-04-18T16:59:23.405Z"
   },
   {
    "duration": 24,
    "start_time": "2023-04-18T16:59:23.418Z"
   },
   {
    "duration": 56,
    "start_time": "2023-04-18T16:59:23.445Z"
   },
   {
    "duration": 132,
    "start_time": "2023-04-18T16:59:23.503Z"
   },
   {
    "duration": 33,
    "start_time": "2023-04-18T16:59:23.637Z"
   },
   {
    "duration": 37,
    "start_time": "2023-04-18T16:59:23.681Z"
   },
   {
    "duration": 245,
    "start_time": "2023-04-18T16:59:23.721Z"
   },
   {
    "duration": 21,
    "start_time": "2023-04-18T16:59:23.967Z"
   },
   {
    "duration": 3242,
    "start_time": "2023-04-18T16:59:23.990Z"
   },
   {
    "duration": 59,
    "start_time": "2023-04-18T16:59:27.233Z"
   },
   {
    "duration": 325,
    "start_time": "2023-04-18T16:59:27.297Z"
   },
   {
    "duration": 1644,
    "start_time": "2023-04-18T16:59:27.624Z"
   },
   {
    "duration": 453,
    "start_time": "2023-04-18T16:59:29.274Z"
   },
   {
    "duration": 266,
    "start_time": "2023-04-18T16:59:29.729Z"
   },
   {
    "duration": 235,
    "start_time": "2023-04-18T16:59:30.015Z"
   },
   {
    "duration": 555,
    "start_time": "2023-04-18T16:59:30.254Z"
   },
   {
    "duration": 626,
    "start_time": "2023-04-18T16:59:30.814Z"
   },
   {
    "duration": 565,
    "start_time": "2023-04-18T16:59:31.446Z"
   },
   {
    "duration": 647,
    "start_time": "2023-04-18T16:59:32.016Z"
   },
   {
    "duration": 31,
    "start_time": "2023-04-18T16:59:32.668Z"
   },
   {
    "duration": 142,
    "start_time": "2023-04-18T16:59:32.709Z"
   },
   {
    "duration": 103,
    "start_time": "2023-04-18T16:59:32.860Z"
   },
   {
    "duration": 68,
    "start_time": "2023-04-18T16:59:32.976Z"
   },
   {
    "duration": 81,
    "start_time": "2023-04-18T16:59:33.046Z"
   },
   {
    "duration": 35,
    "start_time": "2023-04-18T16:59:33.131Z"
   },
   {
    "duration": 57,
    "start_time": "2023-04-18T16:59:33.171Z"
   },
   {
    "duration": 1357,
    "start_time": "2023-04-18T17:04:08.514Z"
   },
   {
    "duration": 126,
    "start_time": "2023-04-18T17:04:09.873Z"
   },
   {
    "duration": 66,
    "start_time": "2023-04-18T17:04:10.001Z"
   },
   {
    "duration": 69,
    "start_time": "2023-04-18T17:04:10.069Z"
   },
   {
    "duration": 205,
    "start_time": "2023-04-18T17:04:10.140Z"
   },
   {
    "duration": 0,
    "start_time": "2023-04-18T17:04:10.348Z"
   },
   {
    "duration": 0,
    "start_time": "2023-04-18T17:04:10.349Z"
   },
   {
    "duration": 0,
    "start_time": "2023-04-18T17:04:10.350Z"
   },
   {
    "duration": 0,
    "start_time": "2023-04-18T17:04:10.355Z"
   },
   {
    "duration": 0,
    "start_time": "2023-04-18T17:04:10.355Z"
   },
   {
    "duration": 0,
    "start_time": "2023-04-18T17:04:10.356Z"
   },
   {
    "duration": 0,
    "start_time": "2023-04-18T17:04:10.356Z"
   },
   {
    "duration": 0,
    "start_time": "2023-04-18T17:04:10.357Z"
   },
   {
    "duration": 0,
    "start_time": "2023-04-18T17:04:10.357Z"
   },
   {
    "duration": 0,
    "start_time": "2023-04-18T17:04:10.358Z"
   },
   {
    "duration": 0,
    "start_time": "2023-04-18T17:04:10.363Z"
   },
   {
    "duration": 0,
    "start_time": "2023-04-18T17:04:10.372Z"
   },
   {
    "duration": 0,
    "start_time": "2023-04-18T17:04:10.372Z"
   },
   {
    "duration": 0,
    "start_time": "2023-04-18T17:04:10.373Z"
   },
   {
    "duration": 0,
    "start_time": "2023-04-18T17:04:10.373Z"
   },
   {
    "duration": 0,
    "start_time": "2023-04-18T17:04:10.374Z"
   },
   {
    "duration": 0,
    "start_time": "2023-04-18T17:04:10.374Z"
   },
   {
    "duration": 0,
    "start_time": "2023-04-18T17:04:10.375Z"
   },
   {
    "duration": 0,
    "start_time": "2023-04-18T17:04:10.375Z"
   },
   {
    "duration": 0,
    "start_time": "2023-04-18T17:04:10.376Z"
   },
   {
    "duration": 0,
    "start_time": "2023-04-18T17:04:10.376Z"
   },
   {
    "duration": 0,
    "start_time": "2023-04-18T17:04:10.377Z"
   },
   {
    "duration": 0,
    "start_time": "2023-04-18T17:04:10.377Z"
   },
   {
    "duration": 0,
    "start_time": "2023-04-18T17:04:10.383Z"
   },
   {
    "duration": 13,
    "start_time": "2023-04-18T17:04:45.513Z"
   },
   {
    "duration": 12,
    "start_time": "2023-04-18T17:05:58.503Z"
   },
   {
    "duration": 12,
    "start_time": "2023-04-18T17:06:13.017Z"
   },
   {
    "duration": 9,
    "start_time": "2023-04-18T17:06:39.923Z"
   },
   {
    "duration": 18,
    "start_time": "2023-04-18T17:06:44.521Z"
   },
   {
    "duration": 91,
    "start_time": "2023-04-18T17:06:51.972Z"
   },
   {
    "duration": 14,
    "start_time": "2023-04-18T17:06:56.724Z"
   },
   {
    "duration": 6,
    "start_time": "2023-04-18T17:07:00.210Z"
   },
   {
    "duration": 261,
    "start_time": "2023-04-18T17:07:04.134Z"
   },
   {
    "duration": 10,
    "start_time": "2023-04-18T17:07:09.807Z"
   },
   {
    "duration": 1186,
    "start_time": "2023-04-18T17:09:18.392Z"
   },
   {
    "duration": 101,
    "start_time": "2023-04-18T17:09:19.586Z"
   },
   {
    "duration": 31,
    "start_time": "2023-04-18T17:09:19.688Z"
   },
   {
    "duration": 4,
    "start_time": "2023-04-18T17:09:19.721Z"
   },
   {
    "duration": 252,
    "start_time": "2023-04-18T17:09:19.727Z"
   },
   {
    "duration": 0,
    "start_time": "2023-04-18T17:09:19.982Z"
   },
   {
    "duration": 0,
    "start_time": "2023-04-18T17:09:19.983Z"
   },
   {
    "duration": 0,
    "start_time": "2023-04-18T17:09:19.984Z"
   },
   {
    "duration": 0,
    "start_time": "2023-04-18T17:09:19.986Z"
   },
   {
    "duration": 0,
    "start_time": "2023-04-18T17:09:19.987Z"
   },
   {
    "duration": 0,
    "start_time": "2023-04-18T17:09:19.995Z"
   },
   {
    "duration": 0,
    "start_time": "2023-04-18T17:09:19.996Z"
   },
   {
    "duration": 0,
    "start_time": "2023-04-18T17:09:19.997Z"
   },
   {
    "duration": 0,
    "start_time": "2023-04-18T17:09:19.998Z"
   },
   {
    "duration": 0,
    "start_time": "2023-04-18T17:09:19.999Z"
   },
   {
    "duration": 0,
    "start_time": "2023-04-18T17:09:20.000Z"
   },
   {
    "duration": 0,
    "start_time": "2023-04-18T17:09:20.002Z"
   },
   {
    "duration": 0,
    "start_time": "2023-04-18T17:09:20.003Z"
   },
   {
    "duration": 0,
    "start_time": "2023-04-18T17:09:20.004Z"
   },
   {
    "duration": 0,
    "start_time": "2023-04-18T17:09:20.005Z"
   },
   {
    "duration": 0,
    "start_time": "2023-04-18T17:09:20.006Z"
   },
   {
    "duration": 0,
    "start_time": "2023-04-18T17:09:20.006Z"
   },
   {
    "duration": 0,
    "start_time": "2023-04-18T17:09:20.008Z"
   },
   {
    "duration": 0,
    "start_time": "2023-04-18T17:09:20.008Z"
   },
   {
    "duration": 0,
    "start_time": "2023-04-18T17:09:20.009Z"
   },
   {
    "duration": 0,
    "start_time": "2023-04-18T17:09:20.011Z"
   },
   {
    "duration": 0,
    "start_time": "2023-04-18T17:09:20.012Z"
   },
   {
    "duration": 0,
    "start_time": "2023-04-18T17:09:20.013Z"
   },
   {
    "duration": 0,
    "start_time": "2023-04-18T17:09:20.014Z"
   },
   {
    "duration": 13,
    "start_time": "2023-04-18T17:09:26.620Z"
   },
   {
    "duration": 26,
    "start_time": "2023-04-18T17:10:27.541Z"
   },
   {
    "duration": 11,
    "start_time": "2023-04-18T17:10:38.120Z"
   },
   {
    "duration": 16,
    "start_time": "2023-04-18T18:19:52.624Z"
   },
   {
    "duration": 12,
    "start_time": "2023-04-18T18:20:32.715Z"
   },
   {
    "duration": 1155,
    "start_time": "2023-04-18T18:20:55.737Z"
   },
   {
    "duration": 76,
    "start_time": "2023-04-18T18:20:56.895Z"
   },
   {
    "duration": 31,
    "start_time": "2023-04-18T18:20:56.972Z"
   },
   {
    "duration": 4,
    "start_time": "2023-04-18T18:20:57.005Z"
   },
   {
    "duration": 133,
    "start_time": "2023-04-18T18:20:57.011Z"
   },
   {
    "duration": 0,
    "start_time": "2023-04-18T18:20:57.147Z"
   },
   {
    "duration": 0,
    "start_time": "2023-04-18T18:20:57.159Z"
   },
   {
    "duration": 0,
    "start_time": "2023-04-18T18:20:57.163Z"
   },
   {
    "duration": 0,
    "start_time": "2023-04-18T18:20:57.175Z"
   },
   {
    "duration": 0,
    "start_time": "2023-04-18T18:20:57.176Z"
   },
   {
    "duration": 0,
    "start_time": "2023-04-18T18:20:57.179Z"
   },
   {
    "duration": 0,
    "start_time": "2023-04-18T18:20:57.180Z"
   },
   {
    "duration": 0,
    "start_time": "2023-04-18T18:20:57.180Z"
   },
   {
    "duration": 0,
    "start_time": "2023-04-18T18:20:57.181Z"
   },
   {
    "duration": 0,
    "start_time": "2023-04-18T18:20:57.182Z"
   },
   {
    "duration": 0,
    "start_time": "2023-04-18T18:20:57.182Z"
   },
   {
    "duration": 0,
    "start_time": "2023-04-18T18:20:57.183Z"
   },
   {
    "duration": 0,
    "start_time": "2023-04-18T18:20:57.185Z"
   },
   {
    "duration": 0,
    "start_time": "2023-04-18T18:20:57.186Z"
   },
   {
    "duration": 0,
    "start_time": "2023-04-18T18:20:57.187Z"
   },
   {
    "duration": 0,
    "start_time": "2023-04-18T18:20:57.189Z"
   },
   {
    "duration": 0,
    "start_time": "2023-04-18T18:20:57.189Z"
   },
   {
    "duration": 0,
    "start_time": "2023-04-18T18:20:57.190Z"
   },
   {
    "duration": 0,
    "start_time": "2023-04-18T18:20:57.192Z"
   },
   {
    "duration": 0,
    "start_time": "2023-04-18T18:20:57.193Z"
   },
   {
    "duration": 0,
    "start_time": "2023-04-18T18:20:57.194Z"
   },
   {
    "duration": 0,
    "start_time": "2023-04-18T18:20:57.195Z"
   },
   {
    "duration": 0,
    "start_time": "2023-04-18T18:20:57.197Z"
   },
   {
    "duration": 0,
    "start_time": "2023-04-18T18:20:57.198Z"
   },
   {
    "duration": 36,
    "start_time": "2023-04-18T18:21:17.541Z"
   },
   {
    "duration": 13,
    "start_time": "2023-04-18T18:21:24.614Z"
   },
   {
    "duration": 46,
    "start_time": "2023-04-18T18:25:36.837Z"
   },
   {
    "duration": 29,
    "start_time": "2023-04-18T18:28:07.847Z"
   },
   {
    "duration": 28,
    "start_time": "2023-04-18T18:28:18.294Z"
   },
   {
    "duration": 14,
    "start_time": "2023-04-18T18:28:48.708Z"
   },
   {
    "duration": 11,
    "start_time": "2023-04-18T18:29:47.530Z"
   },
   {
    "duration": 6,
    "start_time": "2023-04-18T18:31:47.934Z"
   },
   {
    "duration": 7,
    "start_time": "2023-04-18T18:32:03.601Z"
   },
   {
    "duration": 7,
    "start_time": "2023-04-18T18:33:16.419Z"
   },
   {
    "duration": 1689,
    "start_time": "2023-04-18T18:34:03.414Z"
   },
   {
    "duration": 5,
    "start_time": "2023-04-18T19:50:38.884Z"
   },
   {
    "duration": 1575,
    "start_time": "2023-04-18T19:52:05.515Z"
   },
   {
    "duration": 1170,
    "start_time": "2023-04-18T19:54:38.617Z"
   },
   {
    "duration": 94,
    "start_time": "2023-04-18T19:54:39.789Z"
   },
   {
    "duration": 28,
    "start_time": "2023-04-18T19:54:39.885Z"
   },
   {
    "duration": 3,
    "start_time": "2023-04-18T19:54:39.917Z"
   },
   {
    "duration": 161,
    "start_time": "2023-04-18T19:54:39.922Z"
   },
   {
    "duration": 0,
    "start_time": "2023-04-18T19:54:40.085Z"
   },
   {
    "duration": 0,
    "start_time": "2023-04-18T19:54:40.088Z"
   },
   {
    "duration": 0,
    "start_time": "2023-04-18T19:54:40.089Z"
   },
   {
    "duration": 0,
    "start_time": "2023-04-18T19:54:40.091Z"
   },
   {
    "duration": 0,
    "start_time": "2023-04-18T19:54:40.092Z"
   },
   {
    "duration": 0,
    "start_time": "2023-04-18T19:54:40.093Z"
   },
   {
    "duration": 0,
    "start_time": "2023-04-18T19:54:40.095Z"
   },
   {
    "duration": 0,
    "start_time": "2023-04-18T19:54:40.096Z"
   },
   {
    "duration": 0,
    "start_time": "2023-04-18T19:54:40.098Z"
   },
   {
    "duration": 0,
    "start_time": "2023-04-18T19:54:40.100Z"
   },
   {
    "duration": 0,
    "start_time": "2023-04-18T19:54:40.101Z"
   },
   {
    "duration": 0,
    "start_time": "2023-04-18T19:54:40.103Z"
   },
   {
    "duration": 0,
    "start_time": "2023-04-18T19:54:40.104Z"
   },
   {
    "duration": 0,
    "start_time": "2023-04-18T19:54:40.105Z"
   },
   {
    "duration": 0,
    "start_time": "2023-04-18T19:54:40.106Z"
   },
   {
    "duration": 0,
    "start_time": "2023-04-18T19:54:40.107Z"
   },
   {
    "duration": 0,
    "start_time": "2023-04-18T19:54:40.108Z"
   },
   {
    "duration": 0,
    "start_time": "2023-04-18T19:54:40.109Z"
   },
   {
    "duration": 0,
    "start_time": "2023-04-18T19:54:40.110Z"
   },
   {
    "duration": 0,
    "start_time": "2023-04-18T19:54:40.111Z"
   },
   {
    "duration": 0,
    "start_time": "2023-04-18T19:54:40.112Z"
   },
   {
    "duration": 0,
    "start_time": "2023-04-18T19:54:40.113Z"
   },
   {
    "duration": 0,
    "start_time": "2023-04-18T19:54:40.113Z"
   },
   {
    "duration": 0,
    "start_time": "2023-04-18T19:54:40.114Z"
   },
   {
    "duration": 10,
    "start_time": "2023-04-18T19:54:52.004Z"
   },
   {
    "duration": 14,
    "start_time": "2023-04-18T19:55:07.393Z"
   },
   {
    "duration": 11,
    "start_time": "2023-04-18T19:56:02.704Z"
   },
   {
    "duration": 73,
    "start_time": "2023-04-18T19:59:31.895Z"
   },
   {
    "duration": 60,
    "start_time": "2023-04-18T19:59:41.939Z"
   },
   {
    "duration": 19,
    "start_time": "2023-04-18T19:59:51.009Z"
   },
   {
    "duration": 1136,
    "start_time": "2023-04-18T20:06:10.781Z"
   },
   {
    "duration": 71,
    "start_time": "2023-04-18T20:06:11.920Z"
   },
   {
    "duration": 33,
    "start_time": "2023-04-18T20:06:11.993Z"
   },
   {
    "duration": 3,
    "start_time": "2023-04-18T20:06:12.028Z"
   },
   {
    "duration": 135,
    "start_time": "2023-04-18T20:06:12.033Z"
   },
   {
    "duration": 0,
    "start_time": "2023-04-18T20:06:12.170Z"
   },
   {
    "duration": 0,
    "start_time": "2023-04-18T20:06:12.171Z"
   },
   {
    "duration": 0,
    "start_time": "2023-04-18T20:06:12.173Z"
   },
   {
    "duration": 0,
    "start_time": "2023-04-18T20:06:12.174Z"
   },
   {
    "duration": 0,
    "start_time": "2023-04-18T20:06:12.175Z"
   },
   {
    "duration": 0,
    "start_time": "2023-04-18T20:06:12.176Z"
   },
   {
    "duration": 0,
    "start_time": "2023-04-18T20:06:12.176Z"
   },
   {
    "duration": 0,
    "start_time": "2023-04-18T20:06:12.177Z"
   },
   {
    "duration": 0,
    "start_time": "2023-04-18T20:06:12.178Z"
   },
   {
    "duration": 0,
    "start_time": "2023-04-18T20:06:12.178Z"
   },
   {
    "duration": 0,
    "start_time": "2023-04-18T20:06:12.179Z"
   },
   {
    "duration": 0,
    "start_time": "2023-04-18T20:06:12.181Z"
   },
   {
    "duration": 0,
    "start_time": "2023-04-18T20:06:12.182Z"
   },
   {
    "duration": 0,
    "start_time": "2023-04-18T20:06:12.182Z"
   },
   {
    "duration": 0,
    "start_time": "2023-04-18T20:06:12.184Z"
   },
   {
    "duration": 0,
    "start_time": "2023-04-18T20:06:12.185Z"
   },
   {
    "duration": 0,
    "start_time": "2023-04-18T20:06:12.186Z"
   },
   {
    "duration": 0,
    "start_time": "2023-04-18T20:06:12.187Z"
   },
   {
    "duration": 0,
    "start_time": "2023-04-18T20:06:12.188Z"
   },
   {
    "duration": 0,
    "start_time": "2023-04-18T20:06:12.189Z"
   },
   {
    "duration": 0,
    "start_time": "2023-04-18T20:06:12.190Z"
   },
   {
    "duration": 0,
    "start_time": "2023-04-18T20:06:12.191Z"
   },
   {
    "duration": 0,
    "start_time": "2023-04-18T20:06:12.192Z"
   },
   {
    "duration": 16,
    "start_time": "2023-04-18T20:06:17.475Z"
   },
   {
    "duration": 48,
    "start_time": "2023-04-18T20:07:12.149Z"
   },
   {
    "duration": 17,
    "start_time": "2023-04-18T20:07:43.098Z"
   },
   {
    "duration": 14,
    "start_time": "2023-04-18T20:11:05.161Z"
   },
   {
    "duration": 17,
    "start_time": "2023-04-18T20:13:48.607Z"
   },
   {
    "duration": 11,
    "start_time": "2023-04-18T20:17:59.025Z"
   },
   {
    "duration": 44,
    "start_time": "2023-04-18T20:18:04.235Z"
   },
   {
    "duration": 85,
    "start_time": "2023-04-18T20:18:08.798Z"
   },
   {
    "duration": 19,
    "start_time": "2023-04-18T20:18:13.064Z"
   },
   {
    "duration": 218,
    "start_time": "2023-04-18T20:18:16.146Z"
   },
   {
    "duration": 1608,
    "start_time": "2023-04-18T20:18:22.308Z"
   },
   {
    "duration": 283,
    "start_time": "2023-04-18T20:18:54.226Z"
   },
   {
    "duration": 1721,
    "start_time": "2023-04-18T20:22:25.212Z"
   },
   {
    "duration": 1648,
    "start_time": "2023-04-18T20:22:44.186Z"
   },
   {
    "duration": 74,
    "start_time": "2023-04-18T20:33:11.204Z"
   },
   {
    "duration": 100,
    "start_time": "2023-04-18T20:34:23.437Z"
   },
   {
    "duration": 59,
    "start_time": "2023-04-18T20:35:23.084Z"
   },
   {
    "duration": 71,
    "start_time": "2023-04-18T20:35:52.937Z"
   },
   {
    "duration": 66,
    "start_time": "2023-04-18T20:36:05.395Z"
   },
   {
    "duration": 1143,
    "start_time": "2023-04-18T20:36:12.278Z"
   },
   {
    "duration": 75,
    "start_time": "2023-04-18T20:36:13.423Z"
   },
   {
    "duration": 24,
    "start_time": "2023-04-18T20:36:13.500Z"
   },
   {
    "duration": 4,
    "start_time": "2023-04-18T20:36:13.526Z"
   },
   {
    "duration": 30,
    "start_time": "2023-04-18T20:36:13.549Z"
   },
   {
    "duration": 54,
    "start_time": "2023-04-18T20:36:13.581Z"
   },
   {
    "duration": 83,
    "start_time": "2023-04-18T20:36:13.637Z"
   },
   {
    "duration": 33,
    "start_time": "2023-04-18T20:36:13.722Z"
   },
   {
    "duration": 16,
    "start_time": "2023-04-18T20:36:13.756Z"
   },
   {
    "duration": 219,
    "start_time": "2023-04-18T20:36:13.780Z"
   },
   {
    "duration": 45,
    "start_time": "2023-04-18T20:36:14.001Z"
   },
   {
    "duration": 0,
    "start_time": "2023-04-18T20:36:14.048Z"
   },
   {
    "duration": 0,
    "start_time": "2023-04-18T20:36:14.049Z"
   },
   {
    "duration": 0,
    "start_time": "2023-04-18T20:36:14.049Z"
   },
   {
    "duration": 0,
    "start_time": "2023-04-18T20:36:14.050Z"
   },
   {
    "duration": 0,
    "start_time": "2023-04-18T20:36:14.050Z"
   },
   {
    "duration": 0,
    "start_time": "2023-04-18T20:36:14.063Z"
   },
   {
    "duration": 0,
    "start_time": "2023-04-18T20:36:14.064Z"
   },
   {
    "duration": 0,
    "start_time": "2023-04-18T20:36:14.064Z"
   },
   {
    "duration": 0,
    "start_time": "2023-04-18T20:36:14.065Z"
   },
   {
    "duration": 0,
    "start_time": "2023-04-18T20:36:14.065Z"
   },
   {
    "duration": 0,
    "start_time": "2023-04-18T20:36:14.066Z"
   },
   {
    "duration": 0,
    "start_time": "2023-04-18T20:36:14.066Z"
   },
   {
    "duration": 0,
    "start_time": "2023-04-18T20:36:14.071Z"
   },
   {
    "duration": 0,
    "start_time": "2023-04-18T20:36:14.072Z"
   },
   {
    "duration": 0,
    "start_time": "2023-04-18T20:36:14.072Z"
   },
   {
    "duration": 0,
    "start_time": "2023-04-18T20:36:14.073Z"
   },
   {
    "duration": 0,
    "start_time": "2023-04-18T20:36:14.073Z"
   },
   {
    "duration": 1674,
    "start_time": "2023-04-18T20:36:45.726Z"
   },
   {
    "duration": 1674,
    "start_time": "2023-04-18T20:38:19.066Z"
   },
   {
    "duration": 259,
    "start_time": "2023-04-18T20:38:28.899Z"
   },
   {
    "duration": 8,
    "start_time": "2023-04-18T20:40:58.367Z"
   },
   {
    "duration": 5,
    "start_time": "2023-04-18T20:41:12.076Z"
   },
   {
    "duration": 73,
    "start_time": "2023-04-18T20:41:31.926Z"
   },
   {
    "duration": 112,
    "start_time": "2023-04-18T20:41:40.634Z"
   },
   {
    "duration": 43,
    "start_time": "2023-04-18T20:41:45.976Z"
   },
   {
    "duration": 255,
    "start_time": "2023-04-18T20:41:51.677Z"
   },
   {
    "duration": 1468,
    "start_time": "2023-04-18T20:43:03.391Z"
   },
   {
    "duration": 1207,
    "start_time": "2023-04-18T20:44:40.538Z"
   },
   {
    "duration": 54,
    "start_time": "2023-04-18T20:47:59.579Z"
   },
   {
    "duration": 46,
    "start_time": "2023-04-18T20:49:03.897Z"
   },
   {
    "duration": 72,
    "start_time": "2023-04-18T20:49:44.025Z"
   },
   {
    "duration": 278,
    "start_time": "2023-04-18T20:50:03.403Z"
   },
   {
    "duration": 70,
    "start_time": "2023-04-18T20:52:51.918Z"
   },
   {
    "duration": 1179,
    "start_time": "2023-04-18T20:53:29.100Z"
   },
   {
    "duration": 77,
    "start_time": "2023-04-18T20:53:30.285Z"
   },
   {
    "duration": 28,
    "start_time": "2023-04-18T20:53:30.372Z"
   },
   {
    "duration": 4,
    "start_time": "2023-04-18T20:53:30.402Z"
   },
   {
    "duration": 68,
    "start_time": "2023-04-18T20:53:30.409Z"
   },
   {
    "duration": 104,
    "start_time": "2023-04-18T20:53:30.479Z"
   },
   {
    "duration": 126,
    "start_time": "2023-04-18T20:53:30.584Z"
   },
   {
    "duration": 17,
    "start_time": "2023-04-18T20:53:30.712Z"
   },
   {
    "duration": 42,
    "start_time": "2023-04-18T20:53:30.731Z"
   },
   {
    "duration": 251,
    "start_time": "2023-04-18T20:53:30.776Z"
   },
   {
    "duration": 2742,
    "start_time": "2023-04-18T20:53:31.029Z"
   },
   {
    "duration": 81,
    "start_time": "2023-04-18T20:53:33.773Z"
   },
   {
    "duration": 369,
    "start_time": "2023-04-18T20:53:33.856Z"
   },
   {
    "duration": 159,
    "start_time": "2023-04-18T20:53:34.228Z"
   },
   {
    "duration": 0,
    "start_time": "2023-04-18T20:53:34.389Z"
   },
   {
    "duration": 0,
    "start_time": "2023-04-18T20:53:34.390Z"
   },
   {
    "duration": 0,
    "start_time": "2023-04-18T20:53:34.391Z"
   },
   {
    "duration": 0,
    "start_time": "2023-04-18T20:53:34.392Z"
   },
   {
    "duration": 0,
    "start_time": "2023-04-18T20:53:34.393Z"
   },
   {
    "duration": 0,
    "start_time": "2023-04-18T20:53:34.394Z"
   },
   {
    "duration": 0,
    "start_time": "2023-04-18T20:53:34.395Z"
   },
   {
    "duration": 0,
    "start_time": "2023-04-18T20:53:34.396Z"
   },
   {
    "duration": 0,
    "start_time": "2023-04-18T20:53:34.396Z"
   },
   {
    "duration": 0,
    "start_time": "2023-04-18T20:53:34.397Z"
   },
   {
    "duration": 0,
    "start_time": "2023-04-18T20:53:34.398Z"
   },
   {
    "duration": 0,
    "start_time": "2023-04-18T20:53:34.399Z"
   },
   {
    "duration": 0,
    "start_time": "2023-04-18T20:53:34.400Z"
   },
   {
    "duration": 0,
    "start_time": "2023-04-18T20:53:34.401Z"
   },
   {
    "duration": 70,
    "start_time": "2023-04-18T20:53:40.637Z"
   },
   {
    "duration": 1256,
    "start_time": "2023-04-18T20:55:21.018Z"
   },
   {
    "duration": 1524,
    "start_time": "2023-04-18T21:00:04.222Z"
   },
   {
    "duration": 379,
    "start_time": "2023-04-18T21:00:55.401Z"
   },
   {
    "duration": 228,
    "start_time": "2023-04-18T21:01:01.613Z"
   },
   {
    "duration": 269,
    "start_time": "2023-04-18T21:01:16.736Z"
   },
   {
    "duration": 42,
    "start_time": "2023-04-18T21:06:08.768Z"
   },
   {
    "duration": 307,
    "start_time": "2023-04-18T21:06:23.970Z"
   },
   {
    "duration": 214,
    "start_time": "2023-04-18T21:07:24.081Z"
   },
   {
    "duration": 237,
    "start_time": "2023-04-18T21:07:38.973Z"
   },
   {
    "duration": 309,
    "start_time": "2023-04-18T21:07:46.920Z"
   },
   {
    "duration": 256,
    "start_time": "2023-04-18T21:07:53.706Z"
   },
   {
    "duration": 803,
    "start_time": "2023-04-18T21:15:08.078Z"
   },
   {
    "duration": 348,
    "start_time": "2023-04-18T21:21:12.478Z"
   },
   {
    "duration": 393,
    "start_time": "2023-04-18T21:24:16.781Z"
   },
   {
    "duration": 763,
    "start_time": "2023-04-18T21:25:04.297Z"
   },
   {
    "duration": 4,
    "start_time": "2023-04-18T21:31:42.234Z"
   },
   {
    "duration": 14,
    "start_time": "2023-04-18T21:31:56.322Z"
   },
   {
    "duration": 12,
    "start_time": "2023-04-18T21:32:41.676Z"
   },
   {
    "duration": 695,
    "start_time": "2023-04-18T21:32:48.768Z"
   },
   {
    "duration": 13,
    "start_time": "2023-04-18T21:34:18.418Z"
   },
   {
    "duration": 494,
    "start_time": "2023-04-18T21:34:57.598Z"
   },
   {
    "duration": 714,
    "start_time": "2023-04-18T21:36:35.412Z"
   },
   {
    "duration": 491,
    "start_time": "2023-04-18T21:37:20.021Z"
   },
   {
    "duration": 1166,
    "start_time": "2023-04-18T21:37:29.439Z"
   },
   {
    "duration": 80,
    "start_time": "2023-04-18T21:37:30.607Z"
   },
   {
    "duration": 45,
    "start_time": "2023-04-18T21:37:30.688Z"
   },
   {
    "duration": 65,
    "start_time": "2023-04-18T21:37:30.749Z"
   },
   {
    "duration": 52,
    "start_time": "2023-04-18T21:37:30.816Z"
   },
   {
    "duration": 131,
    "start_time": "2023-04-18T21:37:30.870Z"
   },
   {
    "duration": 372,
    "start_time": "2023-04-18T21:37:31.003Z"
   },
   {
    "duration": 23,
    "start_time": "2023-04-18T21:37:31.380Z"
   },
   {
    "duration": 81,
    "start_time": "2023-04-18T21:37:31.405Z"
   },
   {
    "duration": 670,
    "start_time": "2023-04-18T21:37:31.488Z"
   },
   {
    "duration": 1831,
    "start_time": "2023-04-18T21:37:32.159Z"
   },
   {
    "duration": 25,
    "start_time": "2023-04-18T21:37:33.992Z"
   },
   {
    "duration": 277,
    "start_time": "2023-04-18T21:37:34.018Z"
   },
   {
    "duration": 1410,
    "start_time": "2023-04-18T21:37:34.297Z"
   },
   {
    "duration": 258,
    "start_time": "2023-04-18T21:37:35.708Z"
   },
   {
    "duration": 136,
    "start_time": "2023-04-18T21:37:35.973Z"
   },
   {
    "duration": 0,
    "start_time": "2023-04-18T21:37:36.110Z"
   },
   {
    "duration": 0,
    "start_time": "2023-04-18T21:37:36.112Z"
   },
   {
    "duration": 0,
    "start_time": "2023-04-18T21:37:36.114Z"
   },
   {
    "duration": 1,
    "start_time": "2023-04-18T21:37:36.114Z"
   },
   {
    "duration": 0,
    "start_time": "2023-04-18T21:37:36.115Z"
   },
   {
    "duration": 0,
    "start_time": "2023-04-18T21:37:36.116Z"
   },
   {
    "duration": 0,
    "start_time": "2023-04-18T21:37:36.118Z"
   },
   {
    "duration": 0,
    "start_time": "2023-04-18T21:37:36.119Z"
   },
   {
    "duration": 0,
    "start_time": "2023-04-18T21:37:36.120Z"
   },
   {
    "duration": 0,
    "start_time": "2023-04-18T21:37:36.121Z"
   },
   {
    "duration": 0,
    "start_time": "2023-04-18T21:37:36.122Z"
   },
   {
    "duration": 0,
    "start_time": "2023-04-18T21:37:36.123Z"
   },
   {
    "duration": 0,
    "start_time": "2023-04-18T21:37:36.124Z"
   },
   {
    "duration": 20,
    "start_time": "2023-04-18T21:37:41.266Z"
   },
   {
    "duration": 532,
    "start_time": "2023-04-18T21:38:02.084Z"
   },
   {
    "duration": 10,
    "start_time": "2023-04-18T21:38:35.393Z"
   },
   {
    "duration": 901,
    "start_time": "2023-04-18T21:39:07.937Z"
   },
   {
    "duration": 198,
    "start_time": "2023-04-18T21:39:30.905Z"
   },
   {
    "duration": 4,
    "start_time": "2023-04-18T21:40:28.200Z"
   },
   {
    "duration": 534,
    "start_time": "2023-04-18T21:40:38.140Z"
   },
   {
    "duration": 14,
    "start_time": "2023-04-18T21:42:16.378Z"
   },
   {
    "duration": 426,
    "start_time": "2023-04-18T21:42:52.196Z"
   },
   {
    "duration": 10,
    "start_time": "2023-04-18T21:53:27.713Z"
   },
   {
    "duration": 118,
    "start_time": "2023-04-18T21:53:37.867Z"
   },
   {
    "duration": 112,
    "start_time": "2023-04-18T21:53:53.851Z"
   },
   {
    "duration": 110,
    "start_time": "2023-04-18T21:54:01.029Z"
   },
   {
    "duration": 198,
    "start_time": "2023-04-18T21:54:08.010Z"
   },
   {
    "duration": 104,
    "start_time": "2023-04-18T22:01:45.962Z"
   },
   {
    "duration": 321,
    "start_time": "2023-04-18T22:04:04.139Z"
   },
   {
    "duration": 316,
    "start_time": "2023-04-18T22:05:34.566Z"
   },
   {
    "duration": 339,
    "start_time": "2023-04-18T22:06:05.109Z"
   },
   {
    "duration": 12,
    "start_time": "2023-04-18T22:07:44.495Z"
   },
   {
    "duration": 9,
    "start_time": "2023-04-18T22:08:08.782Z"
   },
   {
    "duration": 9,
    "start_time": "2023-04-18T22:08:42.262Z"
   },
   {
    "duration": 9,
    "start_time": "2023-04-18T22:09:06.520Z"
   },
   {
    "duration": 44,
    "start_time": "2023-04-19T05:06:13.613Z"
   },
   {
    "duration": 3,
    "start_time": "2023-04-19T05:06:40.601Z"
   },
   {
    "duration": 4,
    "start_time": "2023-04-19T05:07:04.682Z"
   },
   {
    "duration": 8,
    "start_time": "2023-04-19T05:08:07.830Z"
   },
   {
    "duration": 1265,
    "start_time": "2023-04-19T05:08:17.808Z"
   },
   {
    "duration": 102,
    "start_time": "2023-04-19T05:08:19.075Z"
   },
   {
    "duration": 21,
    "start_time": "2023-04-19T05:08:19.179Z"
   },
   {
    "duration": 3,
    "start_time": "2023-04-19T05:08:19.201Z"
   },
   {
    "duration": 17,
    "start_time": "2023-04-19T05:08:19.205Z"
   },
   {
    "duration": 19,
    "start_time": "2023-04-19T05:08:19.223Z"
   },
   {
    "duration": 84,
    "start_time": "2023-04-19T05:08:19.244Z"
   },
   {
    "duration": 13,
    "start_time": "2023-04-19T05:08:19.329Z"
   },
   {
    "duration": 6,
    "start_time": "2023-04-19T05:08:19.343Z"
   },
   {
    "duration": 196,
    "start_time": "2023-04-19T05:08:19.352Z"
   },
   {
    "duration": 1509,
    "start_time": "2023-04-19T05:08:19.550Z"
   },
   {
    "duration": 32,
    "start_time": "2023-04-19T05:08:21.061Z"
   },
   {
    "duration": 241,
    "start_time": "2023-04-19T05:08:21.094Z"
   },
   {
    "duration": 1175,
    "start_time": "2023-04-19T05:08:21.337Z"
   },
   {
    "duration": 224,
    "start_time": "2023-04-19T05:08:22.514Z"
   },
   {
    "duration": 153,
    "start_time": "2023-04-19T05:08:22.739Z"
   },
   {
    "duration": 3,
    "start_time": "2023-04-19T05:08:22.894Z"
   },
   {
    "duration": 798,
    "start_time": "2023-04-19T05:08:22.898Z"
   },
   {
    "duration": 556,
    "start_time": "2023-04-19T05:08:23.697Z"
   },
   {
    "duration": 374,
    "start_time": "2023-04-19T05:08:24.255Z"
   },
   {
    "duration": 3,
    "start_time": "2023-04-19T05:08:24.630Z"
   },
   {
    "duration": 387,
    "start_time": "2023-04-19T05:08:24.634Z"
   },
   {
    "duration": 103,
    "start_time": "2023-04-19T05:08:25.022Z"
   },
   {
    "duration": 0,
    "start_time": "2023-04-19T05:08:25.126Z"
   },
   {
    "duration": 0,
    "start_time": "2023-04-19T05:08:25.127Z"
   },
   {
    "duration": 0,
    "start_time": "2023-04-19T05:08:25.128Z"
   },
   {
    "duration": 0,
    "start_time": "2023-04-19T05:08:25.130Z"
   },
   {
    "duration": 0,
    "start_time": "2023-04-19T05:08:25.131Z"
   },
   {
    "duration": 0,
    "start_time": "2023-04-19T05:08:25.132Z"
   },
   {
    "duration": 0,
    "start_time": "2023-04-19T05:08:25.133Z"
   },
   {
    "duration": 0,
    "start_time": "2023-04-19T05:08:25.134Z"
   },
   {
    "duration": 9,
    "start_time": "2023-04-19T05:08:28.964Z"
   },
   {
    "duration": 10,
    "start_time": "2023-04-19T05:08:57.629Z"
   },
   {
    "duration": 11,
    "start_time": "2023-04-19T05:10:38.770Z"
   },
   {
    "duration": 12,
    "start_time": "2023-04-19T05:20:07.730Z"
   },
   {
    "duration": 9,
    "start_time": "2023-04-19T05:28:07.211Z"
   },
   {
    "duration": 10,
    "start_time": "2023-04-19T05:28:30.669Z"
   },
   {
    "duration": 1149,
    "start_time": "2023-04-19T05:28:38.155Z"
   },
   {
    "duration": 67,
    "start_time": "2023-04-19T05:28:39.306Z"
   },
   {
    "duration": 26,
    "start_time": "2023-04-19T05:28:39.375Z"
   },
   {
    "duration": 3,
    "start_time": "2023-04-19T05:28:39.403Z"
   },
   {
    "duration": 15,
    "start_time": "2023-04-19T05:28:39.408Z"
   },
   {
    "duration": 25,
    "start_time": "2023-04-19T05:28:39.425Z"
   },
   {
    "duration": 88,
    "start_time": "2023-04-19T05:28:39.452Z"
   },
   {
    "duration": 13,
    "start_time": "2023-04-19T05:28:39.542Z"
   },
   {
    "duration": 5,
    "start_time": "2023-04-19T05:28:39.557Z"
   },
   {
    "duration": 193,
    "start_time": "2023-04-19T05:28:39.584Z"
   },
   {
    "duration": 1500,
    "start_time": "2023-04-19T05:28:39.778Z"
   },
   {
    "duration": 27,
    "start_time": "2023-04-19T05:28:41.279Z"
   },
   {
    "duration": 281,
    "start_time": "2023-04-19T05:28:41.308Z"
   },
   {
    "duration": 1199,
    "start_time": "2023-04-19T05:28:41.591Z"
   },
   {
    "duration": 227,
    "start_time": "2023-04-19T05:28:42.792Z"
   },
   {
    "duration": 162,
    "start_time": "2023-04-19T05:28:43.021Z"
   },
   {
    "duration": 2,
    "start_time": "2023-04-19T05:28:43.185Z"
   },
   {
    "duration": 768,
    "start_time": "2023-04-19T05:28:43.188Z"
   },
   {
    "duration": 556,
    "start_time": "2023-04-19T05:28:43.958Z"
   },
   {
    "duration": 394,
    "start_time": "2023-04-19T05:28:44.516Z"
   },
   {
    "duration": 3,
    "start_time": "2023-04-19T05:28:44.912Z"
   },
   {
    "duration": 344,
    "start_time": "2023-04-19T05:28:44.917Z"
   },
   {
    "duration": 97,
    "start_time": "2023-04-19T05:28:45.262Z"
   },
   {
    "duration": 0,
    "start_time": "2023-04-19T05:28:45.360Z"
   },
   {
    "duration": 0,
    "start_time": "2023-04-19T05:28:45.361Z"
   },
   {
    "duration": 0,
    "start_time": "2023-04-19T05:28:45.362Z"
   },
   {
    "duration": 0,
    "start_time": "2023-04-19T05:28:45.363Z"
   },
   {
    "duration": 0,
    "start_time": "2023-04-19T05:28:45.364Z"
   },
   {
    "duration": 0,
    "start_time": "2023-04-19T05:28:45.365Z"
   },
   {
    "duration": 0,
    "start_time": "2023-04-19T05:28:45.366Z"
   },
   {
    "duration": 0,
    "start_time": "2023-04-19T05:28:45.367Z"
   },
   {
    "duration": 0,
    "start_time": "2023-04-19T05:28:45.368Z"
   },
   {
    "duration": 9,
    "start_time": "2023-04-19T05:28:47.900Z"
   },
   {
    "duration": 9,
    "start_time": "2023-04-19T05:28:58.097Z"
   },
   {
    "duration": 8,
    "start_time": "2023-04-19T05:29:27.193Z"
   },
   {
    "duration": 707,
    "start_time": "2023-04-19T06:24:44.705Z"
   },
   {
    "duration": 74,
    "start_time": "2023-04-19T19:55:50.415Z"
   },
   {
    "duration": 1807,
    "start_time": "2023-04-19T19:56:21.225Z"
   },
   {
    "duration": 443,
    "start_time": "2023-04-19T19:56:23.036Z"
   },
   {
    "duration": 53,
    "start_time": "2023-04-19T19:56:23.481Z"
   },
   {
    "duration": 4,
    "start_time": "2023-04-19T19:56:23.536Z"
   },
   {
    "duration": 15,
    "start_time": "2023-04-19T19:56:23.544Z"
   },
   {
    "duration": 28,
    "start_time": "2023-04-19T19:56:23.562Z"
   },
   {
    "duration": 115,
    "start_time": "2023-04-19T19:56:23.592Z"
   },
   {
    "duration": 16,
    "start_time": "2023-04-19T19:56:23.713Z"
   },
   {
    "duration": 10,
    "start_time": "2023-04-19T19:56:23.731Z"
   },
   {
    "duration": 325,
    "start_time": "2023-04-19T19:56:23.743Z"
   },
   {
    "duration": 2677,
    "start_time": "2023-04-19T19:56:24.071Z"
   },
   {
    "duration": 61,
    "start_time": "2023-04-19T19:56:26.750Z"
   },
   {
    "duration": 376,
    "start_time": "2023-04-19T19:56:26.829Z"
   },
   {
    "duration": 3247,
    "start_time": "2023-04-19T19:56:27.210Z"
   },
   {
    "duration": 491,
    "start_time": "2023-04-19T19:56:30.459Z"
   },
   {
    "duration": 208,
    "start_time": "2023-04-19T19:56:30.957Z"
   },
   {
    "duration": 3,
    "start_time": "2023-04-19T19:56:31.167Z"
   },
   {
    "duration": 1237,
    "start_time": "2023-04-19T19:56:31.172Z"
   },
   {
    "duration": 717,
    "start_time": "2023-04-19T19:56:32.414Z"
   },
   {
    "duration": 601,
    "start_time": "2023-04-19T19:56:33.134Z"
   },
   {
    "duration": 3,
    "start_time": "2023-04-19T19:56:33.737Z"
   },
   {
    "duration": 605,
    "start_time": "2023-04-19T19:56:33.742Z"
   },
   {
    "duration": 801,
    "start_time": "2023-04-19T19:56:34.350Z"
   },
   {
    "duration": 132,
    "start_time": "2023-04-19T19:56:35.153Z"
   },
   {
    "duration": 0,
    "start_time": "2023-04-19T19:56:35.287Z"
   },
   {
    "duration": 0,
    "start_time": "2023-04-19T19:56:35.288Z"
   },
   {
    "duration": 0,
    "start_time": "2023-04-19T19:56:35.289Z"
   },
   {
    "duration": 0,
    "start_time": "2023-04-19T19:56:35.289Z"
   },
   {
    "duration": 0,
    "start_time": "2023-04-19T19:56:35.290Z"
   },
   {
    "duration": 0,
    "start_time": "2023-04-19T19:56:35.291Z"
   },
   {
    "duration": 0,
    "start_time": "2023-04-19T19:56:35.301Z"
   },
   {
    "duration": 0,
    "start_time": "2023-04-19T19:56:35.303Z"
   },
   {
    "duration": 14,
    "start_time": "2023-04-19T19:59:05.724Z"
   },
   {
    "duration": 17,
    "start_time": "2023-04-19T19:59:10.527Z"
   },
   {
    "duration": 1461,
    "start_time": "2023-04-19T19:59:24.024Z"
   },
   {
    "duration": 81,
    "start_time": "2023-04-19T19:59:25.491Z"
   },
   {
    "duration": 54,
    "start_time": "2023-04-19T19:59:25.574Z"
   },
   {
    "duration": 3,
    "start_time": "2023-04-19T19:59:25.631Z"
   },
   {
    "duration": 15,
    "start_time": "2023-04-19T19:59:25.637Z"
   },
   {
    "duration": 27,
    "start_time": "2023-04-19T19:59:25.654Z"
   },
   {
    "duration": 95,
    "start_time": "2023-04-19T19:59:25.683Z"
   },
   {
    "duration": 31,
    "start_time": "2023-04-19T19:59:25.785Z"
   },
   {
    "duration": 20,
    "start_time": "2023-04-19T19:59:25.819Z"
   },
   {
    "duration": 279,
    "start_time": "2023-04-19T19:59:25.840Z"
   },
   {
    "duration": 2298,
    "start_time": "2023-04-19T19:59:26.125Z"
   },
   {
    "duration": 43,
    "start_time": "2023-04-19T19:59:28.426Z"
   },
   {
    "duration": 336,
    "start_time": "2023-04-19T19:59:28.471Z"
   },
   {
    "duration": 1868,
    "start_time": "2023-04-19T19:59:28.811Z"
   },
   {
    "duration": 366,
    "start_time": "2023-04-19T19:59:30.681Z"
   },
   {
    "duration": 231,
    "start_time": "2023-04-19T19:59:31.048Z"
   },
   {
    "duration": 3,
    "start_time": "2023-04-19T19:59:31.281Z"
   },
   {
    "duration": 1159,
    "start_time": "2023-04-19T19:59:31.305Z"
   },
   {
    "duration": 755,
    "start_time": "2023-04-19T19:59:32.466Z"
   },
   {
    "duration": 522,
    "start_time": "2023-04-19T19:59:33.224Z"
   },
   {
    "duration": 3,
    "start_time": "2023-04-19T19:59:33.747Z"
   },
   {
    "duration": 503,
    "start_time": "2023-04-19T19:59:33.751Z"
   },
   {
    "duration": 706,
    "start_time": "2023-04-19T19:59:34.255Z"
   },
   {
    "duration": 170,
    "start_time": "2023-04-19T19:59:34.963Z"
   },
   {
    "duration": 0,
    "start_time": "2023-04-19T19:59:35.139Z"
   },
   {
    "duration": 0,
    "start_time": "2023-04-19T19:59:35.146Z"
   },
   {
    "duration": 0,
    "start_time": "2023-04-19T19:59:35.148Z"
   },
   {
    "duration": 0,
    "start_time": "2023-04-19T19:59:35.149Z"
   },
   {
    "duration": 0,
    "start_time": "2023-04-19T19:59:35.152Z"
   },
   {
    "duration": 0,
    "start_time": "2023-04-19T19:59:35.153Z"
   },
   {
    "duration": 0,
    "start_time": "2023-04-19T19:59:35.154Z"
   },
   {
    "duration": 0,
    "start_time": "2023-04-19T19:59:35.157Z"
   },
   {
    "duration": 528,
    "start_time": "2023-04-19T20:01:35.629Z"
   },
   {
    "duration": 1224,
    "start_time": "2023-04-19T20:01:50.927Z"
   },
   {
    "duration": 76,
    "start_time": "2023-04-19T20:01:52.153Z"
   },
   {
    "duration": 24,
    "start_time": "2023-04-19T20:01:52.230Z"
   },
   {
    "duration": 7,
    "start_time": "2023-04-19T20:01:52.257Z"
   },
   {
    "duration": 49,
    "start_time": "2023-04-19T20:01:52.265Z"
   },
   {
    "duration": 30,
    "start_time": "2023-04-19T20:01:52.316Z"
   },
   {
    "duration": 86,
    "start_time": "2023-04-19T20:01:52.348Z"
   },
   {
    "duration": 15,
    "start_time": "2023-04-19T20:01:52.436Z"
   },
   {
    "duration": 7,
    "start_time": "2023-04-19T20:01:52.453Z"
   },
   {
    "duration": 252,
    "start_time": "2023-04-19T20:01:52.462Z"
   },
   {
    "duration": 1986,
    "start_time": "2023-04-19T20:01:52.717Z"
   },
   {
    "duration": 26,
    "start_time": "2023-04-19T20:01:54.709Z"
   },
   {
    "duration": 293,
    "start_time": "2023-04-19T20:01:54.737Z"
   },
   {
    "duration": 1616,
    "start_time": "2023-04-19T20:01:55.032Z"
   },
   {
    "duration": 299,
    "start_time": "2023-04-19T20:01:56.650Z"
   },
   {
    "duration": 203,
    "start_time": "2023-04-19T20:01:56.951Z"
   },
   {
    "duration": 2,
    "start_time": "2023-04-19T20:01:57.156Z"
   },
   {
    "duration": 1038,
    "start_time": "2023-04-19T20:01:57.160Z"
   },
   {
    "duration": 725,
    "start_time": "2023-04-19T20:01:58.200Z"
   },
   {
    "duration": 454,
    "start_time": "2023-04-19T20:01:58.926Z"
   },
   {
    "duration": 18,
    "start_time": "2023-04-19T20:01:59.385Z"
   },
   {
    "duration": 411,
    "start_time": "2023-04-19T20:01:59.406Z"
   },
   {
    "duration": 589,
    "start_time": "2023-04-19T20:01:59.819Z"
   },
   {
    "duration": 135,
    "start_time": "2023-04-19T20:02:00.414Z"
   },
   {
    "duration": 0,
    "start_time": "2023-04-19T20:02:00.551Z"
   },
   {
    "duration": 0,
    "start_time": "2023-04-19T20:02:00.552Z"
   },
   {
    "duration": 0,
    "start_time": "2023-04-19T20:02:00.553Z"
   },
   {
    "duration": 0,
    "start_time": "2023-04-19T20:02:00.555Z"
   },
   {
    "duration": 0,
    "start_time": "2023-04-19T20:02:00.556Z"
   },
   {
    "duration": 0,
    "start_time": "2023-04-19T20:02:00.557Z"
   },
   {
    "duration": 0,
    "start_time": "2023-04-19T20:02:00.558Z"
   },
   {
    "duration": 0,
    "start_time": "2023-04-19T20:02:00.559Z"
   },
   {
    "duration": 522,
    "start_time": "2023-04-19T20:03:47.027Z"
   },
   {
    "duration": 1303,
    "start_time": "2023-04-19T20:04:10.301Z"
   },
   {
    "duration": 1307,
    "start_time": "2023-04-19T20:04:37.339Z"
   },
   {
    "duration": 76,
    "start_time": "2023-04-19T20:04:38.648Z"
   },
   {
    "duration": 25,
    "start_time": "2023-04-19T20:04:38.726Z"
   },
   {
    "duration": 3,
    "start_time": "2023-04-19T20:04:38.754Z"
   },
   {
    "duration": 44,
    "start_time": "2023-04-19T20:04:38.758Z"
   },
   {
    "duration": 27,
    "start_time": "2023-04-19T20:04:38.804Z"
   },
   {
    "duration": 89,
    "start_time": "2023-04-19T20:04:38.832Z"
   },
   {
    "duration": 15,
    "start_time": "2023-04-19T20:04:38.923Z"
   },
   {
    "duration": 7,
    "start_time": "2023-04-19T20:04:38.940Z"
   },
   {
    "duration": 444,
    "start_time": "2023-04-19T20:04:38.949Z"
   },
   {
    "duration": 3181,
    "start_time": "2023-04-19T20:04:39.395Z"
   },
   {
    "duration": 51,
    "start_time": "2023-04-19T20:04:42.578Z"
   },
   {
    "duration": 307,
    "start_time": "2023-04-19T20:04:42.632Z"
   },
   {
    "duration": 1596,
    "start_time": "2023-04-19T20:04:42.941Z"
   },
   {
    "duration": 316,
    "start_time": "2023-04-19T20:04:44.539Z"
   },
   {
    "duration": 224,
    "start_time": "2023-04-19T20:04:44.857Z"
   },
   {
    "duration": 4,
    "start_time": "2023-04-19T20:04:45.085Z"
   },
   {
    "duration": 1028,
    "start_time": "2023-04-19T20:04:45.093Z"
   },
   {
    "duration": 726,
    "start_time": "2023-04-19T20:04:46.123Z"
   },
   {
    "duration": 485,
    "start_time": "2023-04-19T20:04:46.851Z"
   },
   {
    "duration": 3,
    "start_time": "2023-04-19T20:04:47.339Z"
   },
   {
    "duration": 467,
    "start_time": "2023-04-19T20:04:47.344Z"
   },
   {
    "duration": 577,
    "start_time": "2023-04-19T20:04:47.814Z"
   },
   {
    "duration": 141,
    "start_time": "2023-04-19T20:04:48.393Z"
   },
   {
    "duration": 0,
    "start_time": "2023-04-19T20:04:48.536Z"
   },
   {
    "duration": 0,
    "start_time": "2023-04-19T20:04:48.537Z"
   },
   {
    "duration": 0,
    "start_time": "2023-04-19T20:04:48.538Z"
   },
   {
    "duration": 1,
    "start_time": "2023-04-19T20:04:48.539Z"
   },
   {
    "duration": 0,
    "start_time": "2023-04-19T20:04:48.541Z"
   },
   {
    "duration": 0,
    "start_time": "2023-04-19T20:04:48.542Z"
   },
   {
    "duration": 0,
    "start_time": "2023-04-19T20:04:48.543Z"
   },
   {
    "duration": 0,
    "start_time": "2023-04-19T20:04:48.544Z"
   },
   {
    "duration": 527,
    "start_time": "2023-04-19T20:05:01.643Z"
   },
   {
    "duration": 102,
    "start_time": "2023-04-19T20:08:40.322Z"
   },
   {
    "duration": 598,
    "start_time": "2023-04-19T20:09:12.005Z"
   },
   {
    "duration": 17,
    "start_time": "2023-04-19T20:19:23.584Z"
   },
   {
    "duration": 11,
    "start_time": "2023-04-19T20:20:45.524Z"
   },
   {
    "duration": 11,
    "start_time": "2023-04-19T20:22:38.531Z"
   },
   {
    "duration": 1482,
    "start_time": "2023-04-19T20:22:44.252Z"
   },
   {
    "duration": 86,
    "start_time": "2023-04-19T20:22:45.736Z"
   },
   {
    "duration": 26,
    "start_time": "2023-04-19T20:22:45.825Z"
   },
   {
    "duration": 4,
    "start_time": "2023-04-19T20:22:45.853Z"
   },
   {
    "duration": 11,
    "start_time": "2023-04-19T20:22:45.858Z"
   },
   {
    "duration": 40,
    "start_time": "2023-04-19T20:22:45.871Z"
   },
   {
    "duration": 94,
    "start_time": "2023-04-19T20:22:45.913Z"
   },
   {
    "duration": 25,
    "start_time": "2023-04-19T20:22:46.009Z"
   },
   {
    "duration": 6,
    "start_time": "2023-04-19T20:22:46.036Z"
   },
   {
    "duration": 293,
    "start_time": "2023-04-19T20:22:46.045Z"
   },
   {
    "duration": 2264,
    "start_time": "2023-04-19T20:22:46.339Z"
   },
   {
    "duration": 38,
    "start_time": "2023-04-19T20:22:48.605Z"
   },
   {
    "duration": 334,
    "start_time": "2023-04-19T20:22:48.645Z"
   },
   {
    "duration": 1774,
    "start_time": "2023-04-19T20:22:48.981Z"
   },
   {
    "duration": 298,
    "start_time": "2023-04-19T20:22:50.757Z"
   },
   {
    "duration": 195,
    "start_time": "2023-04-19T20:22:51.057Z"
   },
   {
    "duration": 3,
    "start_time": "2023-04-19T20:22:51.254Z"
   },
   {
    "duration": 1085,
    "start_time": "2023-04-19T20:22:51.258Z"
   },
   {
    "duration": 835,
    "start_time": "2023-04-19T20:22:52.345Z"
   },
   {
    "duration": 550,
    "start_time": "2023-04-19T20:22:53.182Z"
   },
   {
    "duration": 2,
    "start_time": "2023-04-19T20:22:53.734Z"
   },
   {
    "duration": 493,
    "start_time": "2023-04-19T20:22:53.738Z"
   },
   {
    "duration": 626,
    "start_time": "2023-04-19T20:22:54.234Z"
   },
   {
    "duration": 131,
    "start_time": "2023-04-19T20:22:54.861Z"
   },
   {
    "duration": 0,
    "start_time": "2023-04-19T20:22:54.994Z"
   },
   {
    "duration": 0,
    "start_time": "2023-04-19T20:22:54.996Z"
   },
   {
    "duration": 0,
    "start_time": "2023-04-19T20:22:54.998Z"
   },
   {
    "duration": 0,
    "start_time": "2023-04-19T20:22:55.000Z"
   },
   {
    "duration": 0,
    "start_time": "2023-04-19T20:22:55.002Z"
   },
   {
    "duration": 0,
    "start_time": "2023-04-19T20:22:55.004Z"
   },
   {
    "duration": 0,
    "start_time": "2023-04-19T20:22:55.005Z"
   },
   {
    "duration": 0,
    "start_time": "2023-04-19T20:22:55.007Z"
   },
   {
    "duration": 15,
    "start_time": "2023-04-19T20:22:56.318Z"
   },
   {
    "duration": 1405,
    "start_time": "2023-04-19T20:23:41.134Z"
   },
   {
    "duration": 83,
    "start_time": "2023-04-19T20:23:42.542Z"
   },
   {
    "duration": 31,
    "start_time": "2023-04-19T20:23:42.627Z"
   },
   {
    "duration": 3,
    "start_time": "2023-04-19T20:23:42.661Z"
   },
   {
    "duration": 30,
    "start_time": "2023-04-19T20:23:42.666Z"
   },
   {
    "duration": 38,
    "start_time": "2023-04-19T20:23:42.699Z"
   },
   {
    "duration": 97,
    "start_time": "2023-04-19T20:23:42.739Z"
   },
   {
    "duration": 17,
    "start_time": "2023-04-19T20:23:42.839Z"
   },
   {
    "duration": 7,
    "start_time": "2023-04-19T20:23:42.857Z"
   },
   {
    "duration": 287,
    "start_time": "2023-04-19T20:23:42.884Z"
   },
   {
    "duration": 2464,
    "start_time": "2023-04-19T20:23:43.173Z"
   },
   {
    "duration": 26,
    "start_time": "2023-04-19T20:23:45.638Z"
   },
   {
    "duration": 340,
    "start_time": "2023-04-19T20:23:45.666Z"
   },
   {
    "duration": 1652,
    "start_time": "2023-04-19T20:23:46.012Z"
   },
   {
    "duration": 294,
    "start_time": "2023-04-19T20:23:47.666Z"
   },
   {
    "duration": 207,
    "start_time": "2023-04-19T20:23:47.962Z"
   },
   {
    "duration": 3,
    "start_time": "2023-04-19T20:23:48.170Z"
   },
   {
    "duration": 1015,
    "start_time": "2023-04-19T20:23:48.174Z"
   },
   {
    "duration": 703,
    "start_time": "2023-04-19T20:23:49.191Z"
   },
   {
    "duration": 491,
    "start_time": "2023-04-19T20:23:49.896Z"
   },
   {
    "duration": 7,
    "start_time": "2023-04-19T20:23:50.389Z"
   },
   {
    "duration": 542,
    "start_time": "2023-04-19T20:23:50.399Z"
   },
   {
    "duration": 587,
    "start_time": "2023-04-19T20:23:50.943Z"
   },
   {
    "duration": 138,
    "start_time": "2023-04-19T20:23:51.532Z"
   },
   {
    "duration": 0,
    "start_time": "2023-04-19T20:23:51.673Z"
   },
   {
    "duration": 0,
    "start_time": "2023-04-19T20:23:51.675Z"
   },
   {
    "duration": 0,
    "start_time": "2023-04-19T20:23:51.676Z"
   },
   {
    "duration": 0,
    "start_time": "2023-04-19T20:23:51.678Z"
   },
   {
    "duration": 0,
    "start_time": "2023-04-19T20:23:51.679Z"
   },
   {
    "duration": 0,
    "start_time": "2023-04-19T20:23:51.680Z"
   },
   {
    "duration": 0,
    "start_time": "2023-04-19T20:23:51.682Z"
   },
   {
    "duration": 0,
    "start_time": "2023-04-19T20:23:51.684Z"
   },
   {
    "duration": 12,
    "start_time": "2023-04-19T20:24:15.210Z"
   },
   {
    "duration": 1375,
    "start_time": "2023-04-19T20:24:50.102Z"
   },
   {
    "duration": 85,
    "start_time": "2023-04-19T20:24:51.479Z"
   },
   {
    "duration": 41,
    "start_time": "2023-04-19T20:24:51.566Z"
   },
   {
    "duration": 4,
    "start_time": "2023-04-19T20:24:51.609Z"
   },
   {
    "duration": 20,
    "start_time": "2023-04-19T20:24:51.616Z"
   },
   {
    "duration": 23,
    "start_time": "2023-04-19T20:24:51.638Z"
   },
   {
    "duration": 108,
    "start_time": "2023-04-19T20:24:51.663Z"
   },
   {
    "duration": 35,
    "start_time": "2023-04-19T20:24:51.773Z"
   },
   {
    "duration": 14,
    "start_time": "2023-04-19T20:24:51.810Z"
   },
   {
    "duration": 245,
    "start_time": "2023-04-19T20:24:51.826Z"
   },
   {
    "duration": 2250,
    "start_time": "2023-04-19T20:24:52.073Z"
   },
   {
    "duration": 27,
    "start_time": "2023-04-19T20:24:54.328Z"
   },
   {
    "duration": 373,
    "start_time": "2023-04-19T20:24:54.358Z"
   },
   {
    "duration": 1730,
    "start_time": "2023-04-19T20:24:54.734Z"
   },
   {
    "duration": 312,
    "start_time": "2023-04-19T20:24:56.466Z"
   },
   {
    "duration": 231,
    "start_time": "2023-04-19T20:24:56.780Z"
   },
   {
    "duration": 7,
    "start_time": "2023-04-19T20:24:57.014Z"
   },
   {
    "duration": 1042,
    "start_time": "2023-04-19T20:24:57.025Z"
   },
   {
    "duration": 743,
    "start_time": "2023-04-19T20:24:58.069Z"
   },
   {
    "duration": 497,
    "start_time": "2023-04-19T20:24:58.814Z"
   },
   {
    "duration": 7,
    "start_time": "2023-04-19T20:24:59.314Z"
   },
   {
    "duration": 447,
    "start_time": "2023-04-19T20:24:59.324Z"
   },
   {
    "duration": 604,
    "start_time": "2023-04-19T20:24:59.773Z"
   },
   {
    "duration": 151,
    "start_time": "2023-04-19T20:25:00.378Z"
   },
   {
    "duration": 0,
    "start_time": "2023-04-19T20:25:00.531Z"
   },
   {
    "duration": 0,
    "start_time": "2023-04-19T20:25:00.532Z"
   },
   {
    "duration": 0,
    "start_time": "2023-04-19T20:25:00.533Z"
   },
   {
    "duration": 0,
    "start_time": "2023-04-19T20:25:00.535Z"
   },
   {
    "duration": 0,
    "start_time": "2023-04-19T20:25:00.537Z"
   },
   {
    "duration": 9,
    "start_time": "2023-04-19T20:25:03.135Z"
   },
   {
    "duration": 13,
    "start_time": "2023-04-19T20:25:08.214Z"
   },
   {
    "duration": 13,
    "start_time": "2023-04-19T20:26:21.081Z"
   },
   {
    "duration": 1337,
    "start_time": "2023-04-19T20:26:37.721Z"
   },
   {
    "duration": 83,
    "start_time": "2023-04-19T20:26:39.060Z"
   },
   {
    "duration": 24,
    "start_time": "2023-04-19T20:26:39.145Z"
   },
   {
    "duration": 4,
    "start_time": "2023-04-19T20:26:39.170Z"
   },
   {
    "duration": 36,
    "start_time": "2023-04-19T20:26:39.176Z"
   },
   {
    "duration": 28,
    "start_time": "2023-04-19T20:26:39.222Z"
   },
   {
    "duration": 103,
    "start_time": "2023-04-19T20:26:39.252Z"
   },
   {
    "duration": 15,
    "start_time": "2023-04-19T20:26:39.356Z"
   },
   {
    "duration": 17,
    "start_time": "2023-04-19T20:26:39.372Z"
   },
   {
    "duration": 258,
    "start_time": "2023-04-19T20:26:39.391Z"
   },
   {
    "duration": 2105,
    "start_time": "2023-04-19T20:26:39.651Z"
   },
   {
    "duration": 39,
    "start_time": "2023-04-19T20:26:41.757Z"
   },
   {
    "duration": 321,
    "start_time": "2023-04-19T20:26:41.799Z"
   },
   {
    "duration": 1738,
    "start_time": "2023-04-19T20:26:42.125Z"
   },
   {
    "duration": 299,
    "start_time": "2023-04-19T20:26:43.865Z"
   },
   {
    "duration": 275,
    "start_time": "2023-04-19T20:26:44.166Z"
   },
   {
    "duration": 3,
    "start_time": "2023-04-19T20:26:44.443Z"
   },
   {
    "duration": 1099,
    "start_time": "2023-04-19T20:26:44.448Z"
   },
   {
    "duration": 783,
    "start_time": "2023-04-19T20:26:45.548Z"
   },
   {
    "duration": 507,
    "start_time": "2023-04-19T20:26:46.333Z"
   },
   {
    "duration": 3,
    "start_time": "2023-04-19T20:26:46.842Z"
   },
   {
    "duration": 418,
    "start_time": "2023-04-19T20:26:46.847Z"
   },
   {
    "duration": 527,
    "start_time": "2023-04-19T20:26:47.267Z"
   },
   {
    "duration": 139,
    "start_time": "2023-04-19T20:26:47.798Z"
   },
   {
    "duration": 0,
    "start_time": "2023-04-19T20:26:47.938Z"
   },
   {
    "duration": 0,
    "start_time": "2023-04-19T20:26:47.940Z"
   },
   {
    "duration": 0,
    "start_time": "2023-04-19T20:26:47.941Z"
   },
   {
    "duration": 0,
    "start_time": "2023-04-19T20:26:47.943Z"
   },
   {
    "duration": 0,
    "start_time": "2023-04-19T20:26:47.944Z"
   },
   {
    "duration": 20,
    "start_time": "2023-04-19T20:26:53.982Z"
   },
   {
    "duration": 15,
    "start_time": "2023-04-19T20:27:12.444Z"
   },
   {
    "duration": 153,
    "start_time": "2023-04-19T20:33:37.320Z"
   },
   {
    "duration": 156,
    "start_time": "2023-04-19T20:34:53.784Z"
   },
   {
    "duration": 21,
    "start_time": "2023-04-19T20:41:19.257Z"
   },
   {
    "duration": 1434,
    "start_time": "2023-04-19T20:42:06.338Z"
   },
   {
    "duration": 100,
    "start_time": "2023-04-19T20:42:07.774Z"
   },
   {
    "duration": 44,
    "start_time": "2023-04-19T20:42:07.876Z"
   },
   {
    "duration": 12,
    "start_time": "2023-04-19T20:42:07.922Z"
   },
   {
    "duration": 20,
    "start_time": "2023-04-19T20:42:07.936Z"
   },
   {
    "duration": 61,
    "start_time": "2023-04-19T20:42:07.958Z"
   },
   {
    "duration": 126,
    "start_time": "2023-04-19T20:42:08.021Z"
   },
   {
    "duration": 16,
    "start_time": "2023-04-19T20:42:08.149Z"
   },
   {
    "duration": 42,
    "start_time": "2023-04-19T20:42:08.167Z"
   },
   {
    "duration": 308,
    "start_time": "2023-04-19T20:42:08.223Z"
   },
   {
    "duration": 2230,
    "start_time": "2023-04-19T20:42:08.533Z"
   },
   {
    "duration": 47,
    "start_time": "2023-04-19T20:42:10.765Z"
   },
   {
    "duration": 302,
    "start_time": "2023-04-19T20:42:10.813Z"
   },
   {
    "duration": 1598,
    "start_time": "2023-04-19T20:42:11.117Z"
   },
   {
    "duration": 302,
    "start_time": "2023-04-19T20:42:12.717Z"
   },
   {
    "duration": 188,
    "start_time": "2023-04-19T20:42:13.021Z"
   },
   {
    "duration": 3,
    "start_time": "2023-04-19T20:42:13.211Z"
   },
   {
    "duration": 1038,
    "start_time": "2023-04-19T20:42:13.219Z"
   },
   {
    "duration": 693,
    "start_time": "2023-04-19T20:42:14.259Z"
   },
   {
    "duration": 478,
    "start_time": "2023-04-19T20:42:14.954Z"
   },
   {
    "duration": 3,
    "start_time": "2023-04-19T20:42:15.433Z"
   },
   {
    "duration": 420,
    "start_time": "2023-04-19T20:42:15.438Z"
   },
   {
    "duration": 552,
    "start_time": "2023-04-19T20:42:15.860Z"
   },
   {
    "duration": 122,
    "start_time": "2023-04-19T20:42:16.415Z"
   },
   {
    "duration": 0,
    "start_time": "2023-04-19T20:42:16.540Z"
   },
   {
    "duration": 0,
    "start_time": "2023-04-19T20:42:16.541Z"
   },
   {
    "duration": 0,
    "start_time": "2023-04-19T20:42:16.543Z"
   },
   {
    "duration": 0,
    "start_time": "2023-04-19T20:42:16.544Z"
   },
   {
    "duration": 0,
    "start_time": "2023-04-19T20:42:16.546Z"
   },
   {
    "duration": 1,
    "start_time": "2023-04-19T20:42:16.547Z"
   },
   {
    "duration": 0,
    "start_time": "2023-04-19T20:42:16.549Z"
   },
   {
    "duration": 153,
    "start_time": "2023-04-19T21:14:10.245Z"
   },
   {
    "duration": 175,
    "start_time": "2023-04-19T21:14:21.028Z"
   },
   {
    "duration": 1577,
    "start_time": "2023-04-19T21:24:07.254Z"
   },
   {
    "duration": 128,
    "start_time": "2023-04-19T21:24:08.839Z"
   },
   {
    "duration": 43,
    "start_time": "2023-04-19T21:24:08.969Z"
   },
   {
    "duration": 7,
    "start_time": "2023-04-19T21:24:09.021Z"
   },
   {
    "duration": 20,
    "start_time": "2023-04-19T21:24:09.031Z"
   },
   {
    "duration": 29,
    "start_time": "2023-04-19T21:24:09.054Z"
   },
   {
    "duration": 130,
    "start_time": "2023-04-19T21:24:09.090Z"
   },
   {
    "duration": 22,
    "start_time": "2023-04-19T21:24:09.226Z"
   },
   {
    "duration": 10,
    "start_time": "2023-04-19T21:24:09.254Z"
   },
   {
    "duration": 306,
    "start_time": "2023-04-19T21:24:09.266Z"
   },
   {
    "duration": 2448,
    "start_time": "2023-04-19T21:24:09.574Z"
   },
   {
    "duration": 36,
    "start_time": "2023-04-19T21:24:12.029Z"
   },
   {
    "duration": 471,
    "start_time": "2023-04-19T21:24:12.067Z"
   },
   {
    "duration": 2156,
    "start_time": "2023-04-19T21:24:12.541Z"
   },
   {
    "duration": 432,
    "start_time": "2023-04-19T21:24:14.704Z"
   },
   {
    "duration": 315,
    "start_time": "2023-04-19T21:24:15.144Z"
   },
   {
    "duration": 6,
    "start_time": "2023-04-19T21:24:15.468Z"
   },
   {
    "duration": 1466,
    "start_time": "2023-04-19T21:24:15.478Z"
   },
   {
    "duration": 882,
    "start_time": "2023-04-19T21:24:16.957Z"
   },
   {
    "duration": 676,
    "start_time": "2023-04-19T21:24:17.841Z"
   },
   {
    "duration": 14,
    "start_time": "2023-04-19T21:24:18.526Z"
   },
   {
    "duration": 531,
    "start_time": "2023-04-19T21:24:18.547Z"
   },
   {
    "duration": 680,
    "start_time": "2023-04-19T21:24:19.080Z"
   },
   {
    "duration": 146,
    "start_time": "2023-04-19T21:24:19.763Z"
   },
   {
    "duration": 0,
    "start_time": "2023-04-19T21:24:19.922Z"
   },
   {
    "duration": 0,
    "start_time": "2023-04-19T21:24:19.923Z"
   },
   {
    "duration": 0,
    "start_time": "2023-04-19T21:24:19.925Z"
   },
   {
    "duration": 0,
    "start_time": "2023-04-19T21:24:19.925Z"
   },
   {
    "duration": 0,
    "start_time": "2023-04-19T21:24:19.926Z"
   },
   {
    "duration": 0,
    "start_time": "2023-04-19T21:24:19.927Z"
   },
   {
    "duration": 0,
    "start_time": "2023-04-19T21:24:19.930Z"
   },
   {
    "duration": 1168,
    "start_time": "2023-04-20T17:20:02.844Z"
   },
   {
    "duration": 108,
    "start_time": "2023-04-20T17:20:04.014Z"
   },
   {
    "duration": 25,
    "start_time": "2023-04-20T17:20:04.124Z"
   },
   {
    "duration": 3,
    "start_time": "2023-04-20T17:20:04.151Z"
   },
   {
    "duration": 24,
    "start_time": "2023-04-20T17:20:04.156Z"
   },
   {
    "duration": 22,
    "start_time": "2023-04-20T17:20:04.182Z"
   },
   {
    "duration": 87,
    "start_time": "2023-04-20T17:20:04.205Z"
   },
   {
    "duration": 15,
    "start_time": "2023-04-20T17:20:04.293Z"
   },
   {
    "duration": 6,
    "start_time": "2023-04-20T17:20:04.310Z"
   },
   {
    "duration": 235,
    "start_time": "2023-04-20T17:20:04.317Z"
   },
   {
    "duration": 1952,
    "start_time": "2023-04-20T17:20:04.554Z"
   },
   {
    "duration": 25,
    "start_time": "2023-04-20T17:20:06.507Z"
   },
   {
    "duration": 279,
    "start_time": "2023-04-20T17:20:06.534Z"
   },
   {
    "duration": 1470,
    "start_time": "2023-04-20T17:20:06.816Z"
   },
   {
    "duration": 253,
    "start_time": "2023-04-20T17:20:08.288Z"
   },
   {
    "duration": 163,
    "start_time": "2023-04-20T17:20:08.543Z"
   },
   {
    "duration": 3,
    "start_time": "2023-04-20T17:20:08.707Z"
   },
   {
    "duration": 843,
    "start_time": "2023-04-20T17:20:08.711Z"
   },
   {
    "duration": 646,
    "start_time": "2023-04-20T17:20:09.556Z"
   },
   {
    "duration": 446,
    "start_time": "2023-04-20T17:20:10.204Z"
   },
   {
    "duration": 2,
    "start_time": "2023-04-20T17:20:10.652Z"
   },
   {
    "duration": 387,
    "start_time": "2023-04-20T17:20:10.656Z"
   },
   {
    "duration": 527,
    "start_time": "2023-04-20T17:20:11.045Z"
   },
   {
    "duration": 115,
    "start_time": "2023-04-20T17:20:11.574Z"
   },
   {
    "duration": 0,
    "start_time": "2023-04-20T17:20:11.692Z"
   },
   {
    "duration": 0,
    "start_time": "2023-04-20T17:20:11.693Z"
   },
   {
    "duration": 0,
    "start_time": "2023-04-20T17:20:11.694Z"
   },
   {
    "duration": 0,
    "start_time": "2023-04-20T17:20:11.695Z"
   },
   {
    "duration": 0,
    "start_time": "2023-04-20T17:20:11.696Z"
   },
   {
    "duration": 0,
    "start_time": "2023-04-20T17:20:11.697Z"
   },
   {
    "duration": 0,
    "start_time": "2023-04-20T17:20:11.698Z"
   },
   {
    "duration": 23,
    "start_time": "2023-04-20T17:25:39.401Z"
   },
   {
    "duration": 4,
    "start_time": "2023-04-20T17:25:53.072Z"
   },
   {
    "duration": 2,
    "start_time": "2023-04-20T17:34:37.242Z"
   },
   {
    "duration": 2,
    "start_time": "2023-04-20T17:34:40.215Z"
   },
   {
    "duration": 3,
    "start_time": "2023-04-20T17:34:47.382Z"
   },
   {
    "duration": 1187,
    "start_time": "2023-04-20T17:47:03.003Z"
   },
   {
    "duration": 64,
    "start_time": "2023-04-20T17:47:04.192Z"
   },
   {
    "duration": 24,
    "start_time": "2023-04-20T17:47:04.257Z"
   },
   {
    "duration": 3,
    "start_time": "2023-04-20T17:47:04.283Z"
   },
   {
    "duration": 16,
    "start_time": "2023-04-20T17:47:04.289Z"
   },
   {
    "duration": 30,
    "start_time": "2023-04-20T17:47:04.306Z"
   },
   {
    "duration": 88,
    "start_time": "2023-04-20T17:47:04.337Z"
   },
   {
    "duration": 17,
    "start_time": "2023-04-20T17:47:04.427Z"
   },
   {
    "duration": 8,
    "start_time": "2023-04-20T17:47:04.446Z"
   },
   {
    "duration": 248,
    "start_time": "2023-04-20T17:47:04.457Z"
   },
   {
    "duration": 1799,
    "start_time": "2023-04-20T17:47:04.707Z"
   },
   {
    "duration": 24,
    "start_time": "2023-04-20T17:47:06.508Z"
   },
   {
    "duration": 269,
    "start_time": "2023-04-20T17:47:06.534Z"
   },
   {
    "duration": 1429,
    "start_time": "2023-04-20T17:47:06.807Z"
   },
   {
    "duration": 230,
    "start_time": "2023-04-20T17:47:08.238Z"
   },
   {
    "duration": 155,
    "start_time": "2023-04-20T17:47:08.470Z"
   },
   {
    "duration": 2,
    "start_time": "2023-04-20T17:47:08.627Z"
   },
   {
    "duration": 11,
    "start_time": "2023-04-20T17:47:08.631Z"
   },
   {
    "duration": 845,
    "start_time": "2023-04-20T17:47:08.643Z"
   },
   {
    "duration": 641,
    "start_time": "2023-04-20T17:47:09.490Z"
   },
   {
    "duration": 416,
    "start_time": "2023-04-20T17:47:10.133Z"
   },
   {
    "duration": 3,
    "start_time": "2023-04-20T17:47:10.551Z"
   },
   {
    "duration": 367,
    "start_time": "2023-04-20T17:47:10.555Z"
   },
   {
    "duration": 459,
    "start_time": "2023-04-20T17:47:10.924Z"
   },
   {
    "duration": 2,
    "start_time": "2023-04-20T17:47:11.385Z"
   },
   {
    "duration": 18,
    "start_time": "2023-04-20T17:47:11.389Z"
   },
   {
    "duration": 35,
    "start_time": "2023-04-20T17:47:11.408Z"
   },
   {
    "duration": 34,
    "start_time": "2023-04-20T17:47:11.445Z"
   },
   {
    "duration": 18,
    "start_time": "2023-04-20T17:47:11.481Z"
   },
   {
    "duration": 39,
    "start_time": "2023-04-20T17:47:11.501Z"
   },
   {
    "duration": 151,
    "start_time": "2023-04-20T17:47:11.542Z"
   },
   {
    "duration": 131,
    "start_time": "2023-04-20T17:47:11.694Z"
   },
   {
    "duration": 51,
    "start_time": "2023-04-20T18:38:18.754Z"
   },
   {
    "duration": 1554,
    "start_time": "2023-04-20T18:38:27.699Z"
   },
   {
    "duration": 493,
    "start_time": "2023-04-20T18:38:29.255Z"
   },
   {
    "duration": 29,
    "start_time": "2023-04-20T18:38:29.750Z"
   },
   {
    "duration": 4,
    "start_time": "2023-04-20T18:38:29.781Z"
   },
   {
    "duration": 14,
    "start_time": "2023-04-20T18:38:29.786Z"
   },
   {
    "duration": 27,
    "start_time": "2023-04-20T18:38:29.802Z"
   },
   {
    "duration": 91,
    "start_time": "2023-04-20T18:38:29.831Z"
   },
   {
    "duration": 22,
    "start_time": "2023-04-20T18:38:29.924Z"
   },
   {
    "duration": 9,
    "start_time": "2023-04-20T18:38:29.949Z"
   },
   {
    "duration": 238,
    "start_time": "2023-04-20T18:38:29.989Z"
   },
   {
    "duration": 2407,
    "start_time": "2023-04-20T18:38:30.229Z"
   },
   {
    "duration": 78,
    "start_time": "2023-04-20T18:38:32.637Z"
   },
   {
    "duration": 616,
    "start_time": "2023-04-20T18:38:32.716Z"
   },
   {
    "duration": 2032,
    "start_time": "2023-04-20T18:38:33.334Z"
   },
   {
    "duration": 279,
    "start_time": "2023-04-20T18:38:35.367Z"
   },
   {
    "duration": 2,
    "start_time": "2023-04-20T18:38:35.649Z"
   },
   {
    "duration": 187,
    "start_time": "2023-04-20T18:38:35.653Z"
   },
   {
    "duration": 3,
    "start_time": "2023-04-20T18:38:35.842Z"
   },
   {
    "duration": 19,
    "start_time": "2023-04-20T18:38:35.847Z"
   },
   {
    "duration": 946,
    "start_time": "2023-04-20T18:38:35.868Z"
   },
   {
    "duration": 637,
    "start_time": "2023-04-20T18:38:36.816Z"
   },
   {
    "duration": 458,
    "start_time": "2023-04-20T18:38:37.454Z"
   },
   {
    "duration": 3,
    "start_time": "2023-04-20T18:38:37.915Z"
   },
   {
    "duration": 389,
    "start_time": "2023-04-20T18:38:37.920Z"
   },
   {
    "duration": 496,
    "start_time": "2023-04-20T18:38:38.311Z"
   },
   {
    "duration": 3,
    "start_time": "2023-04-20T18:38:38.809Z"
   },
   {
    "duration": 11,
    "start_time": "2023-04-20T18:38:38.814Z"
   },
   {
    "duration": 10,
    "start_time": "2023-04-20T18:38:38.828Z"
   },
   {
    "duration": 7,
    "start_time": "2023-04-20T18:38:38.840Z"
   },
   {
    "duration": 9,
    "start_time": "2023-04-20T18:38:38.849Z"
   },
   {
    "duration": 30,
    "start_time": "2023-04-20T18:38:38.860Z"
   },
   {
    "duration": 138,
    "start_time": "2023-04-20T18:38:38.892Z"
   },
   {
    "duration": 148,
    "start_time": "2023-04-20T18:38:39.031Z"
   },
   {
    "duration": 264,
    "start_time": "2023-04-20T18:38:47.125Z"
   },
   {
    "duration": 5,
    "start_time": "2023-04-20T18:40:47.538Z"
   },
   {
    "duration": 114,
    "start_time": "2023-04-20T18:43:33.909Z"
   },
   {
    "duration": 1239,
    "start_time": "2023-04-20T18:43:46.936Z"
   },
   {
    "duration": 103,
    "start_time": "2023-04-20T18:43:48.178Z"
   },
   {
    "duration": 44,
    "start_time": "2023-04-20T18:43:48.284Z"
   },
   {
    "duration": 4,
    "start_time": "2023-04-20T18:43:48.330Z"
   },
   {
    "duration": 62,
    "start_time": "2023-04-20T18:43:48.337Z"
   },
   {
    "duration": 37,
    "start_time": "2023-04-20T18:43:48.401Z"
   },
   {
    "duration": 217,
    "start_time": "2023-04-20T18:43:48.495Z"
   },
   {
    "duration": 19,
    "start_time": "2023-04-20T18:43:48.714Z"
   },
   {
    "duration": 66,
    "start_time": "2023-04-20T18:43:48.735Z"
   },
   {
    "duration": 600,
    "start_time": "2023-04-20T18:43:48.802Z"
   },
   {
    "duration": 3405,
    "start_time": "2023-04-20T18:43:49.406Z"
   },
   {
    "duration": 39,
    "start_time": "2023-04-20T18:43:52.820Z"
   },
   {
    "duration": 450,
    "start_time": "2023-04-20T18:43:52.861Z"
   },
   {
    "duration": 1973,
    "start_time": "2023-04-20T18:43:53.318Z"
   },
   {
    "duration": 374,
    "start_time": "2023-04-20T18:43:55.293Z"
   },
   {
    "duration": 4,
    "start_time": "2023-04-20T18:43:55.670Z"
   },
   {
    "duration": 292,
    "start_time": "2023-04-20T18:43:55.677Z"
   },
   {
    "duration": 3,
    "start_time": "2023-04-20T18:43:55.972Z"
   },
   {
    "duration": 34,
    "start_time": "2023-04-20T18:43:55.977Z"
   },
   {
    "duration": 6,
    "start_time": "2023-04-20T18:43:56.016Z"
   },
   {
    "duration": 0,
    "start_time": "2023-04-20T18:43:56.135Z"
   },
   {
    "duration": 0,
    "start_time": "2023-04-20T18:43:56.138Z"
   },
   {
    "duration": 0,
    "start_time": "2023-04-20T18:43:56.140Z"
   },
   {
    "duration": 0,
    "start_time": "2023-04-20T18:43:56.142Z"
   },
   {
    "duration": 0,
    "start_time": "2023-04-20T18:43:56.144Z"
   },
   {
    "duration": 0,
    "start_time": "2023-04-20T18:43:56.145Z"
   },
   {
    "duration": 0,
    "start_time": "2023-04-20T18:43:56.147Z"
   },
   {
    "duration": 0,
    "start_time": "2023-04-20T18:43:56.149Z"
   },
   {
    "duration": 0,
    "start_time": "2023-04-20T18:43:56.152Z"
   },
   {
    "duration": 0,
    "start_time": "2023-04-20T18:43:56.154Z"
   },
   {
    "duration": 0,
    "start_time": "2023-04-20T18:43:56.157Z"
   },
   {
    "duration": 0,
    "start_time": "2023-04-20T18:43:56.159Z"
   },
   {
    "duration": 0,
    "start_time": "2023-04-20T18:43:56.161Z"
   },
   {
    "duration": 0,
    "start_time": "2023-04-20T18:43:56.163Z"
   },
   {
    "duration": 82,
    "start_time": "2023-04-20T18:44:12.989Z"
   },
   {
    "duration": 1185,
    "start_time": "2023-04-20T18:44:48.784Z"
   },
   {
    "duration": 73,
    "start_time": "2023-04-20T19:07:40.151Z"
   },
   {
    "duration": 177,
    "start_time": "2023-04-20T19:08:29.855Z"
   },
   {
    "duration": 564,
    "start_time": "2023-04-20T19:12:55.789Z"
   },
   {
    "duration": 323,
    "start_time": "2023-04-20T19:13:59.366Z"
   },
   {
    "duration": 179,
    "start_time": "2023-04-20T19:19:49.916Z"
   },
   {
    "duration": 1238,
    "start_time": "2023-04-20T19:20:08.120Z"
   },
   {
    "duration": 68,
    "start_time": "2023-04-20T19:20:09.360Z"
   },
   {
    "duration": 29,
    "start_time": "2023-04-20T19:20:09.429Z"
   },
   {
    "duration": 4,
    "start_time": "2023-04-20T19:20:09.461Z"
   },
   {
    "duration": 28,
    "start_time": "2023-04-20T19:20:09.467Z"
   },
   {
    "duration": 41,
    "start_time": "2023-04-20T19:20:09.497Z"
   },
   {
    "duration": 90,
    "start_time": "2023-04-20T19:20:09.540Z"
   },
   {
    "duration": 19,
    "start_time": "2023-04-20T19:20:09.632Z"
   },
   {
    "duration": 38,
    "start_time": "2023-04-20T19:20:09.653Z"
   },
   {
    "duration": 229,
    "start_time": "2023-04-20T19:20:09.695Z"
   },
   {
    "duration": 1998,
    "start_time": "2023-04-20T19:20:09.926Z"
   },
   {
    "duration": 30,
    "start_time": "2023-04-20T19:20:11.926Z"
   },
   {
    "duration": 302,
    "start_time": "2023-04-20T19:20:11.958Z"
   },
   {
    "duration": 1547,
    "start_time": "2023-04-20T19:20:12.263Z"
   },
   {
    "duration": 280,
    "start_time": "2023-04-20T19:20:13.812Z"
   },
   {
    "duration": 3,
    "start_time": "2023-04-20T19:20:14.094Z"
   },
   {
    "duration": 209,
    "start_time": "2023-04-20T19:20:14.099Z"
   },
   {
    "duration": 174,
    "start_time": "2023-04-20T19:20:14.310Z"
   },
   {
    "duration": 3,
    "start_time": "2023-04-20T19:20:14.489Z"
   },
   {
    "duration": 31,
    "start_time": "2023-04-20T19:20:14.494Z"
   },
   {
    "duration": 11,
    "start_time": "2023-04-20T19:20:14.527Z"
   },
   {
    "duration": 1675,
    "start_time": "2023-04-20T19:20:14.539Z"
   },
   {
    "duration": 404,
    "start_time": "2023-04-20T19:20:16.216Z"
   },
   {
    "duration": 671,
    "start_time": "2023-04-20T19:20:16.622Z"
   },
   {
    "duration": 4,
    "start_time": "2023-04-20T19:20:17.295Z"
   },
   {
    "duration": 403,
    "start_time": "2023-04-20T19:20:17.301Z"
   },
   {
    "duration": 513,
    "start_time": "2023-04-20T19:20:17.706Z"
   },
   {
    "duration": 2,
    "start_time": "2023-04-20T19:20:18.223Z"
   },
   {
    "duration": 38,
    "start_time": "2023-04-20T19:20:18.227Z"
   },
   {
    "duration": 28,
    "start_time": "2023-04-20T19:20:18.267Z"
   },
   {
    "duration": 35,
    "start_time": "2023-04-20T19:20:18.297Z"
   },
   {
    "duration": 49,
    "start_time": "2023-04-20T19:20:18.334Z"
   },
   {
    "duration": 33,
    "start_time": "2023-04-20T19:20:18.385Z"
   },
   {
    "duration": 134,
    "start_time": "2023-04-20T19:20:18.420Z"
   },
   {
    "duration": 237,
    "start_time": "2023-04-20T19:20:18.555Z"
   },
   {
    "duration": 187,
    "start_time": "2023-04-20T19:20:21.199Z"
   },
   {
    "duration": 188,
    "start_time": "2023-04-20T19:22:22.732Z"
   },
   {
    "duration": 187,
    "start_time": "2023-04-20T19:27:02.021Z"
   },
   {
    "duration": 421,
    "start_time": "2023-04-20T19:38:43.037Z"
   },
   {
    "duration": 400,
    "start_time": "2023-04-20T19:40:01.723Z"
   },
   {
    "duration": 435,
    "start_time": "2023-04-20T19:40:56.885Z"
   },
   {
    "duration": 504,
    "start_time": "2023-04-20T19:42:32.054Z"
   },
   {
    "duration": 9,
    "start_time": "2023-04-20T19:57:48.087Z"
   },
   {
    "duration": 124,
    "start_time": "2023-04-20T20:10:47.300Z"
   },
   {
    "duration": 9,
    "start_time": "2023-04-20T20:14:52.581Z"
   },
   {
    "duration": 127,
    "start_time": "2023-04-20T20:18:24.168Z"
   },
   {
    "duration": 1467,
    "start_time": "2023-04-20T20:43:29.552Z"
   },
   {
    "duration": 87,
    "start_time": "2023-04-20T20:43:31.022Z"
   },
   {
    "duration": 28,
    "start_time": "2023-04-20T20:43:31.111Z"
   },
   {
    "duration": 73,
    "start_time": "2023-04-20T20:43:31.142Z"
   },
   {
    "duration": 68,
    "start_time": "2023-04-20T20:43:31.217Z"
   },
   {
    "duration": 56,
    "start_time": "2023-04-20T20:43:31.288Z"
   },
   {
    "duration": 152,
    "start_time": "2023-04-20T20:43:31.346Z"
   },
   {
    "duration": 16,
    "start_time": "2023-04-20T20:43:31.500Z"
   },
   {
    "duration": 7,
    "start_time": "2023-04-20T20:43:31.518Z"
   },
   {
    "duration": 429,
    "start_time": "2023-04-20T20:43:31.528Z"
   },
   {
    "duration": 1997,
    "start_time": "2023-04-20T20:43:31.959Z"
   },
   {
    "duration": 38,
    "start_time": "2023-04-20T20:43:33.958Z"
   },
   {
    "duration": 293,
    "start_time": "2023-04-20T20:43:33.998Z"
   },
   {
    "duration": 1577,
    "start_time": "2023-04-20T20:43:34.293Z"
   },
   {
    "duration": 281,
    "start_time": "2023-04-20T20:43:35.872Z"
   },
   {
    "duration": 3,
    "start_time": "2023-04-20T20:43:36.155Z"
   },
   {
    "duration": 184,
    "start_time": "2023-04-20T20:43:36.159Z"
   },
   {
    "duration": 184,
    "start_time": "2023-04-20T20:43:36.345Z"
   },
   {
    "duration": 3,
    "start_time": "2023-04-20T20:43:36.531Z"
   },
   {
    "duration": 5,
    "start_time": "2023-04-20T20:43:36.536Z"
   },
   {
    "duration": 4,
    "start_time": "2023-04-20T20:43:36.543Z"
   },
   {
    "duration": 1011,
    "start_time": "2023-04-20T20:43:36.549Z"
   },
   {
    "duration": 205,
    "start_time": "2023-04-20T20:43:37.562Z"
   },
   {
    "duration": 487,
    "start_time": "2023-04-20T20:43:37.769Z"
   },
   {
    "duration": 3,
    "start_time": "2023-04-20T20:43:38.258Z"
   },
   {
    "duration": 426,
    "start_time": "2023-04-20T20:43:38.263Z"
   },
   {
    "duration": 453,
    "start_time": "2023-04-20T20:43:38.691Z"
   },
   {
    "duration": 3,
    "start_time": "2023-04-20T20:43:39.147Z"
   },
   {
    "duration": 4,
    "start_time": "2023-04-20T20:43:39.152Z"
   },
   {
    "duration": 13,
    "start_time": "2023-04-20T20:43:39.157Z"
   },
   {
    "duration": 24,
    "start_time": "2023-04-20T20:43:39.172Z"
   },
   {
    "duration": 12,
    "start_time": "2023-04-20T20:43:39.199Z"
   },
   {
    "duration": 16,
    "start_time": "2023-04-20T20:43:39.213Z"
   },
   {
    "duration": 145,
    "start_time": "2023-04-20T20:43:39.231Z"
   },
   {
    "duration": 247,
    "start_time": "2023-04-20T20:43:39.378Z"
   },
   {
    "duration": 1192,
    "start_time": "2023-04-21T15:40:55.061Z"
   },
   {
    "duration": 64,
    "start_time": "2023-04-21T15:40:56.255Z"
   },
   {
    "duration": 24,
    "start_time": "2023-04-21T15:40:56.321Z"
   },
   {
    "duration": 3,
    "start_time": "2023-04-21T15:40:56.347Z"
   },
   {
    "duration": 25,
    "start_time": "2023-04-21T15:40:56.352Z"
   },
   {
    "duration": 31,
    "start_time": "2023-04-21T15:40:56.379Z"
   },
   {
    "duration": 81,
    "start_time": "2023-04-21T15:40:56.412Z"
   },
   {
    "duration": 14,
    "start_time": "2023-04-21T15:40:56.494Z"
   },
   {
    "duration": 6,
    "start_time": "2023-04-21T15:40:56.510Z"
   },
   {
    "duration": 221,
    "start_time": "2023-04-21T15:40:56.517Z"
   },
   {
    "duration": 1792,
    "start_time": "2023-04-21T15:40:56.740Z"
   },
   {
    "duration": 26,
    "start_time": "2023-04-21T15:40:58.534Z"
   },
   {
    "duration": 264,
    "start_time": "2023-04-21T15:40:58.562Z"
   },
   {
    "duration": 1431,
    "start_time": "2023-04-21T15:40:58.830Z"
   },
   {
    "duration": 255,
    "start_time": "2023-04-21T15:41:00.263Z"
   },
   {
    "duration": 2,
    "start_time": "2023-04-21T15:41:00.520Z"
   },
   {
    "duration": 219,
    "start_time": "2023-04-21T15:41:00.524Z"
   },
   {
    "duration": 165,
    "start_time": "2023-04-21T15:41:00.745Z"
   },
   {
    "duration": 2,
    "start_time": "2023-04-21T15:41:00.912Z"
   },
   {
    "duration": 42,
    "start_time": "2023-04-21T15:41:00.916Z"
   },
   {
    "duration": 29,
    "start_time": "2023-04-21T15:41:00.960Z"
   },
   {
    "duration": 1011,
    "start_time": "2023-04-21T15:41:00.991Z"
   },
   {
    "duration": 176,
    "start_time": "2023-04-21T15:41:02.004Z"
   },
   {
    "duration": 403,
    "start_time": "2023-04-21T15:41:02.182Z"
   },
   {
    "duration": 2,
    "start_time": "2023-04-21T15:41:02.587Z"
   },
   {
    "duration": 359,
    "start_time": "2023-04-21T15:41:02.591Z"
   },
   {
    "duration": 399,
    "start_time": "2023-04-21T15:41:02.952Z"
   },
   {
    "duration": 3,
    "start_time": "2023-04-21T15:41:03.353Z"
   },
   {
    "duration": 13,
    "start_time": "2023-04-21T15:41:03.357Z"
   },
   {
    "duration": 8,
    "start_time": "2023-04-21T15:41:03.372Z"
   },
   {
    "duration": 39,
    "start_time": "2023-04-21T15:41:03.382Z"
   },
   {
    "duration": 11,
    "start_time": "2023-04-21T15:41:03.423Z"
   },
   {
    "duration": 12,
    "start_time": "2023-04-21T15:41:03.436Z"
   },
   {
    "duration": 137,
    "start_time": "2023-04-21T15:41:03.450Z"
   },
   {
    "duration": 238,
    "start_time": "2023-04-21T15:41:03.589Z"
   },
   {
    "duration": 222,
    "start_time": "2023-04-21T15:56:11.329Z"
   },
   {
    "duration": 644,
    "start_time": "2023-04-21T16:02:03.748Z"
   }
  ],
  "kernelspec": {
   "display_name": "Python 3 (ipykernel)",
   "language": "python",
   "name": "python3"
  },
  "language_info": {
   "codemirror_mode": {
    "name": "ipython",
    "version": 3
   },
   "file_extension": ".py",
   "mimetype": "text/x-python",
   "name": "python",
   "nbconvert_exporter": "python",
   "pygments_lexer": "ipython3",
   "version": "3.9.5"
  },
  "toc": {
   "base_numbering": 1,
   "nav_menu": {},
   "number_sections": true,
   "sideBar": true,
   "skip_h1_title": true,
   "title_cell": "Table of Contents",
   "title_sidebar": "Contents",
   "toc_cell": false,
   "toc_position": {
    "height": "calc(100% - 180px)",
    "left": "10px",
    "top": "150px",
    "width": "173.932px"
   },
   "toc_section_display": true,
   "toc_window_display": true
  }
 },
 "nbformat": 4,
 "nbformat_minor": 4
}
